{
  "nbformat": 4,
  "nbformat_minor": 0,
  "metadata": {
    "colab": {
      "name": "LHC1.ipynb",
      "provenance": [],
      "collapsed_sections": [
        "L_2vOwFnoxRs",
        "AyTDSVE1o3Rg",
        "R9J087EfjM0u",
        "pkLtKmkalRgm",
        "rsGSUCXypIUk"
      ],
      "authorship_tag": "ABX9TyPlJPuJi3DvDGCBmeSWFVxc",
      "include_colab_link": true
    },
    "kernelspec": {
      "name": "python3",
      "display_name": "Python 3"
    },
    "language_info": {
      "name": "python"
    }
  },
  "cells": [
    {
      "cell_type": "markdown",
      "metadata": {
        "id": "view-in-github",
        "colab_type": "text"
      },
      "source": [
        "<a href=\"https://colab.research.google.com/github/AYUSH-11/Machine-Learning/blob/main/LHC1.ipynb\" target=\"_parent\"><img src=\"https://colab.research.google.com/assets/colab-badge.svg\" alt=\"Open In Colab\"/></a>"
      ]
    },
    {
      "cell_type": "code",
      "metadata": {
        "id": "HEdeHUYSlZs6"
      },
      "source": [
        "import numpy as np\n",
        "import pandas as pd\n",
        "import matplotlib.pyplot as plt"
      ],
      "execution_count": 1,
      "outputs": []
    },
    {
      "cell_type": "code",
      "metadata": {
        "colab": {
          "base_uri": "https://localhost:8080/"
        },
        "id": "8Os1t8Lmw4i5",
        "outputId": "e81da9dc-f5c8-4120-e742-ce82764274a0"
      },
      "source": [
        "from google.colab import drive  #to import Google drive data\n",
        "drive.mount('/content/drive') #to the drive data into colab cloud and enter the activation colab"
      ],
      "execution_count": 2,
      "outputs": [
        {
          "output_type": "stream",
          "text": [
            "Mounted at /content/drive\n"
          ],
          "name": "stdout"
        }
      ]
    },
    {
      "cell_type": "code",
      "metadata": {
        "colab": {
          "base_uri": "https://localhost:8080/"
        },
        "id": "dOcL2ODOw6ab",
        "outputId": "5d5c6aea-090c-4fcc-ce33-ca73f297de2f"
      },
      "source": [
        "cd /content/drive/\"My Drive/Colab Notebooks/LHC\""
      ],
      "execution_count": 3,
      "outputs": [
        {
          "output_type": "stream",
          "text": [
            "/content/drive/My Drive/Colab Notebooks/LHC\n"
          ],
          "name": "stdout"
        }
      ]
    },
    {
      "cell_type": "code",
      "metadata": {
        "id": "kFQnCJk0xG6o"
      },
      "source": [
        "dataset_confirmed = pd.read_csv('time_series_covid19_confirmed_global.csv')\n",
        "dataset_death = pd.read_csv('time_series_covid19_deaths_global.csv')\n",
        "dataset_recovered = pd.read_csv('time_series_covid19_recovered_global.csv')"
      ],
      "execution_count": 4,
      "outputs": []
    },
    {
      "cell_type": "code",
      "metadata": {
        "colab": {
          "base_uri": "https://localhost:8080/",
          "height": 247
        },
        "id": "2Yhh3-FCxo-P",
        "outputId": "fcb160a9-2c8f-4efe-b9c8-70f4052396e1"
      },
      "source": [
        "dataset_confirmed.head()"
      ],
      "execution_count": 5,
      "outputs": [
        {
          "output_type": "execute_result",
          "data": {
            "text/html": [
              "<div>\n",
              "<style scoped>\n",
              "    .dataframe tbody tr th:only-of-type {\n",
              "        vertical-align: middle;\n",
              "    }\n",
              "\n",
              "    .dataframe tbody tr th {\n",
              "        vertical-align: top;\n",
              "    }\n",
              "\n",
              "    .dataframe thead th {\n",
              "        text-align: right;\n",
              "    }\n",
              "</style>\n",
              "<table border=\"1\" class=\"dataframe\">\n",
              "  <thead>\n",
              "    <tr style=\"text-align: right;\">\n",
              "      <th></th>\n",
              "      <th>Province/State</th>\n",
              "      <th>Country/Region</th>\n",
              "      <th>Lat</th>\n",
              "      <th>Long</th>\n",
              "      <th>1/22/20</th>\n",
              "      <th>1/23/20</th>\n",
              "      <th>1/24/20</th>\n",
              "      <th>1/25/20</th>\n",
              "      <th>1/26/20</th>\n",
              "      <th>1/27/20</th>\n",
              "      <th>1/28/20</th>\n",
              "      <th>1/29/20</th>\n",
              "      <th>1/30/20</th>\n",
              "      <th>1/31/20</th>\n",
              "      <th>2/1/20</th>\n",
              "      <th>2/2/20</th>\n",
              "      <th>2/3/20</th>\n",
              "      <th>2/4/20</th>\n",
              "      <th>2/5/20</th>\n",
              "      <th>2/6/20</th>\n",
              "      <th>2/7/20</th>\n",
              "      <th>2/8/20</th>\n",
              "      <th>2/9/20</th>\n",
              "      <th>2/10/20</th>\n",
              "      <th>2/11/20</th>\n",
              "      <th>2/12/20</th>\n",
              "      <th>2/13/20</th>\n",
              "      <th>2/14/20</th>\n",
              "      <th>2/15/20</th>\n",
              "      <th>2/16/20</th>\n",
              "      <th>2/17/20</th>\n",
              "      <th>2/18/20</th>\n",
              "      <th>2/19/20</th>\n",
              "      <th>2/20/20</th>\n",
              "      <th>2/21/20</th>\n",
              "      <th>2/22/20</th>\n",
              "      <th>2/23/20</th>\n",
              "      <th>2/24/20</th>\n",
              "      <th>2/25/20</th>\n",
              "      <th>2/26/20</th>\n",
              "      <th>...</th>\n",
              "      <th>3/25/21</th>\n",
              "      <th>3/26/21</th>\n",
              "      <th>3/27/21</th>\n",
              "      <th>3/28/21</th>\n",
              "      <th>3/29/21</th>\n",
              "      <th>3/30/21</th>\n",
              "      <th>3/31/21</th>\n",
              "      <th>4/1/21</th>\n",
              "      <th>4/2/21</th>\n",
              "      <th>4/3/21</th>\n",
              "      <th>4/4/21</th>\n",
              "      <th>4/5/21</th>\n",
              "      <th>4/6/21</th>\n",
              "      <th>4/7/21</th>\n",
              "      <th>4/8/21</th>\n",
              "      <th>4/9/21</th>\n",
              "      <th>4/10/21</th>\n",
              "      <th>4/11/21</th>\n",
              "      <th>4/12/21</th>\n",
              "      <th>4/13/21</th>\n",
              "      <th>4/14/21</th>\n",
              "      <th>4/15/21</th>\n",
              "      <th>4/16/21</th>\n",
              "      <th>4/17/21</th>\n",
              "      <th>4/18/21</th>\n",
              "      <th>4/19/21</th>\n",
              "      <th>4/20/21</th>\n",
              "      <th>4/21/21</th>\n",
              "      <th>4/22/21</th>\n",
              "      <th>4/23/21</th>\n",
              "      <th>4/24/21</th>\n",
              "      <th>4/25/21</th>\n",
              "      <th>4/26/21</th>\n",
              "      <th>4/27/21</th>\n",
              "      <th>4/28/21</th>\n",
              "      <th>4/29/21</th>\n",
              "      <th>4/30/21</th>\n",
              "      <th>5/1/21</th>\n",
              "      <th>5/2/21</th>\n",
              "      <th>5/3/21</th>\n",
              "    </tr>\n",
              "  </thead>\n",
              "  <tbody>\n",
              "    <tr>\n",
              "      <th>0</th>\n",
              "      <td>NaN</td>\n",
              "      <td>Afghanistan</td>\n",
              "      <td>33.93911</td>\n",
              "      <td>67.709953</td>\n",
              "      <td>0</td>\n",
              "      <td>0</td>\n",
              "      <td>0</td>\n",
              "      <td>0</td>\n",
              "      <td>0</td>\n",
              "      <td>0</td>\n",
              "      <td>0</td>\n",
              "      <td>0</td>\n",
              "      <td>0</td>\n",
              "      <td>0</td>\n",
              "      <td>0</td>\n",
              "      <td>0</td>\n",
              "      <td>0</td>\n",
              "      <td>0</td>\n",
              "      <td>0</td>\n",
              "      <td>0</td>\n",
              "      <td>0</td>\n",
              "      <td>0</td>\n",
              "      <td>0</td>\n",
              "      <td>0</td>\n",
              "      <td>0</td>\n",
              "      <td>0</td>\n",
              "      <td>0</td>\n",
              "      <td>0</td>\n",
              "      <td>0</td>\n",
              "      <td>0</td>\n",
              "      <td>0</td>\n",
              "      <td>0</td>\n",
              "      <td>0</td>\n",
              "      <td>0</td>\n",
              "      <td>0</td>\n",
              "      <td>0</td>\n",
              "      <td>0</td>\n",
              "      <td>1</td>\n",
              "      <td>1</td>\n",
              "      <td>1</td>\n",
              "      <td>...</td>\n",
              "      <td>56226</td>\n",
              "      <td>56254</td>\n",
              "      <td>56290</td>\n",
              "      <td>56294</td>\n",
              "      <td>56322</td>\n",
              "      <td>56384</td>\n",
              "      <td>56454</td>\n",
              "      <td>56517</td>\n",
              "      <td>56572</td>\n",
              "      <td>56595</td>\n",
              "      <td>56676</td>\n",
              "      <td>56717</td>\n",
              "      <td>56779</td>\n",
              "      <td>56873</td>\n",
              "      <td>56943</td>\n",
              "      <td>57019</td>\n",
              "      <td>57144</td>\n",
              "      <td>57160</td>\n",
              "      <td>57242</td>\n",
              "      <td>57364</td>\n",
              "      <td>57492</td>\n",
              "      <td>57534</td>\n",
              "      <td>57612</td>\n",
              "      <td>57721</td>\n",
              "      <td>57793</td>\n",
              "      <td>57898</td>\n",
              "      <td>58037</td>\n",
              "      <td>58214</td>\n",
              "      <td>58312</td>\n",
              "      <td>58542</td>\n",
              "      <td>58730</td>\n",
              "      <td>58843</td>\n",
              "      <td>59015</td>\n",
              "      <td>59225</td>\n",
              "      <td>59370</td>\n",
              "      <td>59576</td>\n",
              "      <td>59745</td>\n",
              "      <td>59939</td>\n",
              "      <td>60122</td>\n",
              "      <td>60300</td>\n",
              "    </tr>\n",
              "    <tr>\n",
              "      <th>1</th>\n",
              "      <td>NaN</td>\n",
              "      <td>Albania</td>\n",
              "      <td>41.15330</td>\n",
              "      <td>20.168300</td>\n",
              "      <td>0</td>\n",
              "      <td>0</td>\n",
              "      <td>0</td>\n",
              "      <td>0</td>\n",
              "      <td>0</td>\n",
              "      <td>0</td>\n",
              "      <td>0</td>\n",
              "      <td>0</td>\n",
              "      <td>0</td>\n",
              "      <td>0</td>\n",
              "      <td>0</td>\n",
              "      <td>0</td>\n",
              "      <td>0</td>\n",
              "      <td>0</td>\n",
              "      <td>0</td>\n",
              "      <td>0</td>\n",
              "      <td>0</td>\n",
              "      <td>0</td>\n",
              "      <td>0</td>\n",
              "      <td>0</td>\n",
              "      <td>0</td>\n",
              "      <td>0</td>\n",
              "      <td>0</td>\n",
              "      <td>0</td>\n",
              "      <td>0</td>\n",
              "      <td>0</td>\n",
              "      <td>0</td>\n",
              "      <td>0</td>\n",
              "      <td>0</td>\n",
              "      <td>0</td>\n",
              "      <td>0</td>\n",
              "      <td>0</td>\n",
              "      <td>0</td>\n",
              "      <td>0</td>\n",
              "      <td>0</td>\n",
              "      <td>0</td>\n",
              "      <td>...</td>\n",
              "      <td>122767</td>\n",
              "      <td>123216</td>\n",
              "      <td>123641</td>\n",
              "      <td>124134</td>\n",
              "      <td>124419</td>\n",
              "      <td>124723</td>\n",
              "      <td>125157</td>\n",
              "      <td>125506</td>\n",
              "      <td>125842</td>\n",
              "      <td>126183</td>\n",
              "      <td>126531</td>\n",
              "      <td>126795</td>\n",
              "      <td>126936</td>\n",
              "      <td>127192</td>\n",
              "      <td>127509</td>\n",
              "      <td>127795</td>\n",
              "      <td>128155</td>\n",
              "      <td>128393</td>\n",
              "      <td>128518</td>\n",
              "      <td>128752</td>\n",
              "      <td>128959</td>\n",
              "      <td>129128</td>\n",
              "      <td>129307</td>\n",
              "      <td>129456</td>\n",
              "      <td>129594</td>\n",
              "      <td>129694</td>\n",
              "      <td>129842</td>\n",
              "      <td>129980</td>\n",
              "      <td>130114</td>\n",
              "      <td>130270</td>\n",
              "      <td>130409</td>\n",
              "      <td>130537</td>\n",
              "      <td>130606</td>\n",
              "      <td>130736</td>\n",
              "      <td>130859</td>\n",
              "      <td>130977</td>\n",
              "      <td>131085</td>\n",
              "      <td>131185</td>\n",
              "      <td>131238</td>\n",
              "      <td>131276</td>\n",
              "    </tr>\n",
              "    <tr>\n",
              "      <th>2</th>\n",
              "      <td>NaN</td>\n",
              "      <td>Algeria</td>\n",
              "      <td>28.03390</td>\n",
              "      <td>1.659600</td>\n",
              "      <td>0</td>\n",
              "      <td>0</td>\n",
              "      <td>0</td>\n",
              "      <td>0</td>\n",
              "      <td>0</td>\n",
              "      <td>0</td>\n",
              "      <td>0</td>\n",
              "      <td>0</td>\n",
              "      <td>0</td>\n",
              "      <td>0</td>\n",
              "      <td>0</td>\n",
              "      <td>0</td>\n",
              "      <td>0</td>\n",
              "      <td>0</td>\n",
              "      <td>0</td>\n",
              "      <td>0</td>\n",
              "      <td>0</td>\n",
              "      <td>0</td>\n",
              "      <td>0</td>\n",
              "      <td>0</td>\n",
              "      <td>0</td>\n",
              "      <td>0</td>\n",
              "      <td>0</td>\n",
              "      <td>0</td>\n",
              "      <td>0</td>\n",
              "      <td>0</td>\n",
              "      <td>0</td>\n",
              "      <td>0</td>\n",
              "      <td>0</td>\n",
              "      <td>0</td>\n",
              "      <td>0</td>\n",
              "      <td>0</td>\n",
              "      <td>0</td>\n",
              "      <td>0</td>\n",
              "      <td>1</td>\n",
              "      <td>1</td>\n",
              "      <td>...</td>\n",
              "      <td>116543</td>\n",
              "      <td>116657</td>\n",
              "      <td>116750</td>\n",
              "      <td>116836</td>\n",
              "      <td>116946</td>\n",
              "      <td>117061</td>\n",
              "      <td>117192</td>\n",
              "      <td>117304</td>\n",
              "      <td>117429</td>\n",
              "      <td>117524</td>\n",
              "      <td>117622</td>\n",
              "      <td>117739</td>\n",
              "      <td>117879</td>\n",
              "      <td>118004</td>\n",
              "      <td>118116</td>\n",
              "      <td>118251</td>\n",
              "      <td>118378</td>\n",
              "      <td>118516</td>\n",
              "      <td>118645</td>\n",
              "      <td>118799</td>\n",
              "      <td>118975</td>\n",
              "      <td>119142</td>\n",
              "      <td>119323</td>\n",
              "      <td>119486</td>\n",
              "      <td>119642</td>\n",
              "      <td>119805</td>\n",
              "      <td>119992</td>\n",
              "      <td>120174</td>\n",
              "      <td>120363</td>\n",
              "      <td>120562</td>\n",
              "      <td>120736</td>\n",
              "      <td>120922</td>\n",
              "      <td>121112</td>\n",
              "      <td>121344</td>\n",
              "      <td>121580</td>\n",
              "      <td>121866</td>\n",
              "      <td>122108</td>\n",
              "      <td>122311</td>\n",
              "      <td>122522</td>\n",
              "      <td>122717</td>\n",
              "    </tr>\n",
              "    <tr>\n",
              "      <th>3</th>\n",
              "      <td>NaN</td>\n",
              "      <td>Andorra</td>\n",
              "      <td>42.50630</td>\n",
              "      <td>1.521800</td>\n",
              "      <td>0</td>\n",
              "      <td>0</td>\n",
              "      <td>0</td>\n",
              "      <td>0</td>\n",
              "      <td>0</td>\n",
              "      <td>0</td>\n",
              "      <td>0</td>\n",
              "      <td>0</td>\n",
              "      <td>0</td>\n",
              "      <td>0</td>\n",
              "      <td>0</td>\n",
              "      <td>0</td>\n",
              "      <td>0</td>\n",
              "      <td>0</td>\n",
              "      <td>0</td>\n",
              "      <td>0</td>\n",
              "      <td>0</td>\n",
              "      <td>0</td>\n",
              "      <td>0</td>\n",
              "      <td>0</td>\n",
              "      <td>0</td>\n",
              "      <td>0</td>\n",
              "      <td>0</td>\n",
              "      <td>0</td>\n",
              "      <td>0</td>\n",
              "      <td>0</td>\n",
              "      <td>0</td>\n",
              "      <td>0</td>\n",
              "      <td>0</td>\n",
              "      <td>0</td>\n",
              "      <td>0</td>\n",
              "      <td>0</td>\n",
              "      <td>0</td>\n",
              "      <td>0</td>\n",
              "      <td>0</td>\n",
              "      <td>0</td>\n",
              "      <td>...</td>\n",
              "      <td>11687</td>\n",
              "      <td>11732</td>\n",
              "      <td>11809</td>\n",
              "      <td>11850</td>\n",
              "      <td>11888</td>\n",
              "      <td>11944</td>\n",
              "      <td>12010</td>\n",
              "      <td>12053</td>\n",
              "      <td>12115</td>\n",
              "      <td>12174</td>\n",
              "      <td>12231</td>\n",
              "      <td>12286</td>\n",
              "      <td>12328</td>\n",
              "      <td>12363</td>\n",
              "      <td>12409</td>\n",
              "      <td>12456</td>\n",
              "      <td>12497</td>\n",
              "      <td>12545</td>\n",
              "      <td>12581</td>\n",
              "      <td>12614</td>\n",
              "      <td>12641</td>\n",
              "      <td>12641</td>\n",
              "      <td>12712</td>\n",
              "      <td>12771</td>\n",
              "      <td>12805</td>\n",
              "      <td>12805</td>\n",
              "      <td>12874</td>\n",
              "      <td>12917</td>\n",
              "      <td>12942</td>\n",
              "      <td>13007</td>\n",
              "      <td>13024</td>\n",
              "      <td>13060</td>\n",
              "      <td>13083</td>\n",
              "      <td>13121</td>\n",
              "      <td>13148</td>\n",
              "      <td>13198</td>\n",
              "      <td>13232</td>\n",
              "      <td>13232</td>\n",
              "      <td>13282</td>\n",
              "      <td>13295</td>\n",
              "    </tr>\n",
              "    <tr>\n",
              "      <th>4</th>\n",
              "      <td>NaN</td>\n",
              "      <td>Angola</td>\n",
              "      <td>-11.20270</td>\n",
              "      <td>17.873900</td>\n",
              "      <td>0</td>\n",
              "      <td>0</td>\n",
              "      <td>0</td>\n",
              "      <td>0</td>\n",
              "      <td>0</td>\n",
              "      <td>0</td>\n",
              "      <td>0</td>\n",
              "      <td>0</td>\n",
              "      <td>0</td>\n",
              "      <td>0</td>\n",
              "      <td>0</td>\n",
              "      <td>0</td>\n",
              "      <td>0</td>\n",
              "      <td>0</td>\n",
              "      <td>0</td>\n",
              "      <td>0</td>\n",
              "      <td>0</td>\n",
              "      <td>0</td>\n",
              "      <td>0</td>\n",
              "      <td>0</td>\n",
              "      <td>0</td>\n",
              "      <td>0</td>\n",
              "      <td>0</td>\n",
              "      <td>0</td>\n",
              "      <td>0</td>\n",
              "      <td>0</td>\n",
              "      <td>0</td>\n",
              "      <td>0</td>\n",
              "      <td>0</td>\n",
              "      <td>0</td>\n",
              "      <td>0</td>\n",
              "      <td>0</td>\n",
              "      <td>0</td>\n",
              "      <td>0</td>\n",
              "      <td>0</td>\n",
              "      <td>0</td>\n",
              "      <td>...</td>\n",
              "      <td>21914</td>\n",
              "      <td>21961</td>\n",
              "      <td>22031</td>\n",
              "      <td>22063</td>\n",
              "      <td>22132</td>\n",
              "      <td>22182</td>\n",
              "      <td>22311</td>\n",
              "      <td>22399</td>\n",
              "      <td>22467</td>\n",
              "      <td>22579</td>\n",
              "      <td>22631</td>\n",
              "      <td>22717</td>\n",
              "      <td>22885</td>\n",
              "      <td>23010</td>\n",
              "      <td>23108</td>\n",
              "      <td>23242</td>\n",
              "      <td>23331</td>\n",
              "      <td>23457</td>\n",
              "      <td>23549</td>\n",
              "      <td>23697</td>\n",
              "      <td>23841</td>\n",
              "      <td>23951</td>\n",
              "      <td>24122</td>\n",
              "      <td>24300</td>\n",
              "      <td>24389</td>\n",
              "      <td>24518</td>\n",
              "      <td>24661</td>\n",
              "      <td>24883</td>\n",
              "      <td>25051</td>\n",
              "      <td>25279</td>\n",
              "      <td>25492</td>\n",
              "      <td>25609</td>\n",
              "      <td>25710</td>\n",
              "      <td>25942</td>\n",
              "      <td>26168</td>\n",
              "      <td>26431</td>\n",
              "      <td>26652</td>\n",
              "      <td>26815</td>\n",
              "      <td>26993</td>\n",
              "      <td>27133</td>\n",
              "    </tr>\n",
              "  </tbody>\n",
              "</table>\n",
              "<p>5 rows × 472 columns</p>\n",
              "</div>"
            ],
            "text/plain": [
              "  Province/State Country/Region       Lat  ...  5/1/21  5/2/21  5/3/21\n",
              "0            NaN    Afghanistan  33.93911  ...   59939   60122   60300\n",
              "1            NaN        Albania  41.15330  ...  131185  131238  131276\n",
              "2            NaN        Algeria  28.03390  ...  122311  122522  122717\n",
              "3            NaN        Andorra  42.50630  ...   13232   13282   13295\n",
              "4            NaN         Angola -11.20270  ...   26815   26993   27133\n",
              "\n",
              "[5 rows x 472 columns]"
            ]
          },
          "metadata": {
            "tags": []
          },
          "execution_count": 5
        }
      ]
    },
    {
      "cell_type": "code",
      "metadata": {
        "id": "Rdg9ziVzF536"
      },
      "source": [
        ""
      ],
      "execution_count": 5,
      "outputs": []
    },
    {
      "cell_type": "code",
      "metadata": {
        "id": "0s6bz1-P-eya"
      },
      "source": [
        "def makereport(country,column_name,dataset_confirmed,dataset_death,dataset_recovered):\n",
        "    dataset_confirmed = dataset_confirmed.loc[dataset_confirmed[column_name]==country]\n",
        "    dataset_death = dataset_death.loc[dataset_death[column_name]==country]\n",
        "    dataset_recovered = dataset_recovered.loc[dataset_recovered[column_name]==country]\n",
        "    print(dataset_confirmed)\n",
        "    print(dataset_death)\n",
        "    print(dataset_recovered)\n",
        "    dataset_confirmed=dataset_confirmed.iloc[:,4:]\n",
        "    dataset_death = dataset_death.iloc[:,4:]\n",
        "    dataset_recovered=dataset_recovered.iloc[:,4:]\n",
        "\n",
        "    dataset_confirmed = dataset_confirmed.T\n",
        "    dataset_death = dataset_death.T\n",
        "    dataset_recovered = dataset_recovered.T\n",
        "    column_name= list(dataset_confirmed.columns.values)\n",
        "    \n",
        "    dataset_confirmed=dataset_confirmed.rename(columns={column_name[0]:'confirmed'},inplace=False)\n",
        "    column_name= list(dataset_death.columns.values)\n",
        "    dataset_death=dataset_death.rename(columns={column_name[0]:'death'},inplace=False)\n",
        "    column_name= list(dataset_recovered.columns.values)\n",
        "    dataset_recovered=dataset_recovered.rename(columns={column_name[0]:'recovered'},inplace=False)\n",
        "\n",
        "    dataset = pd.concat([dataset_confirmed, dataset_death,dataset_recovered],axis=1)\n",
        "\n",
        "    plt.plot(dataset.index, dataset['confirmed'], label = \"confirmed\")\n",
        "    plt.plot(dataset.index, dataset['death'], label = \"Deaths\")\n",
        "    plt.plot(dataset.index, dataset['recovered'], label = \"recovered\")\n",
        "\n",
        "    plt.xlabel(\"Days \")\n",
        "    plt.ylabel(\"Cases Death,Recovered,Confirmed\")\n",
        "    plt.title(\"Covid-19\")\n",
        "    plt.legend()\n",
        "    plt.show()"
      ],
      "execution_count": 6,
      "outputs": []
    },
    {
      "cell_type": "markdown",
      "metadata": {
        "id": "L_2vOwFnoxRs"
      },
      "source": [
        "# Task 1"
      ]
    },
    {
      "cell_type": "code",
      "metadata": {
        "colab": {
          "base_uri": "https://localhost:8080/",
          "height": 0
        },
        "id": "mrZVxjj1BdOz",
        "outputId": "8d8358f2-e963-4de9-f484-ee0fed9cac90"
      },
      "source": [
        "makereport('India','Country/Region',dataset_confirmed,dataset_death,dataset_recovered)"
      ],
      "execution_count": 7,
      "outputs": [
        {
          "output_type": "stream",
          "text": [
            "    Province/State Country/Region        Lat  ...    5/1/21    5/2/21    5/3/21\n",
            "147            NaN          India  20.593684  ...  19557457  19925517  19925604\n",
            "\n",
            "[1 rows x 472 columns]\n",
            "    Province/State Country/Region        Lat  ...  5/1/21  5/2/21  5/3/21\n",
            "147            NaN          India  20.593684  ...  215542  218959  218959\n",
            "\n",
            "[1 rows x 472 columns]\n",
            "    Province/State Country/Region        Lat  ...    5/1/21    5/2/21    5/3/21\n",
            "132            NaN          India  20.593684  ...  15992271  16292725  16293003\n",
            "\n",
            "[1 rows x 472 columns]\n"
          ],
          "name": "stdout"
        },
        {
          "output_type": "display_data",
          "data": {
            "image/png": "[encoded data removed]",
            "text/plain": [
              "<Figure size 432x288 with 1 Axes>"
            ]
          },
          "metadata": {
            "tags": [],
            "needs_background": "light"
          }
        }
      ]
    },
    {
      "cell_type": "markdown",
      "metadata": {
        "id": "AyTDSVE1o3Rg"
      },
      "source": [
        "#Task 2"
      ]
    },
    {
      "cell_type": "code",
      "metadata": {
        "colab": {
          "base_uri": "https://localhost:8080/",
          "height": 0
        },
        "id": "5Z2sCKGzBfpS",
        "outputId": "7e8cb15c-084f-4956-e05f-470c6deba879"
      },
      "source": [
        "makereport('Italy','Country/Region',dataset_confirmed,dataset_death,dataset_recovered)"
      ],
      "execution_count": 8,
      "outputs": [
        {
          "output_type": "stream",
          "text": [
            "    Province/State Country/Region       Lat  ...   5/1/21   5/2/21   5/3/21\n",
            "153            NaN          Italy  41.87194  ...  4035617  4044762  4050708\n",
            "\n",
            "[1 rows x 472 columns]\n",
            "    Province/State Country/Region       Lat  ...  5/1/21  5/2/21  5/3/21\n",
            "153            NaN          Italy  41.87194  ...  121033  121177  121433\n",
            "\n",
            "[1 rows x 472 columns]\n",
            "    Province/State Country/Region       Lat  ...   5/1/21   5/2/21   5/3/21\n",
            "138            NaN          Italy  41.87194  ...  3484042  3492679  3505717\n",
            "\n",
            "[1 rows x 472 columns]\n"
          ],
          "name": "stdout"
        },
        {
          "output_type": "display_data",
          "data": {
            "image/png": "[encoded data removed]",
            "text/plain": [
              "<Figure size 432x288 with 1 Axes>"
            ]
          },
          "metadata": {
            "tags": [],
            "needs_background": "light"
          }
        }
      ]
    },
    {
      "cell_type": "code",
      "metadata": {
        "colab": {
          "base_uri": "https://localhost:8080/",
          "height": 0
        },
        "id": "8i5Hn8trCuCx",
        "outputId": "8b5e1802-6499-4bdc-d558-ba8caad4183d"
      },
      "source": [
        "makereport('US','Country/Region',dataset_confirmed,dataset_death,dataset_recovered)"
      ],
      "execution_count": 9,
      "outputs": [
        {
          "output_type": "stream",
          "text": [
            "    Province/State Country/Region   Lat  ...    5/1/21    5/2/21    5/3/21\n",
            "250            NaN             US  40.0  ...  32392274  32421641  32470920\n",
            "\n",
            "[1 rows x 472 columns]\n",
            "    Province/State Country/Region   Lat   Long  ...  4/30/21  5/1/21  5/2/21  5/3/21\n",
            "250            NaN             US  40.0 -100.0  ...   576328  576722  577045  577500\n",
            "\n",
            "[1 rows x 472 columns]\n",
            "    Province/State Country/Region   Lat   Long  ...  4/30/21  5/1/21  5/2/21  5/3/21\n",
            "235            NaN             US  40.0 -100.0  ...        0       0       0       0\n",
            "\n",
            "[1 rows x 472 columns]\n"
          ],
          "name": "stdout"
        },
        {
          "output_type": "display_data",
          "data": {
            "image/png": "[encoded data removed]",
            "text/plain": [
              "<Figure size 432x288 with 1 Axes>"
            ]
          },
          "metadata": {
            "tags": [],
            "needs_background": "light"
          }
        }
      ]
    },
    {
      "cell_type": "markdown",
      "metadata": {
        "id": "uPUCKCHro9fa"
      },
      "source": [
        "# Task 3"
      ]
    },
    {
      "cell_type": "code",
      "metadata": {
        "colab": {
          "base_uri": "https://localhost:8080/"
        },
        "id": "b0e5J8RsDUX2",
        "outputId": "e8e4501b-4e43-454e-becb-c572b2d161fc"
      },
      "source": [
        "country= \"India\"\n",
        "column_name = \"Country/Region\"\n",
        "dataset_confirmed = dataset_confirmed.loc[dataset_confirmed[column_name]==country]\n",
        "dataset_death = dataset_death.loc[dataset_death[column_name]==country]\n",
        "dataset_recovered = dataset_recovered.loc[dataset_recovered[column_name]==country]\n",
        "print(dataset_confirmed)\n",
        "print(dataset_death)\n",
        "print(dataset_recovered)\n",
        "dataset_confirmed=dataset_confirmed.iloc[:,4:]\n",
        "dataset_death = dataset_death.iloc[:,4:]\n",
        "dataset_recovered=dataset_recovered.iloc[:,4:]\n",
        "\n",
        "dataset_confirmed = dataset_confirmed.T\n",
        "dataset_death = dataset_death.T\n",
        "dataset_recovered = dataset_recovered.T\n",
        "column_name= list(dataset_confirmed.columns.values)\n",
        "\n",
        "dataset_confirmed=dataset_confirmed.rename(columns={column_name[0]:'confirmed'},inplace=False)\n",
        "column_name= list(dataset_death.columns.values)\n",
        "dataset_death=dataset_death.rename(columns={column_name[0]:'death'},inplace=False)\n",
        "column_name= list(dataset_recovered.columns.values)\n",
        "dataset_recovered=dataset_recovered.rename(columns={column_name[0]:'recovered'},inplace=False)\n",
        "\n",
        "dataset_india = pd.concat([dataset_confirmed, dataset_death,dataset_recovered],axis=1)"
      ],
      "execution_count": 10,
      "outputs": [
        {
          "output_type": "stream",
          "text": [
            "    Province/State Country/Region        Lat  ...    5/1/21    5/2/21    5/3/21\n",
            "147            NaN          India  20.593684  ...  19557457  19925517  19925604\n",
            "\n",
            "[1 rows x 472 columns]\n",
            "    Province/State Country/Region        Lat  ...  5/1/21  5/2/21  5/3/21\n",
            "147            NaN          India  20.593684  ...  215542  218959  218959\n",
            "\n",
            "[1 rows x 472 columns]\n",
            "    Province/State Country/Region        Lat  ...    5/1/21    5/2/21    5/3/21\n",
            "132            NaN          India  20.593684  ...  15992271  16292725  16293003\n",
            "\n",
            "[1 rows x 472 columns]\n"
          ],
          "name": "stdout"
        }
      ]
    },
    {
      "cell_type": "code",
      "metadata": {
        "id": "p7fsEJ6JEWZB"
      },
      "source": [
        "data = [i for  i in range(1,469)]\n",
        "India_confirmed_regression = dataset_india"
      ],
      "execution_count": 11,
      "outputs": []
    },
    {
      "cell_type": "code",
      "metadata": {
        "id": "lcSRNdjjFaqL"
      },
      "source": [
        "India_confirmed_regression.insert(0, \"Feature\", data, True)\n",
        "India_confirmed_regression_feature = India_confirmed_regression.iloc[:,0:1]\n",
        "India_confirmed_regression_target= India_confirmed_regression.iloc[:,1:2]"
      ],
      "execution_count": 12,
      "outputs": []
    },
    {
      "cell_type": "code",
      "metadata": {
        "colab": {
          "base_uri": "https://localhost:8080/",
          "height": 407
        },
        "id": "5dbZWa64LU23",
        "outputId": "5a23c409-36e6-4b5b-aa8f-99a3b9acbe9c"
      },
      "source": [
        "India_confirmed_regression_target"
      ],
      "execution_count": 13,
      "outputs": [
        {
          "output_type": "execute_result",
          "data": {
            "text/html": [
              "<div>\n",
              "<style scoped>\n",
              "    .dataframe tbody tr th:only-of-type {\n",
              "        vertical-align: middle;\n",
              "    }\n",
              "\n",
              "    .dataframe tbody tr th {\n",
              "        vertical-align: top;\n",
              "    }\n",
              "\n",
              "    .dataframe thead th {\n",
              "        text-align: right;\n",
              "    }\n",
              "</style>\n",
              "<table border=\"1\" class=\"dataframe\">\n",
              "  <thead>\n",
              "    <tr style=\"text-align: right;\">\n",
              "      <th></th>\n",
              "      <th>confirmed</th>\n",
              "    </tr>\n",
              "  </thead>\n",
              "  <tbody>\n",
              "    <tr>\n",
              "      <th>1/22/20</th>\n",
              "      <td>0</td>\n",
              "    </tr>\n",
              "    <tr>\n",
              "      <th>1/23/20</th>\n",
              "      <td>0</td>\n",
              "    </tr>\n",
              "    <tr>\n",
              "      <th>1/24/20</th>\n",
              "      <td>0</td>\n",
              "    </tr>\n",
              "    <tr>\n",
              "      <th>1/25/20</th>\n",
              "      <td>0</td>\n",
              "    </tr>\n",
              "    <tr>\n",
              "      <th>1/26/20</th>\n",
              "      <td>0</td>\n",
              "    </tr>\n",
              "    <tr>\n",
              "      <th>...</th>\n",
              "      <td>...</td>\n",
              "    </tr>\n",
              "    <tr>\n",
              "      <th>4/29/21</th>\n",
              "      <td>18762976</td>\n",
              "    </tr>\n",
              "    <tr>\n",
              "      <th>4/30/21</th>\n",
              "      <td>19164969</td>\n",
              "    </tr>\n",
              "    <tr>\n",
              "      <th>5/1/21</th>\n",
              "      <td>19557457</td>\n",
              "    </tr>\n",
              "    <tr>\n",
              "      <th>5/2/21</th>\n",
              "      <td>19925517</td>\n",
              "    </tr>\n",
              "    <tr>\n",
              "      <th>5/3/21</th>\n",
              "      <td>19925604</td>\n",
              "    </tr>\n",
              "  </tbody>\n",
              "</table>\n",
              "<p>468 rows × 1 columns</p>\n",
              "</div>"
            ],
            "text/plain": [
              "         confirmed\n",
              "1/22/20          0\n",
              "1/23/20          0\n",
              "1/24/20          0\n",
              "1/25/20          0\n",
              "1/26/20          0\n",
              "...            ...\n",
              "4/29/21   18762976\n",
              "4/30/21   19164969\n",
              "5/1/21    19557457\n",
              "5/2/21    19925517\n",
              "5/3/21    19925604\n",
              "\n",
              "[468 rows x 1 columns]"
            ]
          },
          "metadata": {
            "tags": []
          },
          "execution_count": 13
        }
      ]
    },
    {
      "cell_type": "code",
      "metadata": {
        "colab": {
          "base_uri": "https://localhost:8080/"
        },
        "id": "LDodiW6oHvvs",
        "outputId": "196fbb0f-5843-4cdf-8e26-441fc069b0d5"
      },
      "source": [
        "from sklearn.linear_model import LinearRegression\n",
        "model = LinearRegression().fit(India_confirmed_regression_feature, India_confirmed_regression_target)\n",
        "x = np.array([469]).reshape(-1, 1)\n",
        "India_cases = int(model.predict(x))\n",
        "print(India_cases)"
      ],
      "execution_count": 14,
      "outputs": [
        {
          "output_type": "stream",
          "text": [
            "14221178\n"
          ],
          "name": "stdout"
        }
      ]
    },
    {
      "cell_type": "code",
      "metadata": {
        "colab": {
          "base_uri": "https://localhost:8080/"
        },
        "id": "S3xdb8mtuZCj",
        "outputId": "4367d324-ceea-4186-838b-61c63340be6f"
      },
      "source": [
        "from sklearn.preprocessing import PolynomialFeatures\n",
        "poly = PolynomialFeatures(degree = 6)\n",
        "X_poly = poly.fit_transform(India_confirmed_regression_feature)\n",
        "poly = poly.fit(X_poly, India_confirmed_regression_target)\n",
        "lin2 = LinearRegression()\n",
        "lin2.fit(X_poly, India_confirmed_regression_target)\n",
        "x = np.array([469]).reshape(-1, 1)\n",
        "y = np.array([468]).reshape(-1, 1)\n",
        "\n",
        "India_cases_4_may = int(lin2.predict(poly.fit_transform(x)) - lin2.predict(poly.fit_transform(y)))\n",
        "print(India_cases_4_may)"
      ],
      "execution_count": 15,
      "outputs": [
        {
          "output_type": "stream",
          "text": [
            "359942\n"
          ],
          "name": "stdout"
        }
      ]
    },
    {
      "cell_type": "markdown",
      "metadata": {
        "id": "fEVD5toFWSYG"
      },
      "source": [
        "# Task 4"
      ]
    },
    {
      "cell_type": "code",
      "metadata": {
        "colab": {
          "base_uri": "https://localhost:8080/"
        },
        "id": "GmZ5_GmjLG1n",
        "outputId": "a85efd09-2d99-4a47-a9c7-8c1a9cb4be6f"
      },
      "source": [
        "import os\n",
        "import glob\n",
        "import pandas as pd\n",
        "\n",
        "location = \"Data_everyDay_march_april\"\n",
        "\n",
        "file_name = []\n",
        "for file in os.listdir(location):\n",
        "         file_name.append(file)\n",
        "         \n",
        "print(file_name)\n",
        "\n",
        "#combine all files in the list\n",
        "combined_csv = pd.concat([pd.read_csv(\"Data_everyDay_march_april/\"+f) for f in file_name ])\n",
        "#export to csv\n",
        "combined_csv.to_csv( \"combined_csv.csv\", index=False, encoding='utf-8-sig')"
      ],
      "execution_count": 16,
      "outputs": [
        {
          "output_type": "stream",
          "text": [
            "['03-01-2021.csv', '03-02-2021.csv', '03-03-2021.csv', '03-04-2021.csv', '03-05-2021.csv', '03-06-2021.csv', '03-07-2021.csv', '03-08-2021.csv', '03-09-2021.csv', '03-10-2021.csv', '03-11-2021.csv', '03-13-2021.csv', '04-01-2021.csv', '04-02-2021.csv', '04-03-2021.csv', '04-04-2021.csv', '04-05-2021.csv', '04-06-2021.csv', '04-07-2021.csv', '04-08-2021.csv', '04-09-2021.csv', '04-10-2021.csv', '04-11-2021.csv', '03-12-2021.csv', '04-12-2021.csv', '03-14-2021.csv', '03-15-2021.csv', '03-16-2021.csv', '04-13-2021.csv', '03-17-2021.csv', '03-18-2020.csv', '03-19-2020.csv', '04-14-2021.csv', '03-20-2020.csv', '03-21-2020.csv', '04-15-2021.csv', '03-22-2020.csv', '04-16-2021.csv', '04-17-2021.csv', '04-18-2021.csv', '04-19-2021.csv', '04-20-2021.csv', '04-21-2021.csv', '04-22-2021.csv', '04-23-2021.csv', '04-24-2021.csv', '04-25-2021.csv', '04-26-2021.csv', '04-27-2021.csv', '04-28-2021.csv', '04-29-2021.csv', '03-23-2021.csv', '03-24-2021.csv', '03-25-2021.csv', '04-30-2021.csv', '03-26-2021.csv', '03-27-2021.csv', '03-28-2021.csv', '05-01-2021.csv', '05-02-2021.csv', '03-29-2021.csv', '03-30-2021.csv', '05-03-2021.csv', '03-31-2021.csv', '03-18-2021.csv', '03-19-2021.csv', '03-20-2021.csv', '03-21-2021.csv', '03-22-2021.csv']\n"
          ],
          "name": "stdout"
        }
      ]
    },
    {
      "cell_type": "code",
      "metadata": {
        "id": "DEsHGcE1WUG5"
      },
      "source": [
        "combined_csv = combined_csv.loc[combined_csv['Country_Region']==\"India\"]\n",
        "combined_csv = combined_csv.sort_values(by=\"Last_Update\")"
      ],
      "execution_count": 17,
      "outputs": []
    },
    {
      "cell_type": "code",
      "metadata": {
        "colab": {
          "base_uri": "https://localhost:8080/",
          "height": 635
        },
        "id": "S3QgBA4i8d0k",
        "outputId": "d886bdbc-5864-41a5-e4da-483c162224f2"
      },
      "source": [
        "combined_csv"
      ],
      "execution_count": 18,
      "outputs": [
        {
          "output_type": "execute_result",
          "data": {
            "text/html": [
              "<div>\n",
              "<style scoped>\n",
              "    .dataframe tbody tr th:only-of-type {\n",
              "        vertical-align: middle;\n",
              "    }\n",
              "\n",
              "    .dataframe tbody tr th {\n",
              "        vertical-align: top;\n",
              "    }\n",
              "\n",
              "    .dataframe thead th {\n",
              "        text-align: right;\n",
              "    }\n",
              "</style>\n",
              "<table border=\"1\" class=\"dataframe\">\n",
              "  <thead>\n",
              "    <tr style=\"text-align: right;\">\n",
              "      <th></th>\n",
              "      <th>FIPS</th>\n",
              "      <th>Admin2</th>\n",
              "      <th>Province_State</th>\n",
              "      <th>Country_Region</th>\n",
              "      <th>Last_Update</th>\n",
              "      <th>Lat</th>\n",
              "      <th>Long_</th>\n",
              "      <th>Confirmed</th>\n",
              "      <th>Deaths</th>\n",
              "      <th>Recovered</th>\n",
              "      <th>Active</th>\n",
              "      <th>Combined_Key</th>\n",
              "      <th>Incident_Rate</th>\n",
              "      <th>Case_Fatality_Ratio</th>\n",
              "      <th>Province/State</th>\n",
              "      <th>Country/Region</th>\n",
              "      <th>Last Update</th>\n",
              "      <th>Latitude</th>\n",
              "      <th>Longitude</th>\n",
              "    </tr>\n",
              "  </thead>\n",
              "  <tbody>\n",
              "    <tr>\n",
              "      <th>249</th>\n",
              "      <td>NaN</td>\n",
              "      <td>NaN</td>\n",
              "      <td>Andaman and Nicobar Islands</td>\n",
              "      <td>India</td>\n",
              "      <td>2021-03-02 05:23:30</td>\n",
              "      <td>11.225999</td>\n",
              "      <td>92.968178</td>\n",
              "      <td>5020</td>\n",
              "      <td>62</td>\n",
              "      <td>4952.0</td>\n",
              "      <td>6.0</td>\n",
              "      <td>Andaman and Nicobar Islands, India</td>\n",
              "      <td>1203.733011</td>\n",
              "      <td>1.235060</td>\n",
              "      <td>NaN</td>\n",
              "      <td>NaN</td>\n",
              "      <td>NaN</td>\n",
              "      <td>NaN</td>\n",
              "      <td>NaN</td>\n",
              "    </tr>\n",
              "    <tr>\n",
              "      <th>270</th>\n",
              "      <td>NaN</td>\n",
              "      <td>NaN</td>\n",
              "      <td>Manipur</td>\n",
              "      <td>India</td>\n",
              "      <td>2021-03-02 05:23:30</td>\n",
              "      <td>24.738975</td>\n",
              "      <td>93.882541</td>\n",
              "      <td>29274</td>\n",
              "      <td>373</td>\n",
              "      <td>28871.0</td>\n",
              "      <td>30.0</td>\n",
              "      <td>Manipur, India</td>\n",
              "      <td>946.905188</td>\n",
              "      <td>1.274168</td>\n",
              "      <td>NaN</td>\n",
              "      <td>NaN</td>\n",
              "      <td>NaN</td>\n",
              "      <td>NaN</td>\n",
              "      <td>NaN</td>\n",
              "    </tr>\n",
              "    <tr>\n",
              "      <th>271</th>\n",
              "      <td>NaN</td>\n",
              "      <td>NaN</td>\n",
              "      <td>Meghalaya</td>\n",
              "      <td>India</td>\n",
              "      <td>2021-03-02 05:23:30</td>\n",
              "      <td>25.536934</td>\n",
              "      <td>91.278882</td>\n",
              "      <td>13963</td>\n",
              "      <td>148</td>\n",
              "      <td>13798.0</td>\n",
              "      <td>17.0</td>\n",
              "      <td>Meghalaya, India</td>\n",
              "      <td>414.737236</td>\n",
              "      <td>1.059944</td>\n",
              "      <td>NaN</td>\n",
              "      <td>NaN</td>\n",
              "      <td>NaN</td>\n",
              "      <td>NaN</td>\n",
              "      <td>NaN</td>\n",
              "    </tr>\n",
              "    <tr>\n",
              "      <th>272</th>\n",
              "      <td>NaN</td>\n",
              "      <td>NaN</td>\n",
              "      <td>Mizoram</td>\n",
              "      <td>India</td>\n",
              "      <td>2021-03-02 05:23:30</td>\n",
              "      <td>23.309381</td>\n",
              "      <td>92.838220</td>\n",
              "      <td>4426</td>\n",
              "      <td>10</td>\n",
              "      <td>4396.0</td>\n",
              "      <td>20.0</td>\n",
              "      <td>Mizoram, India</td>\n",
              "      <td>357.153232</td>\n",
              "      <td>0.225938</td>\n",
              "      <td>NaN</td>\n",
              "      <td>NaN</td>\n",
              "      <td>NaN</td>\n",
              "      <td>NaN</td>\n",
              "      <td>NaN</td>\n",
              "    </tr>\n",
              "    <tr>\n",
              "      <th>273</th>\n",
              "      <td>NaN</td>\n",
              "      <td>NaN</td>\n",
              "      <td>Nagaland</td>\n",
              "      <td>India</td>\n",
              "      <td>2021-03-02 05:23:30</td>\n",
              "      <td>26.067020</td>\n",
              "      <td>94.470302</td>\n",
              "      <td>12200</td>\n",
              "      <td>91</td>\n",
              "      <td>12102.0</td>\n",
              "      <td>7.0</td>\n",
              "      <td>Nagaland, India</td>\n",
              "      <td>542.295733</td>\n",
              "      <td>0.745902</td>\n",
              "      <td>NaN</td>\n",
              "      <td>NaN</td>\n",
              "      <td>NaN</td>\n",
              "      <td>NaN</td>\n",
              "      <td>NaN</td>\n",
              "    </tr>\n",
              "    <tr>\n",
              "      <th>...</th>\n",
              "      <td>...</td>\n",
              "      <td>...</td>\n",
              "      <td>...</td>\n",
              "      <td>...</td>\n",
              "      <td>...</td>\n",
              "      <td>...</td>\n",
              "      <td>...</td>\n",
              "      <td>...</td>\n",
              "      <td>...</td>\n",
              "      <td>...</td>\n",
              "      <td>...</td>\n",
              "      <td>...</td>\n",
              "      <td>...</td>\n",
              "      <td>...</td>\n",
              "      <td>...</td>\n",
              "      <td>...</td>\n",
              "      <td>...</td>\n",
              "      <td>...</td>\n",
              "      <td>...</td>\n",
              "    </tr>\n",
              "    <tr>\n",
              "      <th>264</th>\n",
              "      <td>NaN</td>\n",
              "      <td>NaN</td>\n",
              "      <td>Karnataka</td>\n",
              "      <td>India</td>\n",
              "      <td>2021-05-04 04:20:34</td>\n",
              "      <td>14.705180</td>\n",
              "      <td>76.166436</td>\n",
              "      <td>1601865</td>\n",
              "      <td>16011</td>\n",
              "      <td>1164398.0</td>\n",
              "      <td>421456.0</td>\n",
              "      <td>Karnataka, India</td>\n",
              "      <td>2370.931493</td>\n",
              "      <td>0.999522</td>\n",
              "      <td>NaN</td>\n",
              "      <td>NaN</td>\n",
              "      <td>NaN</td>\n",
              "      <td>NaN</td>\n",
              "      <td>NaN</td>\n",
              "    </tr>\n",
              "    <tr>\n",
              "      <th>265</th>\n",
              "      <td>NaN</td>\n",
              "      <td>NaN</td>\n",
              "      <td>Kerala</td>\n",
              "      <td>India</td>\n",
              "      <td>2021-05-04 04:20:34</td>\n",
              "      <td>10.450898</td>\n",
              "      <td>76.405749</td>\n",
              "      <td>1638778</td>\n",
              "      <td>5405</td>\n",
              "      <td>1293590.0</td>\n",
              "      <td>339783.0</td>\n",
              "      <td>Kerala, India</td>\n",
              "      <td>4590.486188</td>\n",
              "      <td>0.329819</td>\n",
              "      <td>NaN</td>\n",
              "      <td>NaN</td>\n",
              "      <td>NaN</td>\n",
              "      <td>NaN</td>\n",
              "      <td>NaN</td>\n",
              "    </tr>\n",
              "    <tr>\n",
              "      <th>266</th>\n",
              "      <td>NaN</td>\n",
              "      <td>NaN</td>\n",
              "      <td>Ladakh</td>\n",
              "      <td>India</td>\n",
              "      <td>2021-05-04 04:20:34</td>\n",
              "      <td>34.152600</td>\n",
              "      <td>77.577100</td>\n",
              "      <td>14226</td>\n",
              "      <td>145</td>\n",
              "      <td>12735.0</td>\n",
              "      <td>1346.0</td>\n",
              "      <td>Ladakh, India</td>\n",
              "      <td>5186.500370</td>\n",
              "      <td>1.019261</td>\n",
              "      <td>NaN</td>\n",
              "      <td>NaN</td>\n",
              "      <td>NaN</td>\n",
              "      <td>NaN</td>\n",
              "      <td>NaN</td>\n",
              "    </tr>\n",
              "    <tr>\n",
              "      <th>250</th>\n",
              "      <td>NaN</td>\n",
              "      <td>NaN</td>\n",
              "      <td>Andhra Pradesh</td>\n",
              "      <td>India</td>\n",
              "      <td>2021-05-04 04:20:34</td>\n",
              "      <td>15.912900</td>\n",
              "      <td>79.740000</td>\n",
              "      <td>1145022</td>\n",
              "      <td>8136</td>\n",
              "      <td>993708.0</td>\n",
              "      <td>143178.0</td>\n",
              "      <td>Andhra Pradesh, India</td>\n",
              "      <td>2124.211365</td>\n",
              "      <td>0.710554</td>\n",
              "      <td>NaN</td>\n",
              "      <td>NaN</td>\n",
              "      <td>NaN</td>\n",
              "      <td>NaN</td>\n",
              "      <td>NaN</td>\n",
              "    </tr>\n",
              "    <tr>\n",
              "      <th>3272</th>\n",
              "      <td>NaN</td>\n",
              "      <td>NaN</td>\n",
              "      <td>NaN</td>\n",
              "      <td>India</td>\n",
              "      <td>3/22/20 23:45</td>\n",
              "      <td>20.593684</td>\n",
              "      <td>78.962880</td>\n",
              "      <td>396</td>\n",
              "      <td>7</td>\n",
              "      <td>24.0</td>\n",
              "      <td>365.0</td>\n",
              "      <td>India</td>\n",
              "      <td>NaN</td>\n",
              "      <td>NaN</td>\n",
              "      <td>NaN</td>\n",
              "      <td>NaN</td>\n",
              "      <td>NaN</td>\n",
              "      <td>NaN</td>\n",
              "      <td>NaN</td>\n",
              "    </tr>\n",
              "  </tbody>\n",
              "</table>\n",
              "<p>2369 rows × 19 columns</p>\n",
              "</div>"
            ],
            "text/plain": [
              "      FIPS Admin2               Province_State  ... Last Update Latitude  Longitude\n",
              "249    NaN    NaN  Andaman and Nicobar Islands  ...         NaN      NaN        NaN\n",
              "270    NaN    NaN                      Manipur  ...         NaN      NaN        NaN\n",
              "271    NaN    NaN                    Meghalaya  ...         NaN      NaN        NaN\n",
              "272    NaN    NaN                      Mizoram  ...         NaN      NaN        NaN\n",
              "273    NaN    NaN                     Nagaland  ...         NaN      NaN        NaN\n",
              "...    ...    ...                          ...  ...         ...      ...        ...\n",
              "264    NaN    NaN                    Karnataka  ...         NaN      NaN        NaN\n",
              "265    NaN    NaN                       Kerala  ...         NaN      NaN        NaN\n",
              "266    NaN    NaN                       Ladakh  ...         NaN      NaN        NaN\n",
              "250    NaN    NaN               Andhra Pradesh  ...         NaN      NaN        NaN\n",
              "3272   NaN    NaN                          NaN  ...         NaN      NaN        NaN\n",
              "\n",
              "[2369 rows x 19 columns]"
            ]
          },
          "metadata": {
            "tags": []
          },
          "execution_count": 18
        }
      ]
    },
    {
      "cell_type": "code",
      "metadata": {
        "colab": {
          "base_uri": "https://localhost:8080/"
        },
        "id": "S7dOk-dZdQz5",
        "outputId": "a8d113f1-7c32-4613-8a05-57b98c6531df"
      },
      "source": [
        "dataset_gujrat = combined_csv.loc[combined_csv['Province_State']==\"Gujarat\"]\n",
        "print(dataset_gujrat.columns)\n",
        "print(dataset_gujrat)\n",
        "dataset_gujrat = dataset_gujrat.sort_values(by=\"Last_Update\")"
      ],
      "execution_count": 19,
      "outputs": [
        {
          "output_type": "stream",
          "text": [
            "Index(['FIPS', 'Admin2', 'Province_State', 'Country_Region', 'Last_Update',\n",
            "       'Lat', 'Long_', 'Confirmed', 'Deaths', 'Recovered', 'Active',\n",
            "       'Combined_Key', 'Incident_Rate', 'Case_Fatality_Ratio',\n",
            "       'Province/State', 'Country/Region', 'Last Update', 'Latitude',\n",
            "       'Longitude'],\n",
            "      dtype='object')\n",
            "     FIPS Admin2 Province_State  ... Last Update Latitude  Longitude\n",
            "259   NaN    NaN        Gujarat  ...         NaN      NaN        NaN\n",
            "259   NaN    NaN        Gujarat  ...         NaN      NaN        NaN\n",
            "259   NaN    NaN        Gujarat  ...         NaN      NaN        NaN\n",
            "259   NaN    NaN        Gujarat  ...         NaN      NaN        NaN\n",
            "259   NaN    NaN        Gujarat  ...         NaN      NaN        NaN\n",
            "..    ...    ...            ...  ...         ...      ...        ...\n",
            "259   NaN    NaN        Gujarat  ...         NaN      NaN        NaN\n",
            "259   NaN    NaN        Gujarat  ...         NaN      NaN        NaN\n",
            "259   NaN    NaN        Gujarat  ...         NaN      NaN        NaN\n",
            "259   NaN    NaN        Gujarat  ...         NaN      NaN        NaN\n",
            "259   NaN    NaN        Gujarat  ...         NaN      NaN        NaN\n",
            "\n",
            "[64 rows x 19 columns]\n"
          ],
          "name": "stdout"
        }
      ]
    },
    {
      "cell_type": "code",
      "metadata": {
        "id": "_vHemrGwgY3V"
      },
      "source": [
        "index = dataset_gujrat['Last_Update']"
      ],
      "execution_count": 20,
      "outputs": []
    },
    {
      "cell_type": "code",
      "metadata": {
        "colab": {
          "base_uri": "https://localhost:8080/",
          "height": 295
        },
        "id": "gcXjAsJxeGUo",
        "outputId": "c0081c91-b840-46f1-b950-b224d0068e7a"
      },
      "source": [
        "plt.plot(index, dataset_gujrat['Confirmed'], label = \"confirmed\")\n",
        "plt.plot(index, dataset_gujrat['Deaths'], label = \"Deaths\")\n",
        "plt.plot(index, dataset_gujrat['Recovered'], label = \"recovered\")\n",
        "\n",
        "plt.xlabel(\"Days \")\n",
        "plt.ylabel(\"Cases Death,Recovered,Confirmed\")\n",
        "plt.title(\"Covid-19\")\n",
        "plt.legend()\n",
        "plt.show()"
      ],
      "execution_count": 21,
      "outputs": [
        {
          "output_type": "display_data",
          "data": {
            "image/png": "[encoded data removed]",
            "text/plain": [
              "<Figure size 432x288 with 1 Axes>"
            ]
          },
          "metadata": {
            "tags": [],
            "needs_background": "light"
          }
        }
      ]
    },
    {
      "cell_type": "markdown",
      "metadata": {
        "id": "R9J087EfjM0u"
      },
      "source": [
        "# Task 5"
      ]
    },
    {
      "cell_type": "code",
      "metadata": {
        "id": "Jrc-s2Cqfbe4"
      },
      "source": [
        "data = [i for  i in range(1,65)]"
      ],
      "execution_count": 22,
      "outputs": []
    },
    {
      "cell_type": "code",
      "metadata": {
        "id": "CTAnTM6ljyS1"
      },
      "source": [
        "dataset_gujrat.insert(0, \"Feature\", data, True)"
      ],
      "execution_count": 23,
      "outputs": []
    },
    {
      "cell_type": "code",
      "metadata": {
        "colab": {
          "base_uri": "https://localhost:8080/",
          "height": 0
        },
        "id": "z9J3XXI-j4I4",
        "outputId": "39dc190a-9993-4e2c-8061-05eeb3a01b64"
      },
      "source": [
        "dataset_gujrat"
      ],
      "execution_count": 24,
      "outputs": [
        {
          "output_type": "execute_result",
          "data": {
            "text/html": [
              "<div>\n",
              "<style scoped>\n",
              "    .dataframe tbody tr th:only-of-type {\n",
              "        vertical-align: middle;\n",
              "    }\n",
              "\n",
              "    .dataframe tbody tr th {\n",
              "        vertical-align: top;\n",
              "    }\n",
              "\n",
              "    .dataframe thead th {\n",
              "        text-align: right;\n",
              "    }\n",
              "</style>\n",
              "<table border=\"1\" class=\"dataframe\">\n",
              "  <thead>\n",
              "    <tr style=\"text-align: right;\">\n",
              "      <th></th>\n",
              "      <th>Feature</th>\n",
              "      <th>FIPS</th>\n",
              "      <th>Admin2</th>\n",
              "      <th>Province_State</th>\n",
              "      <th>Country_Region</th>\n",
              "      <th>Last_Update</th>\n",
              "      <th>Lat</th>\n",
              "      <th>Long_</th>\n",
              "      <th>Confirmed</th>\n",
              "      <th>Deaths</th>\n",
              "      <th>Recovered</th>\n",
              "      <th>Active</th>\n",
              "      <th>Combined_Key</th>\n",
              "      <th>Incident_Rate</th>\n",
              "      <th>Case_Fatality_Ratio</th>\n",
              "      <th>Province/State</th>\n",
              "      <th>Country/Region</th>\n",
              "      <th>Last Update</th>\n",
              "      <th>Latitude</th>\n",
              "      <th>Longitude</th>\n",
              "    </tr>\n",
              "  </thead>\n",
              "  <tbody>\n",
              "    <tr>\n",
              "      <th>259</th>\n",
              "      <td>1</td>\n",
              "      <td>NaN</td>\n",
              "      <td>NaN</td>\n",
              "      <td>Gujarat</td>\n",
              "      <td>India</td>\n",
              "      <td>2021-03-02 05:23:30</td>\n",
              "      <td>22.694884</td>\n",
              "      <td>71.590923</td>\n",
              "      <td>270316</td>\n",
              "      <td>4410</td>\n",
              "      <td>263475.0</td>\n",
              "      <td>2431.0</td>\n",
              "      <td>Gujarat, India</td>\n",
              "      <td>423.212537</td>\n",
              "      <td>1.631424</td>\n",
              "      <td>NaN</td>\n",
              "      <td>NaN</td>\n",
              "      <td>NaN</td>\n",
              "      <td>NaN</td>\n",
              "      <td>NaN</td>\n",
              "    </tr>\n",
              "    <tr>\n",
              "      <th>259</th>\n",
              "      <td>2</td>\n",
              "      <td>NaN</td>\n",
              "      <td>NaN</td>\n",
              "      <td>Gujarat</td>\n",
              "      <td>India</td>\n",
              "      <td>2021-03-03 05:23:28</td>\n",
              "      <td>22.694884</td>\n",
              "      <td>71.590923</td>\n",
              "      <td>270770</td>\n",
              "      <td>4411</td>\n",
              "      <td>263837.0</td>\n",
              "      <td>2522.0</td>\n",
              "      <td>Gujarat, India</td>\n",
              "      <td>423.923329</td>\n",
              "      <td>1.629058</td>\n",
              "      <td>NaN</td>\n",
              "      <td>NaN</td>\n",
              "      <td>NaN</td>\n",
              "      <td>NaN</td>\n",
              "      <td>NaN</td>\n",
              "    </tr>\n",
              "    <tr>\n",
              "      <th>259</th>\n",
              "      <td>3</td>\n",
              "      <td>NaN</td>\n",
              "      <td>NaN</td>\n",
              "      <td>Gujarat</td>\n",
              "      <td>India</td>\n",
              "      <td>2021-03-04 05:24:24</td>\n",
              "      <td>22.694884</td>\n",
              "      <td>71.590923</td>\n",
              "      <td>271245</td>\n",
              "      <td>4412</td>\n",
              "      <td>264195.0</td>\n",
              "      <td>2638.0</td>\n",
              "      <td>Gujarat, India</td>\n",
              "      <td>424.666999</td>\n",
              "      <td>1.626574</td>\n",
              "      <td>NaN</td>\n",
              "      <td>NaN</td>\n",
              "      <td>NaN</td>\n",
              "      <td>NaN</td>\n",
              "      <td>NaN</td>\n",
              "    </tr>\n",
              "    <tr>\n",
              "      <th>259</th>\n",
              "      <td>4</td>\n",
              "      <td>NaN</td>\n",
              "      <td>NaN</td>\n",
              "      <td>Gujarat</td>\n",
              "      <td>India</td>\n",
              "      <td>2021-03-05 05:26:29</td>\n",
              "      <td>22.694884</td>\n",
              "      <td>71.590923</td>\n",
              "      <td>271725</td>\n",
              "      <td>4412</td>\n",
              "      <td>264564.0</td>\n",
              "      <td>2749.0</td>\n",
              "      <td>Gujarat, India</td>\n",
              "      <td>425.418497</td>\n",
              "      <td>1.623700</td>\n",
              "      <td>NaN</td>\n",
              "      <td>NaN</td>\n",
              "      <td>NaN</td>\n",
              "      <td>NaN</td>\n",
              "      <td>NaN</td>\n",
              "    </tr>\n",
              "    <tr>\n",
              "      <th>259</th>\n",
              "      <td>5</td>\n",
              "      <td>NaN</td>\n",
              "      <td>NaN</td>\n",
              "      <td>Gujarat</td>\n",
              "      <td>India</td>\n",
              "      <td>2021-03-06 04:23:41</td>\n",
              "      <td>22.694884</td>\n",
              "      <td>71.590923</td>\n",
              "      <td>272240</td>\n",
              "      <td>4413</td>\n",
              "      <td>264969.0</td>\n",
              "      <td>2858.0</td>\n",
              "      <td>Gujarat, India</td>\n",
              "      <td>426.224792</td>\n",
              "      <td>1.620996</td>\n",
              "      <td>NaN</td>\n",
              "      <td>NaN</td>\n",
              "      <td>NaN</td>\n",
              "      <td>NaN</td>\n",
              "      <td>NaN</td>\n",
              "    </tr>\n",
              "    <tr>\n",
              "      <th>...</th>\n",
              "      <td>...</td>\n",
              "      <td>...</td>\n",
              "      <td>...</td>\n",
              "      <td>...</td>\n",
              "      <td>...</td>\n",
              "      <td>...</td>\n",
              "      <td>...</td>\n",
              "      <td>...</td>\n",
              "      <td>...</td>\n",
              "      <td>...</td>\n",
              "      <td>...</td>\n",
              "      <td>...</td>\n",
              "      <td>...</td>\n",
              "      <td>...</td>\n",
              "      <td>...</td>\n",
              "      <td>...</td>\n",
              "      <td>...</td>\n",
              "      <td>...</td>\n",
              "      <td>...</td>\n",
              "      <td>...</td>\n",
              "    </tr>\n",
              "    <tr>\n",
              "      <th>259</th>\n",
              "      <td>60</td>\n",
              "      <td>NaN</td>\n",
              "      <td>NaN</td>\n",
              "      <td>Gujarat</td>\n",
              "      <td>India</td>\n",
              "      <td>2021-04-30 04:21:03</td>\n",
              "      <td>22.694884</td>\n",
              "      <td>71.590923</td>\n",
              "      <td>553172</td>\n",
              "      <td>7010</td>\n",
              "      <td>408368.0</td>\n",
              "      <td>137794.0</td>\n",
              "      <td>Gujarat, India</td>\n",
              "      <td>866.057967</td>\n",
              "      <td>1.267237</td>\n",
              "      <td>NaN</td>\n",
              "      <td>NaN</td>\n",
              "      <td>NaN</td>\n",
              "      <td>NaN</td>\n",
              "      <td>NaN</td>\n",
              "    </tr>\n",
              "    <tr>\n",
              "      <th>259</th>\n",
              "      <td>61</td>\n",
              "      <td>NaN</td>\n",
              "      <td>NaN</td>\n",
              "      <td>Gujarat</td>\n",
              "      <td>India</td>\n",
              "      <td>2021-05-01 04:20:47</td>\n",
              "      <td>22.694884</td>\n",
              "      <td>71.590923</td>\n",
              "      <td>567777</td>\n",
              "      <td>7183</td>\n",
              "      <td>418548.0</td>\n",
              "      <td>142046.0</td>\n",
              "      <td>Gujarat, India</td>\n",
              "      <td>888.923868</td>\n",
              "      <td>1.265109</td>\n",
              "      <td>NaN</td>\n",
              "      <td>NaN</td>\n",
              "      <td>NaN</td>\n",
              "      <td>NaN</td>\n",
              "      <td>NaN</td>\n",
              "    </tr>\n",
              "    <tr>\n",
              "      <th>259</th>\n",
              "      <td>62</td>\n",
              "      <td>NaN</td>\n",
              "      <td>NaN</td>\n",
              "      <td>Gujarat</td>\n",
              "      <td>India</td>\n",
              "      <td>2021-05-02 04:20:48</td>\n",
              "      <td>22.694884</td>\n",
              "      <td>71.590923</td>\n",
              "      <td>581624</td>\n",
              "      <td>7355</td>\n",
              "      <td>429130.0</td>\n",
              "      <td>145139.0</td>\n",
              "      <td>Gujarat, India</td>\n",
              "      <td>910.603029</td>\n",
              "      <td>1.264563</td>\n",
              "      <td>NaN</td>\n",
              "      <td>NaN</td>\n",
              "      <td>NaN</td>\n",
              "      <td>NaN</td>\n",
              "      <td>NaN</td>\n",
              "    </tr>\n",
              "    <tr>\n",
              "      <th>259</th>\n",
              "      <td>63</td>\n",
              "      <td>NaN</td>\n",
              "      <td>NaN</td>\n",
              "      <td>Gujarat</td>\n",
              "      <td>India</td>\n",
              "      <td>2021-05-03 04:20:39</td>\n",
              "      <td>22.694884</td>\n",
              "      <td>71.590923</td>\n",
              "      <td>594602</td>\n",
              "      <td>7508</td>\n",
              "      <td>440276.0</td>\n",
              "      <td>146818.0</td>\n",
              "      <td>Gujarat, India</td>\n",
              "      <td>930.921665</td>\n",
              "      <td>1.262693</td>\n",
              "      <td>NaN</td>\n",
              "      <td>NaN</td>\n",
              "      <td>NaN</td>\n",
              "      <td>NaN</td>\n",
              "      <td>NaN</td>\n",
              "    </tr>\n",
              "    <tr>\n",
              "      <th>259</th>\n",
              "      <td>64</td>\n",
              "      <td>NaN</td>\n",
              "      <td>NaN</td>\n",
              "      <td>Gujarat</td>\n",
              "      <td>India</td>\n",
              "      <td>2021-05-04 04:20:34</td>\n",
              "      <td>22.694884</td>\n",
              "      <td>71.590923</td>\n",
              "      <td>594602</td>\n",
              "      <td>7508</td>\n",
              "      <td>440276.0</td>\n",
              "      <td>146818.0</td>\n",
              "      <td>Gujarat, India</td>\n",
              "      <td>930.921665</td>\n",
              "      <td>1.262693</td>\n",
              "      <td>NaN</td>\n",
              "      <td>NaN</td>\n",
              "      <td>NaN</td>\n",
              "      <td>NaN</td>\n",
              "      <td>NaN</td>\n",
              "    </tr>\n",
              "  </tbody>\n",
              "</table>\n",
              "<p>64 rows × 20 columns</p>\n",
              "</div>"
            ],
            "text/plain": [
              "     Feature  FIPS Admin2  ... Last Update Latitude Longitude\n",
              "259        1   NaN    NaN  ...         NaN      NaN       NaN\n",
              "259        2   NaN    NaN  ...         NaN      NaN       NaN\n",
              "259        3   NaN    NaN  ...         NaN      NaN       NaN\n",
              "259        4   NaN    NaN  ...         NaN      NaN       NaN\n",
              "259        5   NaN    NaN  ...         NaN      NaN       NaN\n",
              "..       ...   ...    ...  ...         ...      ...       ...\n",
              "259       60   NaN    NaN  ...         NaN      NaN       NaN\n",
              "259       61   NaN    NaN  ...         NaN      NaN       NaN\n",
              "259       62   NaN    NaN  ...         NaN      NaN       NaN\n",
              "259       63   NaN    NaN  ...         NaN      NaN       NaN\n",
              "259       64   NaN    NaN  ...         NaN      NaN       NaN\n",
              "\n",
              "[64 rows x 20 columns]"
            ]
          },
          "metadata": {
            "tags": []
          },
          "execution_count": 24
        }
      ]
    },
    {
      "cell_type": "code",
      "metadata": {
        "id": "YZFy0QJwjnO0"
      },
      "source": [
        "dataset_gujrat_feature = dataset_gujrat.iloc[:,0:1]\n",
        "dataset_gujrat_target= dataset_gujrat.iloc[:,8:9]"
      ],
      "execution_count": 25,
      "outputs": []
    },
    {
      "cell_type": "code",
      "metadata": {
        "colab": {
          "base_uri": "https://localhost:8080/"
        },
        "id": "-_R7JdDdrCu0",
        "outputId": "b6246cfe-4d8c-4de7-ec15-a32358fb1ed3"
      },
      "source": [
        "from sklearn.preprocessing import PolynomialFeatures\n",
        "poly = PolynomialFeatures(degree = 2)\n",
        "X_poly = poly.fit_transform(dataset_gujrat_feature)\n",
        "poly = poly.fit(X_poly, dataset_gujrat_target)\n",
        "lin2 = LinearRegression()\n",
        "lin2.fit(X_poly, dataset_gujrat_target)\n",
        "x = np.array([65]).reshape(-1, 1)\n",
        "y = np.array([64]).reshape(-1, 1)\n",
        "\n",
        "\n",
        "Gujrat_cases_4_may = int(lin2.predict(poly.fit_transform(x)) - lin2.predict(poly.fit_transform(y)))\n",
        "print(Gujrat_cases_4_may)\n"
      ],
      "execution_count": 26,
      "outputs": [
        {
          "output_type": "stream",
          "text": [
            "13239\n"
          ],
          "name": "stdout"
        }
      ]
    },
    {
      "cell_type": "code",
      "metadata": {
        "colab": {
          "base_uri": "https://localhost:8080/"
        },
        "id": "SIwlVlekkAMU",
        "outputId": "0b80e3b6-07d5-47da-fcd4-a7f7908bf731"
      },
      "source": [
        "from sklearn.linear_model import LinearRegression\n",
        "model = LinearRegression().fit(dataset_gujrat_feature, dataset_gujrat_target)\n",
        "x = np.array([65]).reshape(-1, 1)\n",
        "gujrat_cases = int(model.predict(x))\n",
        "\n",
        "print(gujrat_cases)"
      ],
      "execution_count": 27,
      "outputs": [
        {
          "output_type": "stream",
          "text": [
            "505455\n"
          ],
          "name": "stdout"
        }
      ]
    },
    {
      "cell_type": "markdown",
      "metadata": {
        "id": "pkLtKmkalRgm"
      },
      "source": [
        "# Task 6"
      ]
    },
    {
      "cell_type": "code",
      "metadata": {
        "colab": {
          "base_uri": "https://localhost:8080/"
        },
        "id": "xUbmHzmwksBB",
        "outputId": "625343f8-e536-4c77-bcbb-573478fc2fec"
      },
      "source": [
        "Gujrat_cases_4_may"
      ],
      "execution_count": 28,
      "outputs": [
        {
          "output_type": "execute_result",
          "data": {
            "text/plain": [
              "13239"
            ]
          },
          "metadata": {
            "tags": []
          },
          "execution_count": 28
        }
      ]
    },
    {
      "cell_type": "code",
      "metadata": {
        "colab": {
          "base_uri": "https://localhost:8080/"
        },
        "id": "muv5ZiSUlrjR",
        "outputId": "251b1f4c-93dd-4e30-e0fb-d1c5dc3e5909"
      },
      "source": [
        "India_cases_4_may"
      ],
      "execution_count": 29,
      "outputs": [
        {
          "output_type": "execute_result",
          "data": {
            "text/plain": [
              "359942"
            ]
          },
          "metadata": {
            "tags": []
          },
          "execution_count": 29
        }
      ]
    },
    {
      "cell_type": "code",
      "metadata": {
        "colab": {
          "base_uri": "https://localhost:8080/",
          "height": 0
        },
        "id": "4T46dDEEluPM",
        "outputId": "43001226-9e9c-40f8-d34a-5e7df0121c44"
      },
      "source": [
        "perct = float((Gujrat_cases_4_may/(India_cases_4_may))*100)\n",
        "print(India_cases_4_may)\n",
        "print(Gujrat_cases_4_may)\n",
        "print(perct)\n",
        "plt.pie([perct,100-perct],labels=['Gujarat','India - Gujrat'],\n",
        "        explode=(0.1,0),shadow=True,autopct='%1.1f%%')\n",
        "plt.title(\"Covid cases on 4th May\")\n",
        "plt.legend()\n",
        "plt.show()"
      ],
      "execution_count": 30,
      "outputs": [
        {
          "output_type": "stream",
          "text": [
            "359942\n",
            "13239\n",
            "3.6780925815825887\n"
          ],
          "name": "stdout"
        },
        {
          "output_type": "display_data",
          "data": {
            "image/png": "[encoded data removed]",
            "text/plain": [
              "<Figure size 432x288 with 1 Axes>"
            ]
          },
          "metadata": {
            "tags": []
          }
        }
      ]
    },
    {
      "cell_type": "markdown",
      "metadata": {
        "id": "rsGSUCXypIUk"
      },
      "source": [
        "# Task 7"
      ]
    },
    {
      "cell_type": "code",
      "metadata": {
        "colab": {
          "base_uri": "https://localhost:8080/"
        },
        "id": "iw4Ct9XFnfLP",
        "outputId": "c264d792-aa42-46c4-ed24-da58c2810801"
      },
      "source": [
        "dataset_bengal = combined_csv.loc[combined_csv['Province_State']==\"West Bengal\"]\n",
        "print(dataset_bengal.columns)\n",
        "print(dataset_bengal)\n",
        "dataset_bengal = dataset_bengal.sort_values(by=\"Last_Update\")"
      ],
      "execution_count": 31,
      "outputs": [
        {
          "output_type": "stream",
          "text": [
            "Index(['FIPS', 'Admin2', 'Province_State', 'Country_Region', 'Last_Update',\n",
            "       'Lat', 'Long_', 'Confirmed', 'Deaths', 'Recovered', 'Active',\n",
            "       'Combined_Key', 'Incident_Rate', 'Case_Fatality_Ratio',\n",
            "       'Province/State', 'Country/Region', 'Last Update', 'Latitude',\n",
            "       'Longitude'],\n",
            "      dtype='object')\n",
            "     FIPS Admin2 Province_State  ... Last Update Latitude  Longitude\n",
            "285   NaN    NaN    West Bengal  ...         NaN      NaN        NaN\n",
            "285   NaN    NaN    West Bengal  ...         NaN      NaN        NaN\n",
            "285   NaN    NaN    West Bengal  ...         NaN      NaN        NaN\n",
            "285   NaN    NaN    West Bengal  ...         NaN      NaN        NaN\n",
            "285   NaN    NaN    West Bengal  ...         NaN      NaN        NaN\n",
            "..    ...    ...            ...  ...         ...      ...        ...\n",
            "285   NaN    NaN    West Bengal  ...         NaN      NaN        NaN\n",
            "285   NaN    NaN    West Bengal  ...         NaN      NaN        NaN\n",
            "285   NaN    NaN    West Bengal  ...         NaN      NaN        NaN\n",
            "285   NaN    NaN    West Bengal  ...         NaN      NaN        NaN\n",
            "285   NaN    NaN    West Bengal  ...         NaN      NaN        NaN\n",
            "\n",
            "[64 rows x 19 columns]\n"
          ],
          "name": "stdout"
        }
      ]
    },
    {
      "cell_type": "code",
      "metadata": {
        "id": "TSRh3Q371Ol9"
      },
      "source": [
        "dataset_bengal_1mar_1apr = dataset_bengal.head(31)"
      ],
      "execution_count": 32,
      "outputs": []
    },
    {
      "cell_type": "code",
      "metadata": {
        "id": "zQ1OCQfeoWe6"
      },
      "source": [
        "dataset_bengal_1apr_1may = dataset_bengal.iloc[31:61,:]"
      ],
      "execution_count": 33,
      "outputs": []
    },
    {
      "cell_type": "code",
      "metadata": {
        "colab": {
          "base_uri": "https://localhost:8080/",
          "height": 0
        },
        "id": "qZ1iOZ_n1WC5",
        "outputId": "89efd05b-e10d-47d2-fdab-1362d357a14c"
      },
      "source": [
        "\n",
        "fig,axes=plt.subplots(figsize=(12,6),nrows=1,ncols=3)\n",
        "axes[0].plot(dataset_bengal_1mar_1apr['Last_Update'],dataset_bengal_1mar_1apr['Confirmed'],color='b')\n",
        "axes[0].set_xlabel('date')\n",
        "axes[0].set_ylabel('no of cases')\n",
        "axes[0].set_title('1 Mar - 1 April')\n",
        "\n",
        "axes[1].plot(dataset_bengal_1apr_1may['Last_Update'],dataset_bengal_1apr_1may['Confirmed'],color='r')\n",
        "axes[1].set_xlabel('date')\n",
        "axes[1].set_ylabel('no of cases')\n",
        "axes[1].set_title('1 April - 1 May')\n",
        "\n",
        "axes[2].plot(dataset_bengal['Last_Update'],dataset_bengal['Confirmed'],color='r')\n",
        "axes[2].set_xlabel('date')\n",
        "axes[2].set_ylabel('no of cases')\n",
        "axes[2].set_title('1 Mar - 1 May')\n",
        "plt.tight_layout()"
      ],
      "execution_count": 34,
      "outputs": [
        {
          "output_type": "display_data",
          "data": {
            "image/png": "[encoded data removed]",
            "text/plain": [
              "<Figure size 864x432 with 3 Axes>"
            ]
          },
          "metadata": {
            "tags": [],
            "needs_background": "light"
          }
        }
      ]
    },
    {
      "cell_type": "code",
      "metadata": {
        "id": "gMv4arxS2BgD"
      },
      "source": [
        ""
      ],
      "execution_count": 34,
      "outputs": []
    },
    {
      "cell_type": "markdown",
      "metadata": {
        "id": "w12RvDqU32Ug"
      },
      "source": [
        "# Task 8"
      ]
    },
    {
      "cell_type": "code",
      "metadata": {
        "id": "vObHBJ9h36Zr"
      },
      "source": [
        "dataset_2_march = combined_csv.loc[combined_csv['Last_Update']=='2021-03-02 05:23:30']\n",
        "dataset_14_march = combined_csv.loc[combined_csv['Last_Update']=='2021-03-14 05:25:37']\n",
        "dataset_2_April = combined_csv.loc[combined_csv['Last_Update']=='2021-04-02 04:20:36']\n",
        "dataset_25_April = combined_csv.loc[combined_csv['Last_Update']=='2021-04-25 04:20:32']\n",
        "dataset_4_may = combined_csv.loc[combined_csv['Last_Update']=='2021-05-04 04:20:34']\n"
      ],
      "execution_count": 35,
      "outputs": []
    },
    {
      "cell_type": "code",
      "metadata": {
        "id": "dcfCvM5T_hfM"
      },
      "source": [
        "def make_report_state(data,title_graph):\n",
        "    import seaborn as sns\n",
        "    #May Month :\n",
        "    data_india_May = combined_csv.loc[combined_csv['Last_Update']==data]\n",
        "    data_india_May.head(20)\n",
        "    data_india_May.reset_index(inplace = True)\n",
        "    Maxi3=data_india_May.sort_values(by=['Confirmed'],ascending=False)\n",
        "    Maxi3\n",
        "\n",
        "    fig,ax = plt.subplots(figsize=(20,7))\n",
        "    ax.set_xticklabels(ax.get_xticklabels(), rotation=40, ha=\"right\")\n",
        "    sns.barplot(ax=ax,x=\"Province_State\",y=\"Confirmed\",data=Maxi3.head(20),dodge=False)\n",
        "    ax.set(xlabel=\"States\", ylabel = \"Total Cases\",title=title_graph)\n",
        "    plt.show()"
      ],
      "execution_count": 36,
      "outputs": []
    },
    {
      "cell_type": "code",
      "metadata": {
        "colab": {
          "base_uri": "https://localhost:8080/",
          "height": 494
        },
        "id": "I58L3rN6BjsQ",
        "outputId": "0f7bc805-ed0a-4f98-f3da-8b6394ddb455"
      },
      "source": [
        "make_report_state('2021-05-01 04:20:47','May - 1 Top 20 States infected')"
      ],
      "execution_count": 37,
      "outputs": [
        {
          "output_type": "display_data",
          "data": {
            "image/png": "[encoded data removed]",
            "text/plain": [
              "<Figure size 1440x504 with 1 Axes>"
            ]
          },
          "metadata": {
            "tags": [],
            "needs_background": "light"
          }
        }
      ]
    },
    {
      "cell_type": "code",
      "metadata": {
        "colab": {
          "base_uri": "https://localhost:8080/",
          "height": 501
        },
        "id": "HwviqnRID-dd",
        "outputId": "87943c05-2444-433a-edee-9e52cb13692c"
      },
      "source": [
        "make_report_state('2021-04-15 04:20:54','April - 15 Top 20 States infected')"
      ],
      "execution_count": 38,
      "outputs": [
        {
          "output_type": "display_data",
          "data": {
            "image/png": "[encoded data removed]",
            "text/plain": [
              "<Figure size 1440x504 with 1 Axes>"
            ]
          },
          "metadata": {
            "tags": [],
            "needs_background": "light"
          }
        }
      ]
    },
    {
      "cell_type": "code",
      "metadata": {
        "colab": {
          "base_uri": "https://localhost:8080/",
          "height": 501
        },
        "id": "fcAf2pJY9f8K",
        "outputId": "12f0aea2-0641-4fd0-dd96-1bb828b99855"
      },
      "source": [
        "make_report_state('2021-04-01 04:27:05','April - 4 Top 20 States infected')"
      ],
      "execution_count": 39,
      "outputs": [
        {
          "output_type": "display_data",
          "data": {
            "image/png": "[encoded data removed]",
            "text/plain": [
              "<Figure size 1440x504 with 1 Axes>"
            ]
          },
          "metadata": {
            "tags": [],
            "needs_background": "light"
          }
        }
      ]
    },
    {
      "cell_type": "code",
      "metadata": {
        "colab": {
          "base_uri": "https://localhost:8080/",
          "height": 501
        },
        "id": "Tsvu9SDtDc8c",
        "outputId": "991c4e76-addf-4d72-d878-3fb723cb8d2f"
      },
      "source": [
        "make_report_state('2021-03-15 05:25:51','March - 15 Top 20 States infected')"
      ],
      "execution_count": 40,
      "outputs": [
        {
          "output_type": "display_data",
          "data": {
            "image/png": "[encoded data removed]",
            "text/plain": [
              "<Figure size 1440x504 with 1 Axes>"
            ]
          },
          "metadata": {
            "tags": [],
            "needs_background": "light"
          }
        }
      ]
    },
    {
      "cell_type": "code",
      "metadata": {
        "colab": {
          "base_uri": "https://localhost:8080/",
          "height": 501
        },
        "id": "1wWJRaOJB1SE",
        "outputId": "045c668d-b40c-40d7-a7eb-c86b3eec1b35"
      },
      "source": [
        "make_report_state('2021-03-02 05:23:30', 'March - 2 Top 20 States infected')"
      ],
      "execution_count": 41,
      "outputs": [
        {
          "output_type": "display_data",
          "data": {
            "image/png": "[encoded data removed]",
            "text/plain": [
              "<Figure size 1440x504 with 1 Axes>"
            ]
          },
          "metadata": {
            "tags": [],
            "needs_background": "light"
          }
        }
      ]
    },
    {
      "cell_type": "code",
      "metadata": {
        "id": "cOI0I4LGCw7E"
      },
      "source": [
        ""
      ],
      "execution_count": 41,
      "outputs": []
    }
  ]
}