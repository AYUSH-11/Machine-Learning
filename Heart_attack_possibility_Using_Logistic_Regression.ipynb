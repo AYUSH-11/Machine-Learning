{
  "nbformat": 4,
  "nbformat_minor": 0,
  "metadata": {
    "colab": {
      "name": "Heart attack possibility Using Logistic Regression.ipynb",
      "provenance": [],
      "collapsed_sections": [],
      "authorship_tag": "ABX9TyNk7iCC5UZ7AS3sBkMiUcLU",
      "include_colab_link": true
    },
    "kernelspec": {
      "display_name": "Python 3",
      "name": "python3"
    }
  },
  "cells": [
    {
      "cell_type": "markdown",
      "metadata": {
        "id": "view-in-github",
        "colab_type": "text"
      },
      "source": [
        "<a href=\"https://colab.research.google.com/github/AYUSH-11/Machine-Learning/blob/main/Heart_attack_possibility_Using_Logistic_Regression.ipynb\" target=\"_parent\"><img src=\"https://colab.research.google.com/assets/colab-badge.svg\" alt=\"Open In Colab\"/></a>"
      ]
    },
    {
      "cell_type": "code",
      "metadata": {
        "colab": {
          "base_uri": "https://localhost:8080/"
        },
        "id": "rgCAmBgu1sgI",
        "outputId": "0da8dbea-5f2d-4ec3-c3c6-c4f842091f0d"
      },
      "source": [
        "#All mathematical operation are done by numpy\r\n",
        "import numpy as np\r\n",
        "#It is used for ploting \r\n",
        "import matplotlib.pyplot as plt\r\n",
        "# for read all files\r\n",
        "import pandas as pd\r\n",
        "import math\r\n",
        "import random\r\n",
        "from google.colab import drive  #to import Google drive data\r\n",
        "drive.mount('/content/drive') #to the drive data into colab cloud and enter the activation colab "
      ],
      "execution_count": 1,
      "outputs": [
        {
          "output_type": "stream",
          "text": [
            "Drive already mounted at /content/drive; to attempt to forcibly remount, call drive.mount(\"/content/drive\", force_remount=True).\n"
          ],
          "name": "stdout"
        }
      ]
    },
    {
      "cell_type": "code",
      "metadata": {
        "colab": {
          "base_uri": "https://localhost:8080/"
        },
        "id": "RObnWyFH2WoZ",
        "outputId": "dce3a317-124a-4d22-bbc0-ad620bac5a99"
      },
      "source": [
        "cd /content/drive/\"My Drive/Colab Notebooks/Linear Regression\""
      ],
      "execution_count": 2,
      "outputs": [
        {
          "output_type": "stream",
          "text": [
            "/content/drive/My Drive/Colab Notebooks/Linear Regression\n"
          ],
          "name": "stdout"
        }
      ]
    },
    {
      "cell_type": "code",
      "metadata": {
        "id": "hZHNDykd2sdg"
      },
      "source": [
        "dataset = pd.read_csv('heart.csv')"
      ],
      "execution_count": 3,
      "outputs": []
    },
    {
      "cell_type": "code",
      "metadata": {
        "colab": {
          "base_uri": "https://localhost:8080/",
          "height": 204
        },
        "id": "gRXqT0UL2w7j",
        "outputId": "b19d762b-21f1-4017-c7a4-59344978c534"
      },
      "source": [
        "dataset.head(5)"
      ],
      "execution_count": 4,
      "outputs": [
        {
          "output_type": "execute_result",
          "data": {
            "text/html": [
              "<div>\n",
              "<style scoped>\n",
              "    .dataframe tbody tr th:only-of-type {\n",
              "        vertical-align: middle;\n",
              "    }\n",
              "\n",
              "    .dataframe tbody tr th {\n",
              "        vertical-align: top;\n",
              "    }\n",
              "\n",
              "    .dataframe thead th {\n",
              "        text-align: right;\n",
              "    }\n",
              "</style>\n",
              "<table border=\"1\" class=\"dataframe\">\n",
              "  <thead>\n",
              "    <tr style=\"text-align: right;\">\n",
              "      <th></th>\n",
              "      <th>age</th>\n",
              "      <th>sex</th>\n",
              "      <th>cp</th>\n",
              "      <th>trestbps</th>\n",
              "      <th>chol</th>\n",
              "      <th>fbs</th>\n",
              "      <th>restecg</th>\n",
              "      <th>thalach</th>\n",
              "      <th>exang</th>\n",
              "      <th>oldpeak</th>\n",
              "      <th>slope</th>\n",
              "      <th>ca</th>\n",
              "      <th>thal</th>\n",
              "      <th>target</th>\n",
              "    </tr>\n",
              "  </thead>\n",
              "  <tbody>\n",
              "    <tr>\n",
              "      <th>0</th>\n",
              "      <td>63</td>\n",
              "      <td>1</td>\n",
              "      <td>3</td>\n",
              "      <td>145</td>\n",
              "      <td>233</td>\n",
              "      <td>1</td>\n",
              "      <td>0</td>\n",
              "      <td>150</td>\n",
              "      <td>0</td>\n",
              "      <td>2.3</td>\n",
              "      <td>0</td>\n",
              "      <td>0</td>\n",
              "      <td>1</td>\n",
              "      <td>1</td>\n",
              "    </tr>\n",
              "    <tr>\n",
              "      <th>1</th>\n",
              "      <td>37</td>\n",
              "      <td>1</td>\n",
              "      <td>2</td>\n",
              "      <td>130</td>\n",
              "      <td>250</td>\n",
              "      <td>0</td>\n",
              "      <td>1</td>\n",
              "      <td>187</td>\n",
              "      <td>0</td>\n",
              "      <td>3.5</td>\n",
              "      <td>0</td>\n",
              "      <td>0</td>\n",
              "      <td>2</td>\n",
              "      <td>1</td>\n",
              "    </tr>\n",
              "    <tr>\n",
              "      <th>2</th>\n",
              "      <td>41</td>\n",
              "      <td>0</td>\n",
              "      <td>1</td>\n",
              "      <td>130</td>\n",
              "      <td>204</td>\n",
              "      <td>0</td>\n",
              "      <td>0</td>\n",
              "      <td>172</td>\n",
              "      <td>0</td>\n",
              "      <td>1.4</td>\n",
              "      <td>2</td>\n",
              "      <td>0</td>\n",
              "      <td>2</td>\n",
              "      <td>1</td>\n",
              "    </tr>\n",
              "    <tr>\n",
              "      <th>3</th>\n",
              "      <td>56</td>\n",
              "      <td>1</td>\n",
              "      <td>1</td>\n",
              "      <td>120</td>\n",
              "      <td>236</td>\n",
              "      <td>0</td>\n",
              "      <td>1</td>\n",
              "      <td>178</td>\n",
              "      <td>0</td>\n",
              "      <td>0.8</td>\n",
              "      <td>2</td>\n",
              "      <td>0</td>\n",
              "      <td>2</td>\n",
              "      <td>1</td>\n",
              "    </tr>\n",
              "    <tr>\n",
              "      <th>4</th>\n",
              "      <td>57</td>\n",
              "      <td>0</td>\n",
              "      <td>0</td>\n",
              "      <td>120</td>\n",
              "      <td>354</td>\n",
              "      <td>0</td>\n",
              "      <td>1</td>\n",
              "      <td>163</td>\n",
              "      <td>1</td>\n",
              "      <td>0.6</td>\n",
              "      <td>2</td>\n",
              "      <td>0</td>\n",
              "      <td>2</td>\n",
              "      <td>1</td>\n",
              "    </tr>\n",
              "  </tbody>\n",
              "</table>\n",
              "</div>"
            ],
            "text/plain": [
              "   age  sex  cp  trestbps  chol  fbs  ...  exang  oldpeak  slope  ca  thal  target\n",
              "0   63    1   3       145   233    1  ...      0      2.3      0   0     1       1\n",
              "1   37    1   2       130   250    0  ...      0      3.5      0   0     2       1\n",
              "2   41    0   1       130   204    0  ...      0      1.4      2   0     2       1\n",
              "3   56    1   1       120   236    0  ...      0      0.8      2   0     2       1\n",
              "4   57    0   0       120   354    0  ...      1      0.6      2   0     2       1\n",
              "\n",
              "[5 rows x 14 columns]"
            ]
          },
          "metadata": {
            "tags": []
          },
          "execution_count": 4
        }
      ]
    },
    {
      "cell_type": "code",
      "metadata": {
        "colab": {
          "base_uri": "https://localhost:8080/",
          "height": 317
        },
        "id": "-vpU9-DX20Rs",
        "outputId": "ed47e526-12b5-4ad2-f8d1-f89fa053791a"
      },
      "source": [
        "dataset.describe()"
      ],
      "execution_count": 5,
      "outputs": [
        {
          "output_type": "execute_result",
          "data": {
            "text/html": [
              "<div>\n",
              "<style scoped>\n",
              "    .dataframe tbody tr th:only-of-type {\n",
              "        vertical-align: middle;\n",
              "    }\n",
              "\n",
              "    .dataframe tbody tr th {\n",
              "        vertical-align: top;\n",
              "    }\n",
              "\n",
              "    .dataframe thead th {\n",
              "        text-align: right;\n",
              "    }\n",
              "</style>\n",
              "<table border=\"1\" class=\"dataframe\">\n",
              "  <thead>\n",
              "    <tr style=\"text-align: right;\">\n",
              "      <th></th>\n",
              "      <th>age</th>\n",
              "      <th>sex</th>\n",
              "      <th>cp</th>\n",
              "      <th>trestbps</th>\n",
              "      <th>chol</th>\n",
              "      <th>fbs</th>\n",
              "      <th>restecg</th>\n",
              "      <th>thalach</th>\n",
              "      <th>exang</th>\n",
              "      <th>oldpeak</th>\n",
              "      <th>slope</th>\n",
              "      <th>ca</th>\n",
              "      <th>thal</th>\n",
              "      <th>target</th>\n",
              "    </tr>\n",
              "  </thead>\n",
              "  <tbody>\n",
              "    <tr>\n",
              "      <th>count</th>\n",
              "      <td>303.000000</td>\n",
              "      <td>303.000000</td>\n",
              "      <td>303.000000</td>\n",
              "      <td>303.000000</td>\n",
              "      <td>303.000000</td>\n",
              "      <td>303.000000</td>\n",
              "      <td>303.000000</td>\n",
              "      <td>303.000000</td>\n",
              "      <td>303.000000</td>\n",
              "      <td>303.000000</td>\n",
              "      <td>303.000000</td>\n",
              "      <td>303.000000</td>\n",
              "      <td>303.000000</td>\n",
              "      <td>303.000000</td>\n",
              "    </tr>\n",
              "    <tr>\n",
              "      <th>mean</th>\n",
              "      <td>54.366337</td>\n",
              "      <td>0.683168</td>\n",
              "      <td>0.966997</td>\n",
              "      <td>131.623762</td>\n",
              "      <td>246.264026</td>\n",
              "      <td>0.148515</td>\n",
              "      <td>0.528053</td>\n",
              "      <td>149.646865</td>\n",
              "      <td>0.326733</td>\n",
              "      <td>1.039604</td>\n",
              "      <td>1.399340</td>\n",
              "      <td>0.729373</td>\n",
              "      <td>2.313531</td>\n",
              "      <td>0.544554</td>\n",
              "    </tr>\n",
              "    <tr>\n",
              "      <th>std</th>\n",
              "      <td>9.082101</td>\n",
              "      <td>0.466011</td>\n",
              "      <td>1.032052</td>\n",
              "      <td>17.538143</td>\n",
              "      <td>51.830751</td>\n",
              "      <td>0.356198</td>\n",
              "      <td>0.525860</td>\n",
              "      <td>22.905161</td>\n",
              "      <td>0.469794</td>\n",
              "      <td>1.161075</td>\n",
              "      <td>0.616226</td>\n",
              "      <td>1.022606</td>\n",
              "      <td>0.612277</td>\n",
              "      <td>0.498835</td>\n",
              "    </tr>\n",
              "    <tr>\n",
              "      <th>min</th>\n",
              "      <td>29.000000</td>\n",
              "      <td>0.000000</td>\n",
              "      <td>0.000000</td>\n",
              "      <td>94.000000</td>\n",
              "      <td>126.000000</td>\n",
              "      <td>0.000000</td>\n",
              "      <td>0.000000</td>\n",
              "      <td>71.000000</td>\n",
              "      <td>0.000000</td>\n",
              "      <td>0.000000</td>\n",
              "      <td>0.000000</td>\n",
              "      <td>0.000000</td>\n",
              "      <td>0.000000</td>\n",
              "      <td>0.000000</td>\n",
              "    </tr>\n",
              "    <tr>\n",
              "      <th>25%</th>\n",
              "      <td>47.500000</td>\n",
              "      <td>0.000000</td>\n",
              "      <td>0.000000</td>\n",
              "      <td>120.000000</td>\n",
              "      <td>211.000000</td>\n",
              "      <td>0.000000</td>\n",
              "      <td>0.000000</td>\n",
              "      <td>133.500000</td>\n",
              "      <td>0.000000</td>\n",
              "      <td>0.000000</td>\n",
              "      <td>1.000000</td>\n",
              "      <td>0.000000</td>\n",
              "      <td>2.000000</td>\n",
              "      <td>0.000000</td>\n",
              "    </tr>\n",
              "    <tr>\n",
              "      <th>50%</th>\n",
              "      <td>55.000000</td>\n",
              "      <td>1.000000</td>\n",
              "      <td>1.000000</td>\n",
              "      <td>130.000000</td>\n",
              "      <td>240.000000</td>\n",
              "      <td>0.000000</td>\n",
              "      <td>1.000000</td>\n",
              "      <td>153.000000</td>\n",
              "      <td>0.000000</td>\n",
              "      <td>0.800000</td>\n",
              "      <td>1.000000</td>\n",
              "      <td>0.000000</td>\n",
              "      <td>2.000000</td>\n",
              "      <td>1.000000</td>\n",
              "    </tr>\n",
              "    <tr>\n",
              "      <th>75%</th>\n",
              "      <td>61.000000</td>\n",
              "      <td>1.000000</td>\n",
              "      <td>2.000000</td>\n",
              "      <td>140.000000</td>\n",
              "      <td>274.500000</td>\n",
              "      <td>0.000000</td>\n",
              "      <td>1.000000</td>\n",
              "      <td>166.000000</td>\n",
              "      <td>1.000000</td>\n",
              "      <td>1.600000</td>\n",
              "      <td>2.000000</td>\n",
              "      <td>1.000000</td>\n",
              "      <td>3.000000</td>\n",
              "      <td>1.000000</td>\n",
              "    </tr>\n",
              "    <tr>\n",
              "      <th>max</th>\n",
              "      <td>77.000000</td>\n",
              "      <td>1.000000</td>\n",
              "      <td>3.000000</td>\n",
              "      <td>200.000000</td>\n",
              "      <td>564.000000</td>\n",
              "      <td>1.000000</td>\n",
              "      <td>2.000000</td>\n",
              "      <td>202.000000</td>\n",
              "      <td>1.000000</td>\n",
              "      <td>6.200000</td>\n",
              "      <td>2.000000</td>\n",
              "      <td>4.000000</td>\n",
              "      <td>3.000000</td>\n",
              "      <td>1.000000</td>\n",
              "    </tr>\n",
              "  </tbody>\n",
              "</table>\n",
              "</div>"
            ],
            "text/plain": [
              "              age         sex          cp  ...          ca        thal      target\n",
              "count  303.000000  303.000000  303.000000  ...  303.000000  303.000000  303.000000\n",
              "mean    54.366337    0.683168    0.966997  ...    0.729373    2.313531    0.544554\n",
              "std      9.082101    0.466011    1.032052  ...    1.022606    0.612277    0.498835\n",
              "min     29.000000    0.000000    0.000000  ...    0.000000    0.000000    0.000000\n",
              "25%     47.500000    0.000000    0.000000  ...    0.000000    2.000000    0.000000\n",
              "50%     55.000000    1.000000    1.000000  ...    0.000000    2.000000    1.000000\n",
              "75%     61.000000    1.000000    2.000000  ...    1.000000    3.000000    1.000000\n",
              "max     77.000000    1.000000    3.000000  ...    4.000000    3.000000    1.000000\n",
              "\n",
              "[8 rows x 14 columns]"
            ]
          },
          "metadata": {
            "tags": []
          },
          "execution_count": 5
        }
      ]
    },
    {
      "cell_type": "code",
      "metadata": {
        "colab": {
          "base_uri": "https://localhost:8080/"
        },
        "id": "UNdI-4cj42PU",
        "outputId": "945bbc31-c4f4-4a23-cbab-9cddb3c3978f"
      },
      "source": [
        "dataset.shape"
      ],
      "execution_count": 6,
      "outputs": [
        {
          "output_type": "execute_result",
          "data": {
            "text/plain": [
              "(303, 14)"
            ]
          },
          "metadata": {
            "tags": []
          },
          "execution_count": 6
        }
      ]
    },
    {
      "cell_type": "code",
      "metadata": {
        "id": "jtM_Wwyr4EZ-"
      },
      "source": [
        "# split data into two parts training and testing \r\n",
        "train_set = dataset.sample(frac=0.833,random_state=0)\r\n",
        "test_set = dataset.drop(train_set.index)"
      ],
      "execution_count": 7,
      "outputs": []
    },
    {
      "cell_type": "code",
      "metadata": {
        "colab": {
          "base_uri": "https://localhost:8080/"
        },
        "id": "ManNd2Dp45nD",
        "outputId": "a3115a64-92c1-4d21-b3e2-9d2b74200519"
      },
      "source": [
        "train_set.shape"
      ],
      "execution_count": 8,
      "outputs": [
        {
          "output_type": "execute_result",
          "data": {
            "text/plain": [
              "(252, 14)"
            ]
          },
          "metadata": {
            "tags": []
          },
          "execution_count": 8
        }
      ]
    },
    {
      "cell_type": "code",
      "metadata": {
        "colab": {
          "base_uri": "https://localhost:8080/"
        },
        "id": "cIT3fhl75DcY",
        "outputId": "e6b1d7b5-b795-4694-cd80-9d32c076d994"
      },
      "source": [
        "test_set.shape"
      ],
      "execution_count": 9,
      "outputs": [
        {
          "output_type": "execute_result",
          "data": {
            "text/plain": [
              "(51, 14)"
            ]
          },
          "metadata": {
            "tags": []
          },
          "execution_count": 9
        }
      ]
    },
    {
      "cell_type": "code",
      "metadata": {
        "colab": {
          "base_uri": "https://localhost:8080/",
          "height": 204
        },
        "id": "LgzBmLlW5GcY",
        "outputId": "19e78722-4ff9-4e71-a481-23bff1e87f82"
      },
      "source": [
        "train_set.head(5)"
      ],
      "execution_count": 10,
      "outputs": [
        {
          "output_type": "execute_result",
          "data": {
            "text/html": [
              "<div>\n",
              "<style scoped>\n",
              "    .dataframe tbody tr th:only-of-type {\n",
              "        vertical-align: middle;\n",
              "    }\n",
              "\n",
              "    .dataframe tbody tr th {\n",
              "        vertical-align: top;\n",
              "    }\n",
              "\n",
              "    .dataframe thead th {\n",
              "        text-align: right;\n",
              "    }\n",
              "</style>\n",
              "<table border=\"1\" class=\"dataframe\">\n",
              "  <thead>\n",
              "    <tr style=\"text-align: right;\">\n",
              "      <th></th>\n",
              "      <th>age</th>\n",
              "      <th>sex</th>\n",
              "      <th>cp</th>\n",
              "      <th>trestbps</th>\n",
              "      <th>chol</th>\n",
              "      <th>fbs</th>\n",
              "      <th>restecg</th>\n",
              "      <th>thalach</th>\n",
              "      <th>exang</th>\n",
              "      <th>oldpeak</th>\n",
              "      <th>slope</th>\n",
              "      <th>ca</th>\n",
              "      <th>thal</th>\n",
              "      <th>target</th>\n",
              "    </tr>\n",
              "  </thead>\n",
              "  <tbody>\n",
              "    <tr>\n",
              "      <th>225</th>\n",
              "      <td>70</td>\n",
              "      <td>1</td>\n",
              "      <td>0</td>\n",
              "      <td>145</td>\n",
              "      <td>174</td>\n",
              "      <td>0</td>\n",
              "      <td>1</td>\n",
              "      <td>125</td>\n",
              "      <td>1</td>\n",
              "      <td>2.6</td>\n",
              "      <td>0</td>\n",
              "      <td>0</td>\n",
              "      <td>3</td>\n",
              "      <td>0</td>\n",
              "    </tr>\n",
              "    <tr>\n",
              "      <th>152</th>\n",
              "      <td>64</td>\n",
              "      <td>1</td>\n",
              "      <td>3</td>\n",
              "      <td>170</td>\n",
              "      <td>227</td>\n",
              "      <td>0</td>\n",
              "      <td>0</td>\n",
              "      <td>155</td>\n",
              "      <td>0</td>\n",
              "      <td>0.6</td>\n",
              "      <td>1</td>\n",
              "      <td>0</td>\n",
              "      <td>3</td>\n",
              "      <td>1</td>\n",
              "    </tr>\n",
              "    <tr>\n",
              "      <th>228</th>\n",
              "      <td>59</td>\n",
              "      <td>1</td>\n",
              "      <td>3</td>\n",
              "      <td>170</td>\n",
              "      <td>288</td>\n",
              "      <td>0</td>\n",
              "      <td>0</td>\n",
              "      <td>159</td>\n",
              "      <td>0</td>\n",
              "      <td>0.2</td>\n",
              "      <td>1</td>\n",
              "      <td>0</td>\n",
              "      <td>3</td>\n",
              "      <td>0</td>\n",
              "    </tr>\n",
              "    <tr>\n",
              "      <th>201</th>\n",
              "      <td>60</td>\n",
              "      <td>1</td>\n",
              "      <td>0</td>\n",
              "      <td>125</td>\n",
              "      <td>258</td>\n",
              "      <td>0</td>\n",
              "      <td>0</td>\n",
              "      <td>141</td>\n",
              "      <td>1</td>\n",
              "      <td>2.8</td>\n",
              "      <td>1</td>\n",
              "      <td>1</td>\n",
              "      <td>3</td>\n",
              "      <td>0</td>\n",
              "    </tr>\n",
              "    <tr>\n",
              "      <th>52</th>\n",
              "      <td>62</td>\n",
              "      <td>1</td>\n",
              "      <td>2</td>\n",
              "      <td>130</td>\n",
              "      <td>231</td>\n",
              "      <td>0</td>\n",
              "      <td>1</td>\n",
              "      <td>146</td>\n",
              "      <td>0</td>\n",
              "      <td>1.8</td>\n",
              "      <td>1</td>\n",
              "      <td>3</td>\n",
              "      <td>3</td>\n",
              "      <td>1</td>\n",
              "    </tr>\n",
              "  </tbody>\n",
              "</table>\n",
              "</div>"
            ],
            "text/plain": [
              "     age  sex  cp  trestbps  chol  fbs  ...  exang  oldpeak  slope  ca  thal  target\n",
              "225   70    1   0       145   174    0  ...      1      2.6      0   0     3       0\n",
              "152   64    1   3       170   227    0  ...      0      0.6      1   0     3       1\n",
              "228   59    1   3       170   288    0  ...      0      0.2      1   0     3       0\n",
              "201   60    1   0       125   258    0  ...      1      2.8      1   1     3       0\n",
              "52    62    1   2       130   231    0  ...      0      1.8      1   3     3       1\n",
              "\n",
              "[5 rows x 14 columns]"
            ]
          },
          "metadata": {
            "tags": []
          },
          "execution_count": 10
        }
      ]
    },
    {
      "cell_type": "code",
      "metadata": {
        "id": "XPHhoB-dgokE"
      },
      "source": [
        "# bipartion in feature and target\r\n",
        "train_set_feature = train_set.values[:,:-1]\r\n",
        "train_set_target = train_set.values[:,-1:]\r\n",
        "test_set_feature = test_set.values[:,:-1]\r\n",
        "test_set_target = test_set.values[:,-1:]"
      ],
      "execution_count": 12,
      "outputs": []
    },
    {
      "cell_type": "code",
      "metadata": {
        "id": "qj9zjeAQ59Dg"
      },
      "source": [
        "#feature normalization\r\n",
        "def featureNormalization(x):\r\n",
        "    mean=np.mean(x,axis=0)\r\n",
        "    std=np.std(x,axis=0)\r\n",
        "    x_norm=(x-mean)/std\r\n",
        "    return x_norm,mean,std"
      ],
      "execution_count": 13,
      "outputs": []
    },
    {
      "cell_type": "code",
      "metadata": {
        "id": "fiRyuHIz8Qlw"
      },
      "source": [
        "def sigmoid(z): # we used for differenciate from linear regression to logistic regression\r\n",
        "    #Return  Sigmoid of Z\r\n",
        "    return (1/(1+np.exp(-z)))"
      ],
      "execution_count": 14,
      "outputs": []
    },
    {
      "cell_type": "code",
      "metadata": {
        "id": "WEtPl_yT947p"
      },
      "source": [
        "def costfunction(theta,x,y):\r\n",
        "    # return cost and grad\r\n",
        "    m=len(y)\r\n",
        "    predictions= []\r\n",
        "    error=0\r\n",
        "    \r\n",
        "    for i in range(m):\r\n",
        "        predictions.append(sigmoid(np.dot(x[i],theta)))\r\n",
        "        error+=((-y[i])*np.log(predictions[i])-(1-y[i])*np.log(1-predictions[i]))\r\n",
        "    \r\n",
        "    cost = (1/m)*error\r\n",
        "\r\n",
        "    grad = (1/m) *np.dot(x.transpose(),(predictions-y))\r\n",
        "    return cost,grad"
      ],
      "execution_count": 15,
      "outputs": []
    },
    {
      "cell_type": "code",
      "metadata": {
        "id": "aKfVE-jcB2hm"
      },
      "source": [
        "def gradientDescent(theta,x,y,alpha,iter_num):\r\n",
        "    # update theta in each iteration\r\n",
        "    # return theta cost values of each iteration\r\n",
        "    m=len(y) \r\n",
        "    cost_function_values =[]\r\n",
        "    \r\n",
        "    for i in range(iter_num):\r\n",
        "        cost, grad = costfunction(theta,x,y)\r\n",
        "        theta = theta - (alpha * grad)\r\n",
        "        cost_function_values.append(cost)\r\n",
        "            \r\n",
        "    \r\n",
        "    return theta,cost_function_values"
      ],
      "execution_count": 16,
      "outputs": []
    },
    {
      "cell_type": "code",
      "metadata": {
        "id": "g1ABVLzsCruq"
      },
      "source": [
        "m , n = train_set_feature.shape[0], train_set_feature.shape[1]\r\n",
        "train_set_feature, train_set_feature_mean, train_set_feature_std = featureNormalization(train_set_feature)  \r\n",
        "train_set_feature= np.append(np.ones((m,1)),train_set_feature,axis=1)      #axis=1 is direction along column and axis 0 is direction along row\r\n",
        "train_set_target=train_set_target.reshape(m,1)\r\n",
        "initial_theta = np.zeros((n+1,1))"
      ],
      "execution_count": 17,
      "outputs": []
    },
    {
      "cell_type": "code",
      "metadata": {
        "id": "6sRgN4k4kQjl"
      },
      "source": [
        "theta,cost_function_values=gradientDescent(initial_theta,train_set_feature,train_set_target,0.5,100)"
      ],
      "execution_count": 18,
      "outputs": []
    },
    {
      "cell_type": "code",
      "metadata": {
        "colab": {
          "base_uri": "https://localhost:8080/",
          "height": 312
        },
        "id": "MbkQh53vC5CI",
        "outputId": "085106f3-f3b6-405e-8de0-108f8247712c"
      },
      "source": [
        "#plot for cost vs iteration\r\n",
        "plt.plot(cost_function_values)\r\n",
        "plt.xlabel(\"Iteration\")\r\n",
        "plt.ylabel(\"$J(\\Theta)$\")\r\n",
        "plt.title(\"Cost function using Gradient Descent\")"
      ],
      "execution_count": 19,
      "outputs": [
        {
          "output_type": "execute_result",
          "data": {
            "text/plain": [
              "Text(0.5, 1.0, 'Cost function using Gradient Descent')"
            ]
          },
          "metadata": {
            "tags": []
          },
          "execution_count": 19
        },
        {
          "output_type": "display_data",
          "data": {
            "image/png": "[encoded data removed]",
            "text/plain": [
              "<Figure size 432x288 with 1 Axes>"
            ]
          },
          "metadata": {
            "tags": [],
            "needs_background": "light"
          }
        }
      ]
    },
    {
      "cell_type": "code",
      "metadata": {
        "id": "o1YagI56my-P"
      },
      "source": [
        "m1 , n1 = test_set_feature.shape[0], test_set_feature.shape[1]\r\n",
        "test_set_feature, test_set_feature_mean, test_set_feature_std = featureNormalization(test_set_feature)\r\n",
        "test_set_feature= np.append(np.ones((m1,1)),test_set_feature,axis=1)      #axis=1 is direction along column and axis 0 is direction along row\r\n",
        "test_set_target=test_set_target.reshape(m1,1)"
      ],
      "execution_count": 20,
      "outputs": []
    },
    {
      "cell_type": "code",
      "metadata": {
        "colab": {
          "base_uri": "https://localhost:8080/"
        },
        "id": "0ElGivmhnJCw",
        "outputId": "bf0df674-1002-4423-e52b-edcb23d27ae3"
      },
      "source": [
        "#testing time!\r\n",
        "confusion_matrix=[[0,0],[0,0]]\r\n",
        "for i in range(m1):\r\n",
        "    predictions=sigmoid(np.dot(test_set_feature[i],theta))\r\n",
        "    if predictions>0.50:\r\n",
        "        prediction = 1\r\n",
        "    else:\r\n",
        "        prediction = 0\r\n",
        "    print(predictions,prediction,test_set_target[i])\r\n",
        "    x = int((test_set_target[i][0]-1)**2)\r\n",
        "    y = (prediction-1)**2\r\n",
        "    confusion_matrix[x][y]+=1\r\n"
      ],
      "execution_count": 21,
      "outputs": [
        {
          "output_type": "stream",
          "text": [
            "[0.90063568] 1 [1.]\n",
            "[0.78014485] 1 [1.]\n",
            "[0.84625937] 1 [1.]\n",
            "[0.94290676] 1 [1.]\n",
            "[0.5503232] 1 [1.]\n",
            "[0.92056341] 1 [1.]\n",
            "[0.96692252] 1 [1.]\n",
            "[0.94366044] 1 [1.]\n",
            "[0.91800163] 1 [1.]\n",
            "[0.98635757] 1 [1.]\n",
            "[0.66506133] 1 [1.]\n",
            "[0.94255918] 1 [1.]\n",
            "[0.46695142] 0 [1.]\n",
            "[0.88605146] 1 [1.]\n",
            "[0.96623045] 1 [1.]\n",
            "[0.74789742] 1 [1.]\n",
            "[0.85671567] 1 [1.]\n",
            "[0.99323259] 1 [1.]\n",
            "[0.7207824] 1 [1.]\n",
            "[0.97484484] 1 [1.]\n",
            "[0.96592612] 1 [1.]\n",
            "[0.93487866] 1 [1.]\n",
            "[0.99039656] 1 [1.]\n",
            "[0.74849776] 1 [1.]\n",
            "[0.68145583] 1 [1.]\n",
            "[0.00679516] 0 [0.]\n",
            "[0.60299131] 1 [0.]\n",
            "[0.00882522] 0 [0.]\n",
            "[0.94589098] 1 [0.]\n",
            "[0.36566316] 0 [0.]\n",
            "[0.67042103] 1 [0.]\n",
            "[0.10926419] 0 [0.]\n",
            "[0.00668055] 0 [0.]\n",
            "[0.00549712] 0 [0.]\n",
            "[0.23827556] 0 [0.]\n",
            "[0.06257072] 0 [0.]\n",
            "[0.02115027] 0 [0.]\n",
            "[0.14420598] 0 [0.]\n",
            "[0.01502607] 0 [0.]\n",
            "[0.07259698] 0 [0.]\n",
            "[0.01192932] 0 [0.]\n",
            "[0.09981996] 0 [0.]\n",
            "[0.27538029] 0 [0.]\n",
            "[0.54771845] 1 [0.]\n",
            "[0.60549158] 1 [0.]\n",
            "[0.72920789] 1 [0.]\n",
            "[0.86221021] 1 [0.]\n",
            "[0.30197065] 0 [0.]\n",
            "[0.19707164] 0 [0.]\n",
            "[0.07445241] 0 [0.]\n",
            "[0.12945135] 0 [0.]\n"
          ],
          "name": "stdout"
        }
      ]
    },
    {
      "cell_type": "code",
      "metadata": {
        "colab": {
          "base_uri": "https://localhost:8080/"
        },
        "id": "V_cDGpYDq8Q3",
        "outputId": "31fd31c7-3506-494c-b235-65bba56bc7f3"
      },
      "source": [
        "#Confusion Matrix\r\n",
        "for i in range(2):\r\n",
        "    for j in range(2):\r\n",
        "        print(confusion_matrix[i][j],end=' ')\r\n",
        "    print()"
      ],
      "execution_count": 22,
      "outputs": [
        {
          "output_type": "stream",
          "text": [
            "24 1 \n",
            "7 19 \n"
          ],
          "name": "stdout"
        }
      ]
    },
    {
      "cell_type": "code",
      "metadata": {
        "colab": {
          "base_uri": "https://localhost:8080/"
        },
        "id": "zeH3ttt0snJp",
        "outputId": "5505c8b9-e924-4f97-cdf2-917ea8403545"
      },
      "source": [
        "#Accuracy = (TP + TN) /(TP + FP + TN + FN)\r\n",
        "accuracy = (confusion_matrix[0][0]+confusion_matrix[1][1])/m1\r\n",
        "\r\n",
        "#Precision = TP / (TP + FP)\r\n",
        "precision = confusion_matrix[0][0]/(confusion_matrix[0][0]+confusion_matrix[0][1])\r\n",
        "\r\n",
        "#Recall = TP / (TP + FN)\r\n",
        "recall = confusion_matrix[0][0]/(confusion_matrix[0][0]+confusion_matrix[1][0])\r\n",
        "\r\n",
        "#F1 Score = 2 * (Precision * Recall)/(Precision + Recall )\r\n",
        "f1_score = 2 * (precision * recall)/(precision + recall)\r\n",
        "\r\n",
        "print(\"Accuracy = \",accuracy)\r\n",
        "print(\"Prediction = \",precision)\r\n",
        "print(\"Recall = \",recall)\r\n",
        "print(\"F1 Score = \",f1_score)\r\n"
      ],
      "execution_count": 23,
      "outputs": [
        {
          "output_type": "stream",
          "text": [
            "Accuracy =  0.8431372549019608\n",
            "Prediction =  0.96\n",
            "Recall =  0.7741935483870968\n",
            "F1 Score =  0.8571428571428571\n"
          ],
          "name": "stdout"
        }
      ]
    }
  ]
}