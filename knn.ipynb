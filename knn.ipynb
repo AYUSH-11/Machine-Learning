{
  "nbformat": 4,
  "nbformat_minor": 0,
  "metadata": {
    "colab": {
      "name": "knn.ipynb",
      "provenance": [],
      "authorship_tag": "ABX9TyPwryn1i1SAqyH87uv5h+xO",
      "include_colab_link": true
    },
    "kernelspec": {
      "name": "python3",
      "display_name": "Python 3"
    }
  },
  "cells": [
    {
      "cell_type": "markdown",
      "metadata": {
        "id": "view-in-github",
        "colab_type": "text"
      },
      "source": [
        "<a href=\"https://colab.research.google.com/github/AYUSH-11/Machine-Learning/blob/main/knn.ipynb\" target=\"_parent\"><img src=\"https://colab.research.google.com/assets/colab-badge.svg\" alt=\"Open In Colab\"/></a>"
      ]
    },
    {
      "cell_type": "code",
      "metadata": {
        "id": "mru0iRnt2p7W"
      },
      "source": [
        "#include Library\r\n",
        "import numpy as np\r\n",
        "import pandas as pd\r\n",
        "import matplotlib.pyplot as plt\r\n",
        "import math\r\n",
        "import random"
      ],
      "execution_count": 1,
      "outputs": []
    },
    {
      "cell_type": "code",
      "metadata": {
        "id": "A04pFEpP2yRu"
      },
      "source": [
        "# fetch data \r\n",
        "url = \"https://archive.ics.uci.edu/ml/machine-learning-databases/iris/iris.data\"\r\n",
        "namres= ['sepal length','sepal width','petal length','petal width','class']\r\n",
        "dataset = pd.read_csv(url,names=namres)"
      ],
      "execution_count": 2,
      "outputs": []
    },
    {
      "cell_type": "code",
      "metadata": {
        "id": "3E7XZdlh22XL"
      },
      "source": [
        "# shuffle the DataFrame rows \r\n",
        "data = dataset\r\n",
        "data = data.sample(frac = 1) \r\n"
      ],
      "execution_count": 3,
      "outputs": []
    },
    {
      "cell_type": "code",
      "metadata": {
        "id": "4TUQC0Uo3u2r"
      },
      "source": [
        "# split data into two parts training and testing \r\n",
        "train_set = data.sample(frac=0.833, random_state=0)\r\n",
        "test_set = data.drop(train_set.index)\r\n"
      ],
      "execution_count": 4,
      "outputs": []
    },
    {
      "cell_type": "code",
      "metadata": {
        "colab": {
          "base_uri": "https://localhost:8080/"
        },
        "id": "keHdpwRi6s81",
        "outputId": "8ddeee47-1fdd-482c-f341-58c891aa7e31"
      },
      "source": [
        "print(len(train_set))\r\n",
        "print(len(test_set))"
      ],
      "execution_count": 5,
      "outputs": [
        {
          "output_type": "stream",
          "text": [
            "125\n",
            "25\n"
          ],
          "name": "stdout"
        }
      ]
    },
    {
      "cell_type": "code",
      "metadata": {
        "id": "gSlnr3Fp7vU5"
      },
      "source": [
        "train_set_feature= train_set.values[:,0:4]\r\n",
        "train_set_target = train_set.values[:,-1]"
      ],
      "execution_count": 6,
      "outputs": []
    },
    {
      "cell_type": "code",
      "metadata": {
        "id": "8gJuvQ1A8AN1"
      },
      "source": [
        "test_set_feature = test_set.values[:,0:4]\r\n",
        "test_set_target = test_set.values[:,-1]"
      ],
      "execution_count": 7,
      "outputs": []
    },
    {
      "cell_type": "code",
      "metadata": {
        "id": "D0wCS2X3609s"
      },
      "source": [
        "# Finding Euclidean Distance\r\n",
        "def euclidean_distance(point1,point2):\r\n",
        "    distance=0.0\r\n",
        "    for i in range(len(point1)):\r\n",
        "        distance+= (point1[i] - point2[i])**2\r\n",
        "    return math.sqrt(distance)"
      ],
      "execution_count": 8,
      "outputs": []
    },
    {
      "cell_type": "code",
      "metadata": {
        "id": "qVgQq3r68SDU"
      },
      "source": [
        "# To convert the categorical data to numeric data\r\n",
        "unique_list=[]\r\n",
        "for i in range(len(train_set_target)):\r\n",
        "    if train_set_target[i] not in unique_list:\r\n",
        "        unique_list.append(train_set_target[i])\r\n",
        "for i in range(len(test_set_target)):\r\n",
        "    if test_set_target[i] not in unique_list:\r\n",
        "        unique_list.append(test_set_target[i])\r\n",
        "\r\n",
        "\r\n",
        "for i in range(len(train_set_target)):\r\n",
        "    for k in range(len(unique_list)):\r\n",
        "        if train_set_target[i] == unique_list[k]:\r\n",
        "            train_set_target[i]=k\r\n",
        "for i in range(len(test_set_target)):\r\n",
        "    for k in range(len(unique_list)):\r\n",
        "        if test_set_target[i] == unique_list[k]:\r\n",
        "            test_set_target[i]=k"
      ],
      "execution_count": 9,
      "outputs": []
    },
    {
      "cell_type": "code",
      "metadata": {
        "id": "Q4_k7uqB-6Yz"
      },
      "source": [
        "# Predict the target \r\n",
        "def predict_target(features,target,test,nearest_neighbour,unique_list):\r\n",
        "    identify=[0 for i in range(len(unique_list))]\r\n",
        "    distance =[]\r\n",
        "    for i in range(len(features)):\r\n",
        "        distance.append([euclidean_distance(features[i],test),target[i]])\r\n",
        "    distance.sort()\r\n",
        "    \r\n",
        "    for i in range(nearest_neighbour):\r\n",
        "        identify[distance[i][1]]=identify[distance[i][1]]+ 1\r\n",
        "    return identify.index(max(identify))"
      ],
      "execution_count": 10,
      "outputs": []
    },
    {
      "cell_type": "code",
      "metadata": {
        "id": "1h6xweODCZVe"
      },
      "source": [
        "#testing time!\r\n",
        "nearest_neighbour=13\r\n",
        "confusion_matrix=[[0,0,0],[0,0,0],[0,0,0]]\r\n",
        "\r\n",
        "for i in range(len(test_set_feature)):\r\n",
        "    for k in range(len(unique_list)):\r\n",
        "        if test_set_target[i]==k:\r\n",
        "            predicted = predict_target(train_set_feature,train_set_target,test_set_feature[i],nearest_neighbour,unique_list)\r\n",
        "            actual = test_set_target[i]\r\n",
        "            confusion_matrix[predicted][k]+=1"
      ],
      "execution_count": 11,
      "outputs": []
    },
    {
      "cell_type": "code",
      "metadata": {
        "colab": {
          "base_uri": "https://localhost:8080/"
        },
        "id": "B4SZmClfE8YF",
        "outputId": "19ca2d44-6c68-4e53-a010-0812b611c861"
      },
      "source": [
        "#Confusion Matrix\r\n",
        "for i in range(3):\r\n",
        "    for j in range(3):\r\n",
        "        print(confusion_matrix[i][j],end=' ')\r\n",
        "    print()"
      ],
      "execution_count": 12,
      "outputs": [
        {
          "output_type": "stream",
          "text": [
            "9 1 0 \n",
            "1 5 0 \n",
            "0 0 9 \n"
          ],
          "name": "stdout"
        }
      ]
    }
  ]
}