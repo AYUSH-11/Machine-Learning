{
  "nbformat": 4,
  "nbformat_minor": 0,
  "metadata": {
    "colab": {
      "name": "CNN.ipynb",
      "provenance": [],
      "authorship_tag": "ABX9TyOAzwat4QBGRRxs5Ab1Ej2F",
      "include_colab_link": true
    },
    "kernelspec": {
      "name": "python3",
      "display_name": "Python 3"
    },
    "language_info": {
      "name": "python"
    }
  },
  "cells": [
    {
      "cell_type": "markdown",
      "metadata": {
        "id": "view-in-github",
        "colab_type": "text"
      },
      "source": [
        "<a href=\"https://colab.research.google.com/github/AYUSH-11/Machine-Learning/blob/main/CNN.ipynb\" target=\"_parent\"><img src=\"https://colab.research.google.com/assets/colab-badge.svg\" alt=\"Open In Colab\"/></a>"
      ]
    },
    {
      "cell_type": "code",
      "metadata": {
        "id": "3N8kp9ePMfrg"
      },
      "source": [
        "import numpy as np\n",
        "import numpy.random as nr\n",
        "import matplotlib.pyplot as plt\n",
        "import keras\n",
        "from keras.datasets import mnist\n",
        "import keras.utils.np_utils as ku\n",
        "import keras.models as models\n",
        "import keras.layers as layers\n",
        "from keras import regularizers\n",
        "from keras.layers import Dropout\n",
        "#from keras.optimizers import rmsprop, Adam\n",
        "from keras.utils import to_categorical"
      ],
      "execution_count": 1,
      "outputs": []
    },
    {
      "cell_type": "code",
      "metadata": {
        "id": "hU-HvnPhRXrC"
      },
      "source": [
        "%matplotlib inline"
      ],
      "execution_count": 2,
      "outputs": []
    },
    {
      "cell_type": "code",
      "metadata": {
        "id": "4XaQDAg_RZjy"
      },
      "source": [
        "import tensorflow as tf"
      ],
      "execution_count": 3,
      "outputs": []
    },
    {
      "cell_type": "code",
      "metadata": {
        "id": "hBOluwlwRiPB"
      },
      "source": [
        "from tensorflow.keras.models import Sequential\n",
        "from tensorflow.keras.layers import Dense, Dropout, Activation, Flatten\n",
        "from tensorflow.keras.layers import Conv2D"
      ],
      "execution_count": 4,
      "outputs": []
    },
    {
      "cell_type": "code",
      "metadata": {
        "colab": {
          "base_uri": "https://localhost:8080/"
        },
        "id": "aMER-upERlGj",
        "outputId": "db17f5b7-a1c7-41ec-c2c3-d2fd15a95f15"
      },
      "source": [
        "print(keras.__version__)"
      ],
      "execution_count": 5,
      "outputs": [
        {
          "output_type": "stream",
          "text": [
            "2.4.3\n"
          ],
          "name": "stdout"
        }
      ]
    },
    {
      "cell_type": "code",
      "metadata": {
        "colab": {
          "base_uri": "https://localhost:8080/"
        },
        "id": "jVcBpSkTRnHj",
        "outputId": "939677ee-e54f-4d53-c549-c69bd7f6dff3"
      },
      "source": [
        "from keras.datasets import fashion_mnist\n",
        "(train_X,train_Y), (test_X,test_Y) = fashion_mnist.load_data()"
      ],
      "execution_count": 6,
      "outputs": [
        {
          "output_type": "stream",
          "text": [
            "Downloading data from https://storage.googleapis.com/tensorflow/tf-keras-datasets/train-labels-idx1-ubyte.gz\n",
            "32768/29515 [=================================] - 0s 0us/step\n",
            "Downloading data from https://storage.googleapis.com/tensorflow/tf-keras-datasets/train-images-idx3-ubyte.gz\n",
            "26427392/26421880 [==============================] - 0s 0us/step\n",
            "Downloading data from https://storage.googleapis.com/tensorflow/tf-keras-datasets/t10k-labels-idx1-ubyte.gz\n",
            "8192/5148 [===============================================] - 0s 0us/step\n",
            "Downloading data from https://storage.googleapis.com/tensorflow/tf-keras-datasets/t10k-images-idx3-ubyte.gz\n",
            "4423680/4422102 [==============================] - 0s 0us/step\n"
          ],
          "name": "stdout"
        }
      ]
    },
    {
      "cell_type": "code",
      "metadata": {
        "colab": {
          "base_uri": "https://localhost:8080/",
          "height": 283
        },
        "id": "rowzkeCBR4Ja",
        "outputId": "8926ede7-c9b2-4df7-bee9-c8c40534139f"
      },
      "source": [
        "plt.imshow(train_X[0])\n",
        "print(train_Y[0])"
      ],
      "execution_count": 7,
      "outputs": [
        {
          "output_type": "stream",
          "text": [
            "9\n"
          ],
          "name": "stdout"
        },
        {
          "output_type": "display_data",
          "data": {
            "image/png": "[encoded data removed]",
            "text/plain": [
              "<Figure size 432x288 with 1 Axes>"
            ]
          },
          "metadata": {
            "tags": [],
            "needs_background": "light"
          }
        }
      ]
    },
    {
      "cell_type": "code",
      "metadata": {
        "colab": {
          "base_uri": "https://localhost:8080/"
        },
        "id": "fUriE4ipSCSb",
        "outputId": "e687d3a7-c7cc-4a3e-dd41-537c4049f065"
      },
      "source": [
        "\n",
        "print('Training data shape : ', train_X.shape, train_Y.shape)\n",
        "\n",
        "print('Testing data shape : ', test_X.shape, test_Y.shape)"
      ],
      "execution_count": 8,
      "outputs": [
        {
          "output_type": "stream",
          "text": [
            "Training data shape :  (60000, 28, 28) (60000,)\n",
            "Testing data shape :  (10000, 28, 28) (10000,)\n"
          ],
          "name": "stdout"
        }
      ]
    },
    {
      "cell_type": "code",
      "metadata": {
        "colab": {
          "base_uri": "https://localhost:8080/"
        },
        "id": "DUXb5MEdSFvr",
        "outputId": "58970171-5470-4b1f-c76f-e6a4d708b73c"
      },
      "source": [
        "classes = np.unique(train_Y)\n",
        "nClasses = len(classes)\n",
        "print('Total number of outputs : ', nClasses)\n",
        "print('Output classes : ', classes)"
      ],
      "execution_count": 9,
      "outputs": [
        {
          "output_type": "stream",
          "text": [
            "Total number of outputs :  10\n",
            "Output classes :  [0 1 2 3 4 5 6 7 8 9]\n"
          ],
          "name": "stdout"
        }
      ]
    },
    {
      "cell_type": "code",
      "metadata": {
        "colab": {
          "base_uri": "https://localhost:8080/",
          "height": 209
        },
        "id": "1_OrRXt0SKaY",
        "outputId": "2a8ca0a7-4d33-42d6-a8a2-d91b210afe13"
      },
      "source": [
        "plt.figure(figsize=[5,5])\n",
        "\n",
        "# Display the first image in training data\n",
        "plt.subplot(121)\n",
        "plt.imshow(train_X[0,:,:], cmap='gray')\n",
        "plt.title(\"Ground Truth : {}\".format(train_Y[0]))\n",
        "\n",
        "# Display the first image in testing data\n",
        "plt.subplot(122)\n",
        "plt.imshow(test_X[0,:,:], cmap='gray')\n",
        "plt.title(\"Ground Truth : {}\".format(test_Y[0]))"
      ],
      "execution_count": 10,
      "outputs": [
        {
          "output_type": "execute_result",
          "data": {
            "text/plain": [
              "Text(0.5, 1.0, 'Ground Truth : 9')"
            ]
          },
          "metadata": {
            "tags": []
          },
          "execution_count": 10
        },
        {
          "output_type": "display_data",
          "data": {
            "image/png": "[encoded data removed]",
            "text/plain": [
              "<Figure size 360x360 with 2 Axes>"
            ]
          },
          "metadata": {
            "tags": [],
            "needs_background": "light"
          }
        }
      ]
    },
    {
      "cell_type": "code",
      "metadata": {
        "colab": {
          "base_uri": "https://localhost:8080/"
        },
        "id": "qu5vciJsSiwe",
        "outputId": "a23d023b-3ba5-41f1-a327-90b47b17b3f0"
      },
      "source": [
        "train_X = train_X.reshape(-1, 28,28, 1)\n",
        "test_X = test_X.reshape(-1, 28,28, 1)\n",
        "train_X.shape, test_X.shape"
      ],
      "execution_count": 11,
      "outputs": [
        {
          "output_type": "execute_result",
          "data": {
            "text/plain": [
              "((60000, 28, 28, 1), (10000, 28, 28, 1))"
            ]
          },
          "metadata": {
            "tags": []
          },
          "execution_count": 11
        }
      ]
    },
    {
      "cell_type": "code",
      "metadata": {
        "id": "vs9XVuDsSpXF"
      },
      "source": [
        "train_X = train_X.astype('float32') #astype() convert pandas object to specific datatype(float)\n",
        "test_X = test_X.astype('float32')\n",
        "train_X = train_X / 255.\n",
        "test_X = test_X / 255"
      ],
      "execution_count": 12,
      "outputs": []
    },
    {
      "cell_type": "code",
      "metadata": {
        "colab": {
          "base_uri": "https://localhost:8080/"
        },
        "id": "TvyIX0D3Su9u",
        "outputId": "5e262b11-923e-49b9-f82b-03b8f549c008"
      },
      "source": [
        "# Change the labels from categorical to one-hot encoding\n",
        "train_Y_one_hot = to_categorical(train_Y)\n",
        "test_Y_one_hot = to_categorical(test_Y)\n",
        "\n",
        "# Display the change for category label using one-hot encoding\n",
        "print('Original label:', train_Y[0])\n",
        "print('After conversion to one-hot:', train_Y_one_hot[0])"
      ],
      "execution_count": 13,
      "outputs": [
        {
          "output_type": "stream",
          "text": [
            "Original label: 9\n",
            "After conversion to one-hot: [0. 0. 0. 0. 0. 0. 0. 0. 0. 1.]\n"
          ],
          "name": "stdout"
        }
      ]
    },
    {
      "cell_type": "code",
      "metadata": {
        "id": "rIWTaI8VTJVC"
      },
      "source": [
        "from sklearn.model_selection import train_test_split\n",
        "train_X,valid_X,train_label,valid_label = train_test_split(train_X, train_Y_one_hot, test_size=0.2, random_state=13)"
      ],
      "execution_count": 14,
      "outputs": []
    },
    {
      "cell_type": "code",
      "metadata": {
        "colab": {
          "base_uri": "https://localhost:8080/"
        },
        "id": "46pWNgpUTUxI",
        "outputId": "110fcbae-5753-4a62-febd-6b1ed0f43215"
      },
      "source": [
        "train_X.shape,valid_X.shape,train_label.shape,valid_label.shape"
      ],
      "execution_count": 15,
      "outputs": [
        {
          "output_type": "execute_result",
          "data": {
            "text/plain": [
              "((48000, 28, 28, 1), (12000, 28, 28, 1), (48000, 10), (12000, 10))"
            ]
          },
          "metadata": {
            "tags": []
          },
          "execution_count": 15
        }
      ]
    },
    {
      "cell_type": "code",
      "metadata": {
        "id": "y7ZzY2iZTXWw"
      },
      "source": [
        "import keras\n",
        "from keras.models import Sequential,Input,Model\n",
        "from keras.layers import Dense, Dropout, Flatten\n",
        "from keras.layers import Conv2D, MaxPooling2D\n",
        "from keras.layers.normalization import BatchNormalization\n",
        "from keras.layers.advanced_activations import LeakyReLU"
      ],
      "execution_count": 16,
      "outputs": []
    },
    {
      "cell_type": "code",
      "metadata": {
        "id": "cw4dTRLITbqi"
      },
      "source": [
        "batch_size = 64\n",
        "epochs = 20\n",
        "num_classes = 10"
      ],
      "execution_count": 17,
      "outputs": []
    },
    {
      "cell_type": "code",
      "metadata": {
        "id": "DhQ9OnICTeOD"
      },
      "source": [
        "import keras\n",
        "import keras.models as models"
      ],
      "execution_count": 18,
      "outputs": []
    },
    {
      "cell_type": "code",
      "metadata": {
        "colab": {
          "base_uri": "https://localhost:8080/"
        },
        "id": "DDBfcaUUTgtD",
        "outputId": "6f36691f-d7c4-4f15-b41c-c49a524b866b"
      },
      "source": [
        "train_X.shape[1:]"
      ],
      "execution_count": 19,
      "outputs": [
        {
          "output_type": "execute_result",
          "data": {
            "text/plain": [
              "(28, 28, 1)"
            ]
          },
          "metadata": {
            "tags": []
          },
          "execution_count": 19
        }
      ]
    },
    {
      "cell_type": "code",
      "metadata": {
        "id": "QL1rV0HsTisF"
      },
      "source": [
        "model = tf.keras.Sequential()"
      ],
      "execution_count": 20,
      "outputs": []
    },
    {
      "cell_type": "code",
      "metadata": {
        "id": "JWW6AbsrTlHp"
      },
      "source": [
        "model.add(tf.keras.layers.Conv2D(32,(3,3),activation='linear',input_shape=(28, 28,1),padding='same'))\n",
        "model.add(tf.keras.layers.LeakyReLU(alpha=0.1))\n",
        "model.add(tf.keras.layers.MaxPooling2D((2, 2),padding='same'))"
      ],
      "execution_count": 21,
      "outputs": []
    },
    {
      "cell_type": "code",
      "metadata": {
        "id": "DyNolud5TnbT"
      },
      "source": [
        "model.add(tf.keras.layers.Conv2D(64, (3, 3), activation='linear',padding='same'))\n",
        "model.add(tf.keras.layers.LeakyReLU(alpha=0.1))\n",
        "model.add(tf.keras.layers.MaxPooling2D(pool_size=(2, 2),padding='same'))\n",
        "model.add(tf.keras.layers.Conv2D(128, (3, 3), activation='linear',padding='same'))\n",
        "model.add(tf.keras.layers.LeakyReLU(alpha=0.1))                  \n",
        "model.add(tf.keras.layers.MaxPooling2D(pool_size=(2, 2),padding='same'))"
      ],
      "execution_count": 22,
      "outputs": []
    },
    {
      "cell_type": "code",
      "metadata": {
        "id": "9pgUD2_ZTwEP"
      },
      "source": [
        "model.add(tf.keras.layers.Flatten())"
      ],
      "execution_count": 23,
      "outputs": []
    },
    {
      "cell_type": "code",
      "metadata": {
        "id": "lWHBzsvmTyye"
      },
      "source": [
        "model.add(tf.keras.layers.Dense(128, activation='linear'))\n",
        "model.add(tf.keras.layers.LeakyReLU(alpha=0.1))                  \n",
        "model.add(tf.keras.layers.Dense(num_classes, activation='softmax'))"
      ],
      "execution_count": 24,
      "outputs": []
    },
    {
      "cell_type": "code",
      "metadata": {
        "id": "5IHrjy5UT3eR"
      },
      "source": [
        "model.compile(loss=tf.keras.losses.categorical_crossentropy, optimizer=tf.keras.optimizers.Adam(),metrics=['accuracy'])"
      ],
      "execution_count": 25,
      "outputs": []
    },
    {
      "cell_type": "code",
      "metadata": {
        "colab": {
          "base_uri": "https://localhost:8080/"
        },
        "id": "Svdnsb2yT6qf",
        "outputId": "20c450f3-a31b-4f6b-c4f9-eed4404600a3"
      },
      "source": [
        "model.summary()"
      ],
      "execution_count": 26,
      "outputs": [
        {
          "output_type": "stream",
          "text": [
            "Model: \"sequential\"\n",
            "_________________________________________________________________\n",
            "Layer (type)                 Output Shape              Param #   \n",
            "=================================================================\n",
            "conv2d (Conv2D)              (None, 28, 28, 32)        320       \n",
            "_________________________________________________________________\n",
            "leaky_re_lu (LeakyReLU)      (None, 28, 28, 32)        0         \n",
            "_________________________________________________________________\n",
            "max_pooling2d (MaxPooling2D) (None, 14, 14, 32)        0         \n",
            "_________________________________________________________________\n",
            "conv2d_1 (Conv2D)            (None, 14, 14, 64)        18496     \n",
            "_________________________________________________________________\n",
            "leaky_re_lu_1 (LeakyReLU)    (None, 14, 14, 64)        0         \n",
            "_________________________________________________________________\n",
            "max_pooling2d_1 (MaxPooling2 (None, 7, 7, 64)          0         \n",
            "_________________________________________________________________\n",
            "conv2d_2 (Conv2D)            (None, 7, 7, 128)         73856     \n",
            "_________________________________________________________________\n",
            "leaky_re_lu_2 (LeakyReLU)    (None, 7, 7, 128)         0         \n",
            "_________________________________________________________________\n",
            "max_pooling2d_2 (MaxPooling2 (None, 4, 4, 128)         0         \n",
            "_________________________________________________________________\n",
            "flatten (Flatten)            (None, 2048)              0         \n",
            "_________________________________________________________________\n",
            "dense (Dense)                (None, 128)               262272    \n",
            "_________________________________________________________________\n",
            "leaky_re_lu_3 (LeakyReLU)    (None, 128)               0         \n",
            "_________________________________________________________________\n",
            "dense_1 (Dense)              (None, 10)                1290      \n",
            "=================================================================\n",
            "Total params: 356,234\n",
            "Trainable params: 356,234\n",
            "Non-trainable params: 0\n",
            "_________________________________________________________________\n"
          ],
          "name": "stdout"
        }
      ]
    },
    {
      "cell_type": "code",
      "metadata": {
        "id": "6QpFpgxoT9ex"
      },
      "source": [
        "# No of param =[(Size of kernal)*(no of filetrs in previous layer)+1] * (no of filter in current layer)"
      ],
      "execution_count": 27,
      "outputs": []
    },
    {
      "cell_type": "code",
      "metadata": {
        "colab": {
          "base_uri": "https://localhost:8080/"
        },
        "id": "DHK7zTwLUPHI",
        "outputId": "622b71cd-a267-456f-949a-5065b72b3c82"
      },
      "source": [
        "model_train=model.fit(train_X, train_label, batch_size=64,epochs=20,verbose=1,validation_data=(valid_X, valid_label))"
      ],
      "execution_count": 28,
      "outputs": [
        {
          "output_type": "stream",
          "text": [
            "Epoch 1/20\n",
            "750/750 [==============================] - 88s 116ms/step - loss: 0.6763 - accuracy: 0.7595 - val_loss: 0.3113 - val_accuracy: 0.8892\n",
            "Epoch 2/20\n",
            "750/750 [==============================] - 87s 116ms/step - loss: 0.2918 - accuracy: 0.8938 - val_loss: 0.2750 - val_accuracy: 0.9007\n",
            "Epoch 3/20\n",
            "750/750 [==============================] - 86s 115ms/step - loss: 0.2435 - accuracy: 0.9131 - val_loss: 0.2515 - val_accuracy: 0.9082\n",
            "Epoch 4/20\n",
            "750/750 [==============================] - 87s 115ms/step - loss: 0.2025 - accuracy: 0.9262 - val_loss: 0.2522 - val_accuracy: 0.9065\n",
            "Epoch 5/20\n",
            "750/750 [==============================] - 87s 116ms/step - loss: 0.1814 - accuracy: 0.9329 - val_loss: 0.2247 - val_accuracy: 0.9212\n",
            "Epoch 6/20\n",
            "750/750 [==============================] - 87s 116ms/step - loss: 0.1583 - accuracy: 0.9409 - val_loss: 0.2233 - val_accuracy: 0.9208\n",
            "Epoch 7/20\n",
            "750/750 [==============================] - 87s 116ms/step - loss: 0.1308 - accuracy: 0.9518 - val_loss: 0.2325 - val_accuracy: 0.9214\n",
            "Epoch 8/20\n",
            "750/750 [==============================] - 90s 120ms/step - loss: 0.1110 - accuracy: 0.9574 - val_loss: 0.2387 - val_accuracy: 0.9228\n",
            "Epoch 9/20\n",
            "750/750 [==============================] - 87s 116ms/step - loss: 0.0921 - accuracy: 0.9662 - val_loss: 0.2766 - val_accuracy: 0.9183\n",
            "Epoch 10/20\n",
            "750/750 [==============================] - 87s 116ms/step - loss: 0.0731 - accuracy: 0.9724 - val_loss: 0.2701 - val_accuracy: 0.9197\n",
            "Epoch 11/20\n",
            "750/750 [==============================] - 87s 116ms/step - loss: 0.0635 - accuracy: 0.9757 - val_loss: 0.2878 - val_accuracy: 0.9208\n",
            "Epoch 12/20\n",
            "750/750 [==============================] - 87s 116ms/step - loss: 0.0540 - accuracy: 0.9812 - val_loss: 0.3281 - val_accuracy: 0.9183\n",
            "Epoch 13/20\n",
            "750/750 [==============================] - 87s 116ms/step - loss: 0.0492 - accuracy: 0.9814 - val_loss: 0.3482 - val_accuracy: 0.9219\n",
            "Epoch 14/20\n",
            "750/750 [==============================] - 87s 116ms/step - loss: 0.0468 - accuracy: 0.9823 - val_loss: 0.3470 - val_accuracy: 0.9195\n",
            "Epoch 15/20\n",
            "750/750 [==============================] - 87s 116ms/step - loss: 0.0360 - accuracy: 0.9869 - val_loss: 0.3813 - val_accuracy: 0.9219\n",
            "Epoch 16/20\n",
            "750/750 [==============================] - 88s 117ms/step - loss: 0.0337 - accuracy: 0.9874 - val_loss: 0.3740 - val_accuracy: 0.9168\n",
            "Epoch 17/20\n",
            "750/750 [==============================] - 87s 116ms/step - loss: 0.0329 - accuracy: 0.9874 - val_loss: 0.3822 - val_accuracy: 0.9204\n",
            "Epoch 18/20\n",
            "750/750 [==============================] - 87s 116ms/step - loss: 0.0242 - accuracy: 0.9911 - val_loss: 0.4222 - val_accuracy: 0.9205\n",
            "Epoch 19/20\n",
            "750/750 [==============================] - 87s 115ms/step - loss: 0.0314 - accuracy: 0.9886 - val_loss: 0.4490 - val_accuracy: 0.9179\n",
            "Epoch 20/20\n",
            "750/750 [==============================] - 86s 115ms/step - loss: 0.0265 - accuracy: 0.9903 - val_loss: 0.5123 - val_accuracy: 0.9145\n"
          ],
          "name": "stdout"
        }
      ]
    },
    {
      "cell_type": "code",
      "metadata": {
        "colab": {
          "base_uri": "https://localhost:8080/"
        },
        "id": "IKDe661wUa9u",
        "outputId": "875d13eb-6509-4c03-b1c0-701fd03625e7"
      },
      "source": [
        "test_eval = model.evaluate(test_X, test_Y_one_hot, verbose=0)\n",
        "print('Test loss:', test_eval[0])\n",
        "print('Test accuracy:', test_eval[1])"
      ],
      "execution_count": 29,
      "outputs": [
        {
          "output_type": "stream",
          "text": [
            "Test loss: 0.5416241884231567\n",
            "Test accuracy: 0.9110000133514404\n"
          ],
          "name": "stdout"
        }
      ]
    },
    {
      "cell_type": "code",
      "metadata": {
        "colab": {
          "base_uri": "https://localhost:8080/"
        },
        "id": "JGS2ozcRWHjO",
        "outputId": "0342c129-a837-48d8-d315-da605433abc3"
      },
      "source": [
        "model_train.history"
      ],
      "execution_count": 30,
      "outputs": [
        {
          "output_type": "execute_result",
          "data": {
            "text/plain": [
              "{'accuracy': [0.8348958492279053,\n",
              "  0.8953750133514404,\n",
              "  0.9136666655540466,\n",
              "  0.9241458177566528,\n",
              "  0.9332500100135803,\n",
              "  0.9401249885559082,\n",
              "  0.949916660785675,\n",
              "  0.9555208086967468,\n",
              "  0.9623125195503235,\n",
              "  0.9688958525657654,\n",
              "  0.9744791388511658,\n",
              "  0.9785208106040955,\n",
              "  0.9798750281333923,\n",
              "  0.9816250205039978,\n",
              "  0.9849791526794434,\n",
              "  0.98416668176651,\n",
              "  0.9874791502952576,\n",
              "  0.9890000224113464,\n",
              "  0.9878749847412109,\n",
              "  0.9897708296775818],\n",
              " 'loss': [0.4604073762893677,\n",
              "  0.28675875067710876,\n",
              "  0.24005217850208282,\n",
              "  0.20700719952583313,\n",
              "  0.18121422827243805,\n",
              "  0.1573343575000763,\n",
              "  0.13516484200954437,\n",
              "  0.11650127172470093,\n",
              "  0.10092201828956604,\n",
              "  0.08163793385028839,\n",
              "  0.06839077919721603,\n",
              "  0.058949004858732224,\n",
              "  0.053865574300289154,\n",
              "  0.047535333782434464,\n",
              "  0.04191553592681885,\n",
              "  0.04145671799778938,\n",
              "  0.034358199685811996,\n",
              "  0.02955264039337635,\n",
              "  0.03285126015543938,\n",
              "  0.027500661090016365],\n",
              " 'val_accuracy': [0.8892499804496765,\n",
              "  0.9006666541099548,\n",
              "  0.9081666469573975,\n",
              "  0.906499981880188,\n",
              "  0.9212499856948853,\n",
              "  0.9207500219345093,\n",
              "  0.9214166402816772,\n",
              "  0.9228333234786987,\n",
              "  0.9182500243186951,\n",
              "  0.9196666479110718,\n",
              "  0.9207500219345093,\n",
              "  0.9182500243186951,\n",
              "  0.921916663646698,\n",
              "  0.9194999933242798,\n",
              "  0.921916663646698,\n",
              "  0.9168333411216736,\n",
              "  0.9204166531562805,\n",
              "  0.9204999804496765,\n",
              "  0.9179166555404663,\n",
              "  0.9144999980926514],\n",
              " 'val_loss': [0.3112904131412506,\n",
              "  0.2749735713005066,\n",
              "  0.2515220046043396,\n",
              "  0.2522438168525696,\n",
              "  0.22470559179782867,\n",
              "  0.22331199049949646,\n",
              "  0.2325180470943451,\n",
              "  0.2387351542711258,\n",
              "  0.2765723764896393,\n",
              "  0.2701281011104584,\n",
              "  0.287845253944397,\n",
              "  0.3281235098838806,\n",
              "  0.3482121229171753,\n",
              "  0.3469713032245636,\n",
              "  0.38127800822257996,\n",
              "  0.3740471303462982,\n",
              "  0.38220515847206116,\n",
              "  0.42215535044670105,\n",
              "  0.44895392656326294,\n",
              "  0.512324869632721]}"
            ]
          },
          "metadata": {
            "tags": []
          },
          "execution_count": 30
        }
      ]
    },
    {
      "cell_type": "code",
      "metadata": {
        "colab": {
          "base_uri": "https://localhost:8080/",
          "height": 545
        },
        "id": "k5-kt1HTWPTo",
        "outputId": "7934b276-45f3-49d7-fcd3-1f796191a13d"
      },
      "source": [
        "accuracy = model_train.history['accuracy']\n",
        "val_accuracy = model_train.history['val_accuracy']\n",
        "loss = model_train.history['loss']\n",
        "val_loss = model_train.history['val_loss']\n",
        "epochs = range(len(accuracy))\n",
        "plt.plot(epochs, accuracy, 'bo', label='Training accuracy')\n",
        "plt.plot(epochs, val_accuracy, 'b', label='Validation accuracy')\n",
        "plt.title('Training and validation accuracy')\n",
        "plt.legend()\n",
        "plt.figure()\n",
        "plt.plot(epochs, loss, 'bo', label='Training loss')\n",
        "plt.plot(epochs, val_loss, 'b', label='Validation loss')\n",
        "plt.title('Training and validation loss')\n",
        "plt.legend()\n",
        "plt.show()"
      ],
      "execution_count": 31,
      "outputs": [
        {
          "output_type": "display_data",
          "data": {
            "image/png": "[encoded data removed]",
            "text/plain": [
              "<Figure size 432x288 with 1 Axes>"
            ]
          },
          "metadata": {
            "tags": [],
            "needs_background": "light"
          }
        },
        {
          "output_type": "display_data",
          "data": {
            "image/png": "[encoded data removed]",
            "text/plain": [
              "<Figure size 432x288 with 1 Axes>"
            ]
          },
          "metadata": {
            "tags": [],
            "needs_background": "light"
          }
        }
      ]
    },
    {
      "cell_type": "code",
      "metadata": {
        "id": "n97zcJh5WPgG"
      },
      "source": [
        "fashion_model = tf.keras.Sequential()\n",
        "fashion_model.add(tf.keras.layers.Conv2D(32, kernel_size=(3, 3),activation='linear',padding='same',input_shape=(28,28,1)))\n",
        "fashion_model.add(tf.keras.layers.LeakyReLU(alpha=0.1))\n",
        "fashion_model.add(tf.keras.layers.MaxPooling2D((2, 2),padding='same'))\n",
        "fashion_model.add(tf.keras.layers.Dropout(0.25))\n",
        "fashion_model.add(tf.keras.layers.Conv2D(64, (3, 3), activation='linear',padding='same'))\n",
        "fashion_model.add(tf.keras.layers.LeakyReLU(alpha=0.1))\n",
        "fashion_model.add(tf.keras.layers.MaxPooling2D(pool_size=(2, 2),padding='same'))\n",
        "fashion_model.add(tf.keras.layers.Dropout(0.25))\n",
        "fashion_model.add(tf.keras.layers.Conv2D(128, (3, 3), activation='linear',padding='same'))\n",
        "fashion_model.add(tf.keras.layers.LeakyReLU(alpha=0.1))                  \n",
        "fashion_model.add(tf.keras.layers.MaxPooling2D(pool_size=(2, 2),padding='same'))\n",
        "fashion_model.add(tf.keras.layers.Dropout(0.4))\n",
        "fashion_model.add(tf.keras.layers.Flatten())\n",
        "fashion_model.add(tf.keras.layers.Dense(128, activation='linear'))\n",
        "fashion_model.add(tf.keras.layers.LeakyReLU(alpha=0.1))           \n",
        "fashion_model.add(tf.keras.layers.Dropout(0.3))\n",
        "fashion_model.add(tf.keras.layers.Dense(num_classes, activation='softmax'))"
      ],
      "execution_count": 32,
      "outputs": []
    },
    {
      "cell_type": "code",
      "metadata": {
        "colab": {
          "base_uri": "https://localhost:8080/"
        },
        "id": "G4g7aI8SWPjA",
        "outputId": "06f6b80d-58b4-4fab-f390-4b1e176b6f1f"
      },
      "source": [
        "fashion_model.summary()"
      ],
      "execution_count": 33,
      "outputs": [
        {
          "output_type": "stream",
          "text": [
            "Model: \"sequential_1\"\n",
            "_________________________________________________________________\n",
            "Layer (type)                 Output Shape              Param #   \n",
            "=================================================================\n",
            "conv2d_3 (Conv2D)            (None, 28, 28, 32)        320       \n",
            "_________________________________________________________________\n",
            "leaky_re_lu_4 (LeakyReLU)    (None, 28, 28, 32)        0         \n",
            "_________________________________________________________________\n",
            "max_pooling2d_3 (MaxPooling2 (None, 14, 14, 32)        0         \n",
            "_________________________________________________________________\n",
            "dropout (Dropout)            (None, 14, 14, 32)        0         \n",
            "_________________________________________________________________\n",
            "conv2d_4 (Conv2D)            (None, 14, 14, 64)        18496     \n",
            "_________________________________________________________________\n",
            "leaky_re_lu_5 (LeakyReLU)    (None, 14, 14, 64)        0         \n",
            "_________________________________________________________________\n",
            "max_pooling2d_4 (MaxPooling2 (None, 7, 7, 64)          0         \n",
            "_________________________________________________________________\n",
            "dropout_1 (Dropout)          (None, 7, 7, 64)          0         \n",
            "_________________________________________________________________\n",
            "conv2d_5 (Conv2D)            (None, 7, 7, 128)         73856     \n",
            "_________________________________________________________________\n",
            "leaky_re_lu_6 (LeakyReLU)    (None, 7, 7, 128)         0         \n",
            "_________________________________________________________________\n",
            "max_pooling2d_5 (MaxPooling2 (None, 4, 4, 128)         0         \n",
            "_________________________________________________________________\n",
            "dropout_2 (Dropout)          (None, 4, 4, 128)         0         \n",
            "_________________________________________________________________\n",
            "flatten_1 (Flatten)          (None, 2048)              0         \n",
            "_________________________________________________________________\n",
            "dense_2 (Dense)              (None, 128)               262272    \n",
            "_________________________________________________________________\n",
            "leaky_re_lu_7 (LeakyReLU)    (None, 128)               0         \n",
            "_________________________________________________________________\n",
            "dropout_3 (Dropout)          (None, 128)               0         \n",
            "_________________________________________________________________\n",
            "dense_3 (Dense)              (None, 10)                1290      \n",
            "=================================================================\n",
            "Total params: 356,234\n",
            "Trainable params: 356,234\n",
            "Non-trainable params: 0\n",
            "_________________________________________________________________\n"
          ],
          "name": "stdout"
        }
      ]
    },
    {
      "cell_type": "code",
      "metadata": {
        "id": "JpXy2t9bWbp5"
      },
      "source": [
        "fashion_model.compile(loss=tf.keras.losses.categorical_crossentropy, optimizer=tf.keras.optimizers.Adam(),metrics=['accuracy'])"
      ],
      "execution_count": 34,
      "outputs": []
    },
    {
      "cell_type": "code",
      "metadata": {
        "colab": {
          "base_uri": "https://localhost:8080/"
        },
        "id": "_OiRbB0YWbsW",
        "outputId": "c5018538-982a-4501-b731-fa687f55d310"
      },
      "source": [
        "fashion_train_dropout = fashion_model.fit(train_X, train_label, batch_size=64,epochs=20,verbose=1,validation_data=(valid_X, valid_label))"
      ],
      "execution_count": 35,
      "outputs": [
        {
          "output_type": "stream",
          "text": [
            "Epoch 1/20\n",
            "750/750 [==============================] - 93s 123ms/step - loss: 0.8695 - accuracy: 0.6716 - val_loss: 0.3646 - val_accuracy: 0.8677\n",
            "Epoch 2/20\n",
            "750/750 [==============================] - 92s 123ms/step - loss: 0.3997 - accuracy: 0.8536 - val_loss: 0.3464 - val_accuracy: 0.8706\n",
            "Epoch 3/20\n",
            "750/750 [==============================] - 92s 123ms/step - loss: 0.3330 - accuracy: 0.8747 - val_loss: 0.2817 - val_accuracy: 0.8957\n",
            "Epoch 4/20\n",
            "750/750 [==============================] - 93s 124ms/step - loss: 0.3035 - accuracy: 0.8870 - val_loss: 0.2572 - val_accuracy: 0.9047\n",
            "Epoch 5/20\n",
            "750/750 [==============================] - 92s 123ms/step - loss: 0.2838 - accuracy: 0.8942 - val_loss: 0.2546 - val_accuracy: 0.9080\n",
            "Epoch 6/20\n",
            "750/750 [==============================] - 92s 122ms/step - loss: 0.2684 - accuracy: 0.8981 - val_loss: 0.2406 - val_accuracy: 0.9125\n",
            "Epoch 7/20\n",
            "750/750 [==============================] - 92s 122ms/step - loss: 0.2502 - accuracy: 0.9073 - val_loss: 0.2360 - val_accuracy: 0.9114\n",
            "Epoch 8/20\n",
            "750/750 [==============================] - 91s 121ms/step - loss: 0.2405 - accuracy: 0.9095 - val_loss: 0.2331 - val_accuracy: 0.9138\n",
            "Epoch 9/20\n",
            "750/750 [==============================] - 91s 121ms/step - loss: 0.2381 - accuracy: 0.9111 - val_loss: 0.2351 - val_accuracy: 0.9135\n",
            "Epoch 10/20\n",
            "750/750 [==============================] - 91s 122ms/step - loss: 0.2276 - accuracy: 0.9150 - val_loss: 0.2302 - val_accuracy: 0.9143\n",
            "Epoch 11/20\n",
            "750/750 [==============================] - 92s 122ms/step - loss: 0.2166 - accuracy: 0.9181 - val_loss: 0.2152 - val_accuracy: 0.9221\n",
            "Epoch 12/20\n",
            "750/750 [==============================] - 91s 122ms/step - loss: 0.2201 - accuracy: 0.9196 - val_loss: 0.2181 - val_accuracy: 0.9197\n",
            "Epoch 13/20\n",
            "750/750 [==============================] - 92s 122ms/step - loss: 0.2114 - accuracy: 0.9192 - val_loss: 0.2170 - val_accuracy: 0.9217\n",
            "Epoch 14/20\n",
            "750/750 [==============================] - 92s 123ms/step - loss: 0.2098 - accuracy: 0.9214 - val_loss: 0.2218 - val_accuracy: 0.9200\n",
            "Epoch 15/20\n",
            "750/750 [==============================] - 92s 122ms/step - loss: 0.2093 - accuracy: 0.9221 - val_loss: 0.2175 - val_accuracy: 0.9210\n",
            "Epoch 16/20\n",
            "750/750 [==============================] - 92s 122ms/step - loss: 0.2085 - accuracy: 0.9232 - val_loss: 0.2111 - val_accuracy: 0.9230\n",
            "Epoch 17/20\n",
            "750/750 [==============================] - 91s 122ms/step - loss: 0.2011 - accuracy: 0.9228 - val_loss: 0.2142 - val_accuracy: 0.9248\n",
            "Epoch 18/20\n",
            "750/750 [==============================] - 91s 122ms/step - loss: 0.1985 - accuracy: 0.9256 - val_loss: 0.2094 - val_accuracy: 0.9243\n",
            "Epoch 19/20\n",
            "750/750 [==============================] - 91s 122ms/step - loss: 0.1974 - accuracy: 0.9243 - val_loss: 0.2126 - val_accuracy: 0.9233\n",
            "Epoch 20/20\n",
            "750/750 [==============================] - 91s 122ms/step - loss: 0.1907 - accuracy: 0.9286 - val_loss: 0.2128 - val_accuracy: 0.9241\n"
          ],
          "name": "stdout"
        }
      ]
    },
    {
      "cell_type": "code",
      "metadata": {
        "colab": {
          "base_uri": "https://localhost:8080/"
        },
        "id": "JGwhvqZYWbw1",
        "outputId": "dc796049-0496-4224-de72-1a6f153588a2"
      },
      "source": [
        "fashion_model.save(\"fashion_model_dropout.h5py\")"
      ],
      "execution_count": 36,
      "outputs": [
        {
          "output_type": "stream",
          "text": [
            "INFO:tensorflow:Assets written to: fashion_model_dropout.h5py/assets\n"
          ],
          "name": "stdout"
        }
      ]
    },
    {
      "cell_type": "code",
      "metadata": {
        "colab": {
          "base_uri": "https://localhost:8080/"
        },
        "id": "o41WsOSYWbzi",
        "outputId": "89a4a6ad-1692-434c-ef47-442b36bb896f"
      },
      "source": [
        "test_eval = fashion_model.evaluate(test_X, test_Y_one_hot, verbose=1)"
      ],
      "execution_count": 37,
      "outputs": [
        {
          "output_type": "stream",
          "text": [
            "313/313 [==============================] - 6s 19ms/step - loss: 0.2262 - accuracy: 0.9178\n"
          ],
          "name": "stdout"
        }
      ]
    },
    {
      "cell_type": "code",
      "metadata": {
        "colab": {
          "base_uri": "https://localhost:8080/"
        },
        "id": "4XdMhnKmWswZ",
        "outputId": "5342b022-f538-40da-f7ca-3ded7dcb7b3a"
      },
      "source": [
        "print('Test loss:', test_eval[0])\n",
        "print('Test accuracy:', test_eval[1])"
      ],
      "execution_count": 38,
      "outputs": [
        {
          "output_type": "stream",
          "text": [
            "Test loss: 0.22622260451316833\n",
            "Test accuracy: 0.9178000092506409\n"
          ],
          "name": "stdout"
        }
      ]
    },
    {
      "cell_type": "code",
      "metadata": {
        "colab": {
          "base_uri": "https://localhost:8080/",
          "height": 545
        },
        "id": "fDdTNsv0WwW5",
        "outputId": "224072a5-f64e-47bc-c7a9-a44432f7bdd4"
      },
      "source": [
        "accuracy = fashion_train_dropout.history['accuracy']\n",
        "val_accuracy = fashion_train_dropout.history['val_accuracy']\n",
        "loss = fashion_train_dropout.history['loss']\n",
        "val_loss = fashion_train_dropout.history['val_loss']\n",
        "epochs = range(len(accuracy))\n",
        "plt.plot(epochs, accuracy, 'bo', label='Training accuracy')\n",
        "plt.plot(epochs, val_accuracy, 'b', label='Validation accuracy')\n",
        "plt.title('Training and validation accuracy')\n",
        "plt.legend()\n",
        "plt.figure()\n",
        "plt.plot(epochs, loss, 'bo', label='Training loss')\n",
        "plt.plot(epochs, val_loss, 'b', label='Validation loss')\n",
        "plt.title('Training and validation loss')\n",
        "plt.legend()\n",
        "plt.show()"
      ],
      "execution_count": 39,
      "outputs": [
        {
          "output_type": "display_data",
          "data": {
            "image/png": "[encoded data removed]",
            "text/plain": [
              "<Figure size 432x288 with 1 Axes>"
            ]
          },
          "metadata": {
            "tags": [],
            "needs_background": "light"
          }
        },
        {
          "output_type": "display_data",
          "data": {
            "image/png": "[encoded data removed]",
            "text/plain": [
              "<Figure size 432x288 with 1 Axes>"
            ]
          },
          "metadata": {
            "tags": [],
            "needs_background": "light"
          }
        }
      ]
    },
    {
      "cell_type": "code",
      "metadata": {
        "id": "v0bOoOkjW3Qs"
      },
      "source": [
        "predicted_classes = fashion_model.predict(test_X)"
      ],
      "execution_count": 40,
      "outputs": []
    },
    {
      "cell_type": "code",
      "metadata": {
        "id": "Kvb6mqc1W3Th"
      },
      "source": [
        "predicted_classes = np.argmax(np.round(predicted_classes),axis=1)"
      ],
      "execution_count": 41,
      "outputs": []
    },
    {
      "cell_type": "code",
      "metadata": {
        "colab": {
          "base_uri": "https://localhost:8080/",
          "height": 315
        },
        "id": "D5q5vlJ4W7Rq",
        "outputId": "2ac9dc80-a05d-4722-c787-a49d12a5e5f4"
      },
      "source": [
        "correct = np.where(predicted_classes==test_Y)[0]\n",
        "print (\"Found %d correct labels\" % len(correct))\n",
        "for i, correct in enumerate(correct[:9]):\n",
        "    plt.subplot(3,3,i+1)\n",
        "    plt.imshow(test_X[correct].reshape(28,28), cmap='gray', interpolation='none')\n",
        "    plt.title(\"Predicted {}, Class {}\".format(predicted_classes[correct], test_Y[correct]))\n",
        "    plt.tight_layout()"
      ],
      "execution_count": 42,
      "outputs": [
        {
          "output_type": "stream",
          "text": [
            "Found 9131 correct labels\n"
          ],
          "name": "stdout"
        },
        {
          "output_type": "display_data",
          "data": {
            "image/png": "[encoded data removed]",
            "text/plain": [
              "<Figure size 432x288 with 9 Axes>"
            ]
          },
          "metadata": {
            "tags": [],
            "needs_background": "light"
          }
        }
      ]
    },
    {
      "cell_type": "code",
      "metadata": {
        "colab": {
          "base_uri": "https://localhost:8080/",
          "height": 315
        },
        "id": "lue0fs0WXBcO",
        "outputId": "0fed91c2-e40c-4c9e-95b6-126943aa00b3"
      },
      "source": [
        "incorrect = np.where(predicted_classes!=test_Y)[0]\n",
        "print (\"Found %d incorrect labels\" % len(incorrect))\n",
        "for i, incorrect in enumerate(incorrect[:9]):\n",
        "    plt.subplot(3,3,i+1)\n",
        "    plt.imshow(test_X[incorrect].reshape(28,28), cmap='gray', interpolation='none')\n",
        "    plt.title(\"Predicted {}, Class {}\".format(predicted_classes[incorrect], test_Y[incorrect]))\n",
        "    plt.tight_layout()"
      ],
      "execution_count": 43,
      "outputs": [
        {
          "output_type": "stream",
          "text": [
            "Found 869 incorrect labels\n"
          ],
          "name": "stdout"
        },
        {
          "output_type": "display_data",
          "data": {
            "image/png": "[encoded data removed]",
            "text/plain": [
              "<Figure size 432x288 with 9 Axes>"
            ]
          },
          "metadata": {
            "tags": [],
            "needs_background": "light"
          }
        }
      ]
    },
    {
      "cell_type": "code",
      "metadata": {
        "colab": {
          "base_uri": "https://localhost:8080/"
        },
        "id": "tVVQ-O9SXF4m",
        "outputId": "5d434a28-3f12-40c7-d811-40c98fcd9a77"
      },
      "source": [
        "from sklearn.metrics import classification_report\n",
        "target_names = [\"Class {}\".format(i) for i in range(num_classes)]\n",
        "print(classification_report(test_Y, predicted_classes, target_names=target_names))"
      ],
      "execution_count": 44,
      "outputs": [
        {
          "output_type": "stream",
          "text": [
            "              precision    recall  f1-score   support\n",
            "\n",
            "     Class 0       0.77      0.90      0.83      1000\n",
            "     Class 1       1.00      0.98      0.99      1000\n",
            "     Class 2       0.87      0.88      0.87      1000\n",
            "     Class 3       0.95      0.90      0.93      1000\n",
            "     Class 4       0.89      0.83      0.86      1000\n",
            "     Class 5       0.99      0.97      0.98      1000\n",
            "     Class 6       0.78      0.75      0.76      1000\n",
            "     Class 7       0.94      0.99      0.96      1000\n",
            "     Class 8       0.99      0.98      0.99      1000\n",
            "     Class 9       0.98      0.95      0.96      1000\n",
            "\n",
            "    accuracy                           0.91     10000\n",
            "   macro avg       0.92      0.91      0.91     10000\n",
            "weighted avg       0.92      0.91      0.91     10000\n",
            "\n"
          ],
          "name": "stdout"
        }
      ]
    },
    {
      "cell_type": "code",
      "metadata": {
        "id": "xzThUcgiXI-l"
      },
      "source": [
        ""
      ],
      "execution_count": null,
      "outputs": []
    }
  ]
}