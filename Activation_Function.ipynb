{
  "nbformat": 4,
  "nbformat_minor": 0,
  "metadata": {
    "colab": {
      "name": "Activation Function.ipynb",
      "provenance": [],
      "authorship_tag": "ABX9TyOErZPhdz5LXn/klW3XdO//",
      "include_colab_link": true
    },
    "kernelspec": {
      "name": "python3",
      "display_name": "Python 3"
    },
    "language_info": {
      "name": "python"
    }
  },
  "cells": [
    {
      "cell_type": "markdown",
      "metadata": {
        "id": "view-in-github",
        "colab_type": "text"
      },
      "source": [
        "<a href=\"https://colab.research.google.com/github/AYUSH-11/Machine-Learning/blob/main/Activation_Function.ipynb\" target=\"_parent\"><img src=\"https://colab.research.google.com/assets/colab-badge.svg\" alt=\"Open In Colab\"/></a>"
      ]
    },
    {
      "cell_type": "code",
      "metadata": {
        "id": "IlcEz_WR71Pi"
      },
      "source": [
        "%matplotlib inline\n",
        "import matplotlib.pyplot as plt\n",
        "import seaborn as sns"
      ],
      "execution_count": 1,
      "outputs": []
    },
    {
      "cell_type": "code",
      "metadata": {
        "id": "2Ltt_7nQ9F8T"
      },
      "source": [
        "def plot_fun(x,y,title):\n",
        "    plt.figure(figsize=(5,3)).gca()\n",
        "    plt.plot(x,y)\n",
        "    plt.xlabel('x')\n",
        "    plt.ylabel('y')\n",
        "    plt.title(title)"
      ],
      "execution_count": 2,
      "outputs": []
    },
    {
      "cell_type": "markdown",
      "metadata": {
        "id": "8PRfPpiDH-tK"
      },
      "source": [
        "# Binary Function"
      ]
    },
    {
      "cell_type": "code",
      "metadata": {
        "id": "AntzUcOkAFzT"
      },
      "source": [
        "def binary(x):\n",
        "    if(x<0):\n",
        "        return 0\n",
        "    else :\n",
        "        return 1"
      ],
      "execution_count": 3,
      "outputs": []
    },
    {
      "cell_type": "code",
      "metadata": {
        "id": "hVi1tRbHBCUE"
      },
      "source": [
        "x = [float(x)/100 for x in range(-500,500)] #input\n",
        "y = [binary(x1) for x1 in x]  #output"
      ],
      "execution_count": 4,
      "outputs": []
    },
    {
      "cell_type": "code",
      "metadata": {
        "colab": {
          "base_uri": "https://localhost:8080/",
          "height": 241
        },
        "id": "wloZConeBFhQ",
        "outputId": "beeacfa4-5a08-4d59-b06f-726b2118b417"
      },
      "source": [
        "#plotting Binary function\n",
        "plot_fun(x,y,'Binary-function')"
      ],
      "execution_count": 5,
      "outputs": [
        {
          "output_type": "display_data",
          "data": {
            "image/png": "[encoded data removed]",
            "text/plain": [
              "<Figure size 360x216 with 1 Axes>"
            ]
          },
          "metadata": {
            "tags": [],
            "needs_background": "light"
          }
        }
      ]
    },
    {
      "cell_type": "markdown",
      "metadata": {
        "id": "Y09f1G-QILDA"
      },
      "source": [
        "# Step Function"
      ]
    },
    {
      "cell_type": "code",
      "metadata": {
        "id": "lWJ0qafXBTb3"
      },
      "source": [
        "#Step\n",
        "alpha = 2;\n",
        "def step(x):\n",
        "    if(x<0):\n",
        "        return 0\n",
        "    else :\n",
        "        return alpha"
      ],
      "execution_count": 6,
      "outputs": []
    },
    {
      "cell_type": "code",
      "metadata": {
        "id": "zGQkh_gUBwK3"
      },
      "source": [
        "x = [float(x)/100 for x in range(-500,500)] #input\n",
        "y = [step(x1) for x1 in x]  #output"
      ],
      "execution_count": 7,
      "outputs": []
    },
    {
      "cell_type": "code",
      "metadata": {
        "colab": {
          "base_uri": "https://localhost:8080/",
          "height": 241
        },
        "id": "Cq6p3Z1QBoTb",
        "outputId": "a2cb6b71-cc91-4e3a-8f62-7afb3014b531"
      },
      "source": [
        "#plotting Step function\n",
        "plot_fun(x,y,'Step-function')"
      ],
      "execution_count": 8,
      "outputs": [
        {
          "output_type": "display_data",
          "data": {
            "image/png": "[encoded data removed]",
            "text/plain": [
              "<Figure size 360x216 with 1 Axes>"
            ]
          },
          "metadata": {
            "tags": [],
            "needs_background": "light"
          }
        }
      ]
    },
    {
      "cell_type": "markdown",
      "metadata": {
        "id": "fTpIOxu3IU4w"
      },
      "source": [
        "# Linear Function"
      ]
    },
    {
      "cell_type": "code",
      "metadata": {
        "id": "Y11TjhYaByqJ"
      },
      "source": [
        "slop=1\n",
        "y_intercept=0\n",
        "def linear(x):\n",
        "    return slop*x+y_intercept"
      ],
      "execution_count": 9,
      "outputs": []
    },
    {
      "cell_type": "code",
      "metadata": {
        "id": "dJj4DwACCLnD"
      },
      "source": [
        "x = [float(x) for x in range(-10,10)] #input\n",
        "y = [linear(x1) for x1 in x]  #output"
      ],
      "execution_count": 10,
      "outputs": []
    },
    {
      "cell_type": "code",
      "metadata": {
        "colab": {
          "base_uri": "https://localhost:8080/",
          "height": 241
        },
        "id": "w08cG2yhCbte",
        "outputId": "3fa9c95e-ad46-4961-ec0c-1fc63481716e"
      },
      "source": [
        "#plotting Linear function\n",
        "plot_fun(x,y,'Linear-Function')"
      ],
      "execution_count": 11,
      "outputs": [
        {
          "output_type": "display_data",
          "data": {
            "image/png": "[encoded data removed]",
            "text/plain": [
              "<Figure size 360x216 with 1 Axes>"
            ]
          },
          "metadata": {
            "tags": [],
            "needs_background": "light"
          }
        }
      ]
    },
    {
      "cell_type": "markdown",
      "metadata": {
        "id": "QFTJreJ3ImgQ"
      },
      "source": [
        "# Rectified Linear Unit Function"
      ]
    },
    {
      "cell_type": "code",
      "metadata": {
        "id": "p9holhIoC7Bl"
      },
      "source": [
        "def relu(x):\n",
        "    return (max(0,x))"
      ],
      "execution_count": 12,
      "outputs": []
    },
    {
      "cell_type": "code",
      "metadata": {
        "id": "3bDFF7hEDDd7"
      },
      "source": [
        "x = [float(x)/100 for x in range(-100,100)] #input\n",
        "y = [relu(x1) for x1 in x]  #output"
      ],
      "execution_count": 13,
      "outputs": []
    },
    {
      "cell_type": "code",
      "metadata": {
        "colab": {
          "base_uri": "https://localhost:8080/",
          "height": 241
        },
        "id": "v2CmErIIDDwy",
        "outputId": "69e8648d-9769-47d6-ef6e-751fa169baae"
      },
      "source": [
        "#plotting Rectified Linear Unit-Function\n",
        "plot_fun(x,y,'Rectified Linear Unit-Function')"
      ],
      "execution_count": 14,
      "outputs": [
        {
          "output_type": "display_data",
          "data": {
            "image/png": "[encoded data removed]",
            "text/plain": [
              "<Figure size 360x216 with 1 Axes>"
            ]
          },
          "metadata": {
            "tags": [],
            "needs_background": "light"
          }
        }
      ]
    },
    {
      "cell_type": "markdown",
      "metadata": {
        "id": "ETXbo80II6LC"
      },
      "source": [
        "#  Leaky ReLU"
      ]
    },
    {
      "cell_type": "code",
      "metadata": {
        "id": "04deslVNDFsQ"
      },
      "source": [
        "alpha = 0.1\n",
        "def relu(x):\n",
        "    if(x<0):\n",
        "        return alpha * x\n",
        "    else:\n",
        "        return x"
      ],
      "execution_count": 15,
      "outputs": []
    },
    {
      "cell_type": "code",
      "metadata": {
        "id": "tAo_0gWSFIgi"
      },
      "source": [
        "x = [float(x)/100 for x in range(-100,100)] #input\n",
        "y = [relu(x1) for x1 in x]  #output"
      ],
      "execution_count": 16,
      "outputs": []
    },
    {
      "cell_type": "code",
      "metadata": {
        "colab": {
          "base_uri": "https://localhost:8080/",
          "height": 241
        },
        "id": "CR9D1cKGFLcN",
        "outputId": "5828c5fb-8581-49cc-d10b-d62ecd4137b1"
      },
      "source": [
        "#plotting Leaky RELU Function\n",
        "plot_fun(x,y,'Leaky RELU Function')"
      ],
      "execution_count": 17,
      "outputs": [
        {
          "output_type": "display_data",
          "data": {
            "image/png": "[encoded data removed]",
            "text/plain": [
              "<Figure size 360x216 with 1 Axes>"
            ]
          },
          "metadata": {
            "tags": [],
            "needs_background": "light"
          }
        }
      ]
    },
    {
      "cell_type": "markdown",
      "metadata": {
        "id": "AkuJtmA3JDkw"
      },
      "source": [
        "# Sigmoid"
      ]
    },
    {
      "cell_type": "code",
      "metadata": {
        "id": "EAHzxbGFFPT_"
      },
      "source": [
        "\n",
        "from math import exp\n",
        "def sigmoid(x):\n",
        "    return (exp(x)/(1+exp(x)))"
      ],
      "execution_count": 18,
      "outputs": []
    },
    {
      "cell_type": "code",
      "metadata": {
        "id": "dVJ6AqpiFZb3"
      },
      "source": [
        "x = [float(x1)/100 for x1 in range(-500,500)] #input\n",
        "y = [sigmoid(x2) for x2 in x]  #output"
      ],
      "execution_count": 19,
      "outputs": []
    },
    {
      "cell_type": "code",
      "metadata": {
        "colab": {
          "base_uri": "https://localhost:8080/",
          "height": 241
        },
        "id": "2C2APUtMFaw5",
        "outputId": "5e941629-86c1-46a5-ba5d-759b3093b74d"
      },
      "source": [
        "#plotting Sigmoid function\n",
        "plot_fun(x,y,'Sigmoid-Function')"
      ],
      "execution_count": 20,
      "outputs": [
        {
          "output_type": "display_data",
          "data": {
            "image/png": "[encoded data removed]",
            "text/plain": [
              "<Figure size 360x216 with 1 Axes>"
            ]
          },
          "metadata": {
            "tags": [],
            "needs_background": "light"
          }
        }
      ]
    },
    {
      "cell_type": "markdown",
      "metadata": {
        "id": "KHU7WrwuJJ9D"
      },
      "source": [
        "# Tanh Function"
      ]
    },
    {
      "cell_type": "code",
      "metadata": {
        "id": "M4YbrqhQFeQs"
      },
      "source": [
        "#tanh(x) = 2 * sigmoid(2x) - 1 \n",
        "def tanh(x):\n",
        "    return 2 * sigmoid(2*x) -1"
      ],
      "execution_count": 21,
      "outputs": []
    },
    {
      "cell_type": "code",
      "metadata": {
        "id": "KPe55XpGF2oY"
      },
      "source": [
        "x = [float(x1)/100 for x1 in range(-500,500)] #input\n",
        "y = [tanh(x2) for x2 in x]  #output"
      ],
      "execution_count": 22,
      "outputs": []
    },
    {
      "cell_type": "code",
      "metadata": {
        "colab": {
          "base_uri": "https://localhost:8080/",
          "height": 241
        },
        "id": "oeAjxEXFF4Zo",
        "outputId": "f55b27ec-a2bf-4b2b-c3bb-ffa5b3f5040e"
      },
      "source": [
        "#plotting Tanh function\n",
        "plot_fun(x,y,'Tanh-Function')"
      ],
      "execution_count": 23,
      "outputs": [
        {
          "output_type": "display_data",
          "data": {
            "image/png": "[encoded data removed]",
            "text/plain": [
              "<Figure size 360x216 with 1 Axes>"
            ]
          },
          "metadata": {
            "tags": [],
            "needs_background": "light"
          }
        }
      ]
    },
    {
      "cell_type": "markdown",
      "metadata": {
        "id": "2B87UD6gJWb7"
      },
      "source": [
        "# Swish Function"
      ]
    },
    {
      "cell_type": "code",
      "metadata": {
        "id": "uF74A4FZF8cg"
      },
      "source": [
        "beta =1\n",
        "def swish(x):\n",
        "    return 2*x*sigmoid(beta*x)"
      ],
      "execution_count": 24,
      "outputs": []
    },
    {
      "cell_type": "code",
      "metadata": {
        "id": "JCYVcRIKHb2U"
      },
      "source": [
        "x = [float(x1)/100 for x1 in range(-500,500)] #input\n",
        "y = [swish(x2) for x2 in x]  #output"
      ],
      "execution_count": 25,
      "outputs": []
    },
    {
      "cell_type": "code",
      "metadata": {
        "colab": {
          "base_uri": "https://localhost:8080/",
          "height": 241
        },
        "id": "PZf5G22SHenh",
        "outputId": "63297416-ce3f-4beb-d044-8961ff5747ff"
      },
      "source": [
        "#plotting Swish function\n",
        "plot_fun(x,y,'Swish-Function')"
      ],
      "execution_count": 26,
      "outputs": [
        {
          "output_type": "display_data",
          "data": {
            "image/png": "[encoded data removed]",
            "text/plain": [
              "<Figure size 360x216 with 1 Axes>"
            ]
          },
          "metadata": {
            "tags": [],
            "needs_background": "light"
          }
        }
      ]
    },
    {
      "cell_type": "code",
      "metadata": {
        "id": "XKzkBTGlHiBW"
      },
      "source": [
        ""
      ],
      "execution_count": 26,
      "outputs": []
    }
  ]
}