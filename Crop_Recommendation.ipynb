{
  "nbformat": 4,
  "nbformat_minor": 0,
  "metadata": {
    "colab": {
      "name": "Crop Recommendation.ipynb",
      "provenance": [],
      "collapsed_sections": [],
      "authorship_tag": "ABX9TyOcKEeI4/d2/K7zxvlz/20L",
      "include_colab_link": true
    },
    "kernelspec": {
      "name": "python3",
      "display_name": "Python 3"
    },
    "language_info": {
      "name": "python"
    }
  },
  "cells": [
    {
      "cell_type": "markdown",
      "metadata": {
        "id": "view-in-github",
        "colab_type": "text"
      },
      "source": [
        "<a href=\"https://colab.research.google.com/github/AYUSH-11/Machine-Learning/blob/main/Crop_Recommendation.ipynb\" target=\"_parent\"><img src=\"https://colab.research.google.com/assets/colab-badge.svg\" alt=\"Open In Colab\"/></a>"
      ]
    },
    {
      "cell_type": "code",
      "metadata": {
        "id": "Z8JNTO_tmgtP"
      },
      "source": [
        "#All mathematical operation are done by numpy\n",
        "import numpy as np\n",
        "#It is used for ploting \n",
        "import matplotlib.pyplot as plt\n",
        "# for read all files\n",
        "import pandas as pd\n",
        "import random\n",
        "import math\n",
        "from sklearn.neighbors import KNeighborsClassifier\n",
        "from sklearn import metrics\n",
        "\n",
        "from sklearn.metrics import accuracy_score, classification_report, confusion_matrix, auc, roc_curve\n",
        "import seaborn as sns\n",
        "from sklearn.ensemble import RandomForestClassifier\n",
        "\n",
        "from sklearn.cluster import KMeans\n",
        "\n",
        "import scipy.cluster.hierarchy as sch\n",
        "from sklearn.cluster import AgglomerativeClustering\n",
        "\n",
        "from sklearn.cluster import DBSCAN\n",
        "from sklearn import metrics\n",
        "from sklearn.preprocessing import StandardScaler\n",
        "from sklearn.neighbors import NearestNeighbors"
      ],
      "execution_count": null,
      "outputs": []
    },
    {
      "cell_type": "code",
      "metadata": {
        "colab": {
          "base_uri": "https://localhost:8080/"
        },
        "id": "c-yMKVGPm8OF",
        "outputId": "cd92d709-95cf-4b66-b149-d8da858fb597"
      },
      "source": [
        "from google.colab import drive  #to import Google drive data\n",
        "drive.mount('/content/drive') #to the drive data into colab cloud and enter the activation colab "
      ],
      "execution_count": null,
      "outputs": [
        {
          "output_type": "stream",
          "text": [
            "Mounted at /content/drive\n"
          ],
          "name": "stdout"
        }
      ]
    },
    {
      "cell_type": "code",
      "metadata": {
        "colab": {
          "base_uri": "https://localhost:8080/"
        },
        "id": "cqQi9re5nNuW",
        "outputId": "ecba25cc-704a-4134-939d-5b3b0e430d1b"
      },
      "source": [
        "cd /content/drive/\"My Drive/Colab Notebooks/Linear Regression\""
      ],
      "execution_count": null,
      "outputs": [
        {
          "output_type": "stream",
          "text": [
            "/content/drive/My Drive/Colab Notebooks/Linear Regression\n"
          ],
          "name": "stdout"
        }
      ]
    },
    {
      "cell_type": "code",
      "metadata": {
        "id": "fZTOGF1cnV7_"
      },
      "source": [
        "dataset = pd.read_csv('Crop_recommendation.csv')"
      ],
      "execution_count": null,
      "outputs": []
    },
    {
      "cell_type": "code",
      "metadata": {
        "colab": {
          "base_uri": "https://localhost:8080/"
        },
        "id": "36-0IGarngTm",
        "outputId": "abf0008a-8a5a-4387-fe6e-8c8632c6b3cc"
      },
      "source": [
        "dataset.shape"
      ],
      "execution_count": null,
      "outputs": [
        {
          "output_type": "execute_result",
          "data": {
            "text/plain": [
              "(2200, 8)"
            ]
          },
          "metadata": {
            "tags": []
          },
          "execution_count": 147
        }
      ]
    },
    {
      "cell_type": "code",
      "metadata": {
        "colab": {
          "base_uri": "https://localhost:8080/",
          "height": 288
        },
        "id": "JKrLkC4Xnc04",
        "outputId": "6d3d7593-91a2-4f2c-d6d4-f4666eea837e"
      },
      "source": [
        "dataset.describe()"
      ],
      "execution_count": null,
      "outputs": [
        {
          "output_type": "execute_result",
          "data": {
            "text/html": [
              "<div>\n",
              "<style scoped>\n",
              "    .dataframe tbody tr th:only-of-type {\n",
              "        vertical-align: middle;\n",
              "    }\n",
              "\n",
              "    .dataframe tbody tr th {\n",
              "        vertical-align: top;\n",
              "    }\n",
              "\n",
              "    .dataframe thead th {\n",
              "        text-align: right;\n",
              "    }\n",
              "</style>\n",
              "<table border=\"1\" class=\"dataframe\">\n",
              "  <thead>\n",
              "    <tr style=\"text-align: right;\">\n",
              "      <th></th>\n",
              "      <th>N</th>\n",
              "      <th>P</th>\n",
              "      <th>K</th>\n",
              "      <th>temperature</th>\n",
              "      <th>humidity</th>\n",
              "      <th>ph</th>\n",
              "      <th>rainfall</th>\n",
              "    </tr>\n",
              "  </thead>\n",
              "  <tbody>\n",
              "    <tr>\n",
              "      <th>count</th>\n",
              "      <td>2200.000000</td>\n",
              "      <td>2200.000000</td>\n",
              "      <td>2200.000000</td>\n",
              "      <td>2200.000000</td>\n",
              "      <td>2200.000000</td>\n",
              "      <td>2200.000000</td>\n",
              "      <td>2200.000000</td>\n",
              "    </tr>\n",
              "    <tr>\n",
              "      <th>mean</th>\n",
              "      <td>50.551818</td>\n",
              "      <td>53.362727</td>\n",
              "      <td>48.149091</td>\n",
              "      <td>25.616244</td>\n",
              "      <td>71.481779</td>\n",
              "      <td>6.469480</td>\n",
              "      <td>103.463655</td>\n",
              "    </tr>\n",
              "    <tr>\n",
              "      <th>std</th>\n",
              "      <td>36.917334</td>\n",
              "      <td>32.985883</td>\n",
              "      <td>50.647931</td>\n",
              "      <td>5.063749</td>\n",
              "      <td>22.263812</td>\n",
              "      <td>0.773938</td>\n",
              "      <td>54.958389</td>\n",
              "    </tr>\n",
              "    <tr>\n",
              "      <th>min</th>\n",
              "      <td>0.000000</td>\n",
              "      <td>5.000000</td>\n",
              "      <td>5.000000</td>\n",
              "      <td>8.825675</td>\n",
              "      <td>14.258040</td>\n",
              "      <td>3.504752</td>\n",
              "      <td>20.211267</td>\n",
              "    </tr>\n",
              "    <tr>\n",
              "      <th>25%</th>\n",
              "      <td>21.000000</td>\n",
              "      <td>28.000000</td>\n",
              "      <td>20.000000</td>\n",
              "      <td>22.769375</td>\n",
              "      <td>60.261953</td>\n",
              "      <td>5.971693</td>\n",
              "      <td>64.551686</td>\n",
              "    </tr>\n",
              "    <tr>\n",
              "      <th>50%</th>\n",
              "      <td>37.000000</td>\n",
              "      <td>51.000000</td>\n",
              "      <td>32.000000</td>\n",
              "      <td>25.598693</td>\n",
              "      <td>80.473146</td>\n",
              "      <td>6.425045</td>\n",
              "      <td>94.867624</td>\n",
              "    </tr>\n",
              "    <tr>\n",
              "      <th>75%</th>\n",
              "      <td>84.250000</td>\n",
              "      <td>68.000000</td>\n",
              "      <td>49.000000</td>\n",
              "      <td>28.561654</td>\n",
              "      <td>89.948771</td>\n",
              "      <td>6.923643</td>\n",
              "      <td>124.267508</td>\n",
              "    </tr>\n",
              "    <tr>\n",
              "      <th>max</th>\n",
              "      <td>140.000000</td>\n",
              "      <td>145.000000</td>\n",
              "      <td>205.000000</td>\n",
              "      <td>43.675493</td>\n",
              "      <td>99.981876</td>\n",
              "      <td>9.935091</td>\n",
              "      <td>298.560117</td>\n",
              "    </tr>\n",
              "  </tbody>\n",
              "</table>\n",
              "</div>"
            ],
            "text/plain": [
              "                 N            P  ...           ph     rainfall\n",
              "count  2200.000000  2200.000000  ...  2200.000000  2200.000000\n",
              "mean     50.551818    53.362727  ...     6.469480   103.463655\n",
              "std      36.917334    32.985883  ...     0.773938    54.958389\n",
              "min       0.000000     5.000000  ...     3.504752    20.211267\n",
              "25%      21.000000    28.000000  ...     5.971693    64.551686\n",
              "50%      37.000000    51.000000  ...     6.425045    94.867624\n",
              "75%      84.250000    68.000000  ...     6.923643   124.267508\n",
              "max     140.000000   145.000000  ...     9.935091   298.560117\n",
              "\n",
              "[8 rows x 7 columns]"
            ]
          },
          "metadata": {
            "tags": []
          },
          "execution_count": 148
        }
      ]
    },
    {
      "cell_type": "code",
      "metadata": {
        "colab": {
          "base_uri": "https://localhost:8080/"
        },
        "id": "BaZ4GRgRk3oQ",
        "outputId": "e50c822d-439b-413a-d734-e53ac372bfaf"
      },
      "source": [
        "unique_lst=[]\n",
        "for i in dataset['label']:\n",
        "    if i not in unique_lst:\n",
        "        unique_lst.append(i)\n",
        "dataset_numeric_label =dataset\n",
        "\n",
        "for i in range(len(dataset_numeric_label)):\n",
        "    for j in range(len(unique_lst)):\n",
        "        if (dataset_numeric_label['label'][i] == unique_lst[j]):\n",
        "            dataset_numeric_label['label'][i]=j;\n",
        "            \n"
      ],
      "execution_count": null,
      "outputs": [
        {
          "output_type": "stream",
          "text": [
            "/usr/local/lib/python3.7/dist-packages/ipykernel_launcher.py:10: SettingWithCopyWarning: \n",
            "A value is trying to be set on a copy of a slice from a DataFrame\n",
            "\n",
            "See the caveats in the documentation: https://pandas.pydata.org/pandas-docs/stable/user_guide/indexing.html#returning-a-view-versus-a-copy\n",
            "  # Remove the CWD from sys.path while we load stuff.\n"
          ],
          "name": "stderr"
        }
      ]
    },
    {
      "cell_type": "code",
      "metadata": {
        "id": "i8QroO4UnfTa"
      },
      "source": [
        "#Shuffle DataFrame rows\n",
        "dataset =dataset.sample(frac=1)"
      ],
      "execution_count": null,
      "outputs": []
    },
    {
      "cell_type": "code",
      "metadata": {
        "id": "r-AgyQlco21i"
      },
      "source": [
        "# split data into two parts training and testing \n",
        "train_set = dataset_numeric_label.sample(frac=0.80,random_state=0)\n",
        "test_set = dataset_numeric_label.drop(train_set.index)"
      ],
      "execution_count": null,
      "outputs": []
    },
    {
      "cell_type": "code",
      "metadata": {
        "colab": {
          "base_uri": "https://localhost:8080/"
        },
        "id": "xduNwQaSpDXk",
        "outputId": "4a668272-624b-4151-eebd-02a2ce09bf2c"
      },
      "source": [
        "print(train_set.shape)\n",
        "print(test_set.shape)"
      ],
      "execution_count": null,
      "outputs": [
        {
          "output_type": "stream",
          "text": [
            "(1760, 8)\n",
            "(440, 8)\n"
          ],
          "name": "stdout"
        }
      ]
    },
    {
      "cell_type": "code",
      "metadata": {
        "id": "VNhjnaSSo956"
      },
      "source": [
        "for i in dataset_numeric_label['label']:\n",
        "    if (i>22 or i <0):\n",
        "        print(i)"
      ],
      "execution_count": null,
      "outputs": []
    },
    {
      "cell_type": "code",
      "metadata": {
        "id": "edlqwhwYpJYR"
      },
      "source": [
        "#bifurgate in feature and target\n",
        "train_set_feature = train_set.iloc[:,0:7].values\n",
        "train_set_target = train_set.iloc[:,-1].values\n",
        "test_set_feature = test_set.iloc[:,0:7].values\n",
        "test_set_target = test_set.iloc[:,-1].values\n",
        "train_set_target=train_set_target.astype('int')\n",
        "test_set_target=test_set_target.astype('int')"
      ],
      "execution_count": null,
      "outputs": []
    },
    {
      "cell_type": "code",
      "metadata": {
        "id": "ma9w_7A3pe0W"
      },
      "source": [
        "# It will give precision,recall,f1-score,support for each class\n",
        "#macro average : averaging the unweighted mean per label\n",
        "#weighted average : averaging the support-weighted mean per label\n",
        "def make_report(y_actual,y_pred):\n",
        "    confusionMatrix=confusion_matrix(y_actual, y_pred, labels=[i for i in range(22)])\n",
        "    report = classification_report(y_actual, y_pred)\n",
        "    print(report)\n",
        "    "
      ],
      "execution_count": null,
      "outputs": []
    },
    {
      "cell_type": "markdown",
      "metadata": {
        "id": "HVgsZ9GZcYUK"
      },
      "source": [
        "# K -Nearest Neighbors"
      ]
    },
    {
      "cell_type": "code",
      "metadata": {
        "id": "5S0Ce7iApeOQ"
      },
      "source": [
        "#Find Eucledian Distance Between point-1 and point-2\n",
        "def eucledian_distance(p1,p2):\n",
        "    distance = (p1-p2)**2\n",
        "    distance =np. sum(distance)\n",
        "    return  math.sqrt(distance)"
      ],
      "execution_count": null,
      "outputs": []
    },
    {
      "cell_type": "code",
      "metadata": {
        "id": "oCmC5nV6tdfB",
        "colab": {
          "base_uri": "https://localhost:8080/"
        },
        "outputId": "3455df0e-8e21-4b8b-d9f5-acdcd4720c66"
      },
      "source": [
        "model = KNeighborsClassifier(n_neighbors=5,weights='uniform')\n",
        "model.fit(train_set_feature,train_set_target)\n",
        "prediction = model.predict(test_set_feature)\n",
        "print(model.score(test_set_feature, test_set_target) * 100)"
      ],
      "execution_count": null,
      "outputs": [
        {
          "output_type": "stream",
          "text": [
            "99.0909090909091\n"
          ],
          "name": "stdout"
        }
      ]
    },
    {
      "cell_type": "code",
      "metadata": {
        "colab": {
          "base_uri": "https://localhost:8080/"
        },
        "id": "pzAcDw-C_iTP",
        "outputId": "7282f028-e205-4296-f637-88fed6f03fd2"
      },
      "source": [
        "make_report(test_set_target,prediction)"
      ],
      "execution_count": null,
      "outputs": [
        {
          "output_type": "stream",
          "text": [
            "              precision    recall  f1-score   support\n",
            "\n",
            "           0       0.94      0.94      0.94        17\n",
            "           1       1.00      1.00      1.00        21\n",
            "           2       1.00      1.00      1.00        18\n",
            "           3       1.00      1.00      1.00        14\n",
            "           4       1.00      1.00      1.00        16\n",
            "           5       1.00      0.95      0.97        20\n",
            "           6       1.00      1.00      1.00        18\n",
            "           7       1.00      1.00      1.00        19\n",
            "           8       0.96      1.00      0.98        27\n",
            "           9       1.00      1.00      1.00        21\n",
            "          10       1.00      1.00      1.00        18\n",
            "          11       1.00      1.00      1.00        21\n",
            "          12       1.00      1.00      1.00        16\n",
            "          13       1.00      1.00      1.00        24\n",
            "          14       1.00      1.00      1.00        20\n",
            "          15       1.00      1.00      1.00        24\n",
            "          16       1.00      1.00      1.00        20\n",
            "          17       1.00      1.00      1.00        17\n",
            "          18       1.00      1.00      1.00        22\n",
            "          19       1.00      1.00      1.00        24\n",
            "          20       0.91      0.95      0.93        21\n",
            "          21       1.00      0.95      0.98        22\n",
            "\n",
            "    accuracy                           0.99       440\n",
            "   macro avg       0.99      0.99      0.99       440\n",
            "weighted avg       0.99      0.99      0.99       440\n",
            "\n"
          ],
          "name": "stdout"
        }
      ]
    },
    {
      "cell_type": "markdown",
      "metadata": {
        "id": "EW-uv-Htj1ia"
      },
      "source": [
        "# Random Forest"
      ]
    },
    {
      "cell_type": "code",
      "metadata": {
        "id": "BUIGQgArdav-",
        "colab": {
          "base_uri": "https://localhost:8080/"
        },
        "outputId": "8479d845-8909-4d4d-cb0f-bbd4abde8c1c"
      },
      "source": [
        "model = RandomForestClassifier(n_estimators=1000,random_state=0)\n",
        "model.fit(train_set_feature,train_set_target)\n",
        "prediction = model.predict(test_set_feature)\n",
        "\n",
        "print(model.score(test_set_feature, test_set_target) * 100)"
      ],
      "execution_count": null,
      "outputs": [
        {
          "output_type": "stream",
          "text": [
            "99.77272727272727\n"
          ],
          "name": "stdout"
        }
      ]
    },
    {
      "cell_type": "code",
      "metadata": {
        "colab": {
          "base_uri": "https://localhost:8080/"
        },
        "id": "3xTcgI6rzdXh",
        "outputId": "e43358b6-32ca-4183-9271-18210b6cb396"
      },
      "source": [
        "make_report(test_set_target,prediction)"
      ],
      "execution_count": null,
      "outputs": [
        {
          "output_type": "stream",
          "text": [
            "              precision    recall  f1-score   support\n",
            "\n",
            "           0       0.94      1.00      0.97        17\n",
            "           1       1.00      1.00      1.00        21\n",
            "           2       1.00      1.00      1.00        18\n",
            "           3       1.00      1.00      1.00        14\n",
            "           4       1.00      1.00      1.00        16\n",
            "           5       1.00      1.00      1.00        20\n",
            "           6       1.00      1.00      1.00        18\n",
            "           7       1.00      1.00      1.00        19\n",
            "           8       1.00      1.00      1.00        27\n",
            "           9       1.00      1.00      1.00        21\n",
            "          10       1.00      1.00      1.00        18\n",
            "          11       1.00      1.00      1.00        21\n",
            "          12       1.00      1.00      1.00        16\n",
            "          13       1.00      1.00      1.00        24\n",
            "          14       1.00      1.00      1.00        20\n",
            "          15       1.00      1.00      1.00        24\n",
            "          16       1.00      1.00      1.00        20\n",
            "          17       1.00      1.00      1.00        17\n",
            "          18       1.00      1.00      1.00        22\n",
            "          19       1.00      1.00      1.00        24\n",
            "          20       1.00      0.95      0.98        21\n",
            "          21       1.00      1.00      1.00        22\n",
            "\n",
            "    accuracy                           1.00       440\n",
            "   macro avg       1.00      1.00      1.00       440\n",
            "weighted avg       1.00      1.00      1.00       440\n",
            "\n"
          ],
          "name": "stdout"
        }
      ]
    },
    {
      "cell_type": "code",
      "metadata": {
        "id": "lYvC3Ywjbazc"
      },
      "source": [
        ""
      ],
      "execution_count": null,
      "outputs": []
    },
    {
      "cell_type": "markdown",
      "metadata": {
        "id": "NIniH8Ktbf_F"
      },
      "source": [
        "# KMeans"
      ]
    },
    {
      "cell_type": "code",
      "metadata": {
        "id": "wtXSy08GsWYm",
        "colab": {
          "base_uri": "https://localhost:8080/",
          "height": 295
        },
        "outputId": "f43f8525-595c-46e3-faeb-922ecef3c136"
      },
      "source": [
        "wcss=[]\n",
        "for i in range(1,30):\n",
        "    kmeans=KMeans(n_clusters=i,init='k-means++',random_state=0)\n",
        "    kmeans.fit(train_set)\n",
        "    wcss.append(kmeans.inertia_)\n",
        "\n",
        "plt.plot(range(1,30),wcss)\n",
        "plt.title('The Elbow Method')\n",
        "plt.xlabel('Number of clusters')\n",
        "plt.ylabel('WCSS')\n",
        "plt.show()"
      ],
      "execution_count": null,
      "outputs": [
        {
          "output_type": "display_data",
          "data": {
            "image/png": "[encoded data removed]",
            "text/plain": [
              "<Figure size 432x288 with 1 Axes>"
            ]
          },
          "metadata": {
            "tags": [],
            "needs_background": "light"
          }
        }
      ]
    },
    {
      "cell_type": "code",
      "metadata": {
        "id": "hnBqtEv1QSfm"
      },
      "source": [
        "kmeans=KMeans(n_clusters=22,init='k-means++',random_state=0)\n",
        "y_kmeans=kmeans.fit(train_set_feature)\n",
        "prediction = y_kmeans.predict(test_set_feature)"
      ],
      "execution_count": null,
      "outputs": []
    },
    {
      "cell_type": "markdown",
      "metadata": {
        "id": "TEjrKPsDaUJL"
      },
      "source": [
        "# Hierarchical Clustering"
      ]
    },
    {
      "cell_type": "code",
      "metadata": {
        "id": "tbyDvTbCR0oZ",
        "colab": {
          "base_uri": "https://localhost:8080/",
          "height": 268
        },
        "outputId": "07562bd4-325a-480b-cd55-73a21fe23e45"
      },
      "source": [
        "dendogram = sch.dendrogram(sch.linkage(train_set_feature,method='ward'))"
      ],
      "execution_count": null,
      "outputs": [
        {
          "output_type": "display_data",
          "data": {
            "image/png": "[encoded data removed]",
            "text/plain": [
              "<Figure size 432x288 with 1 Axes>"
            ]
          },
          "metadata": {
            "tags": [],
            "needs_background": "light"
          }
        }
      ]
    },
    {
      "cell_type": "code",
      "metadata": {
        "id": "TBvixiZeXpx8"
      },
      "source": [
        "hc = AgglomerativeClustering(n_clusters=22,affinity ='euclidean', linkage = 'ward')\n",
        "y_hc = hc.fit(train_set_feature)\n",
        "prediction = y_hc.fit_predict(test_set_feature)"
      ],
      "execution_count": null,
      "outputs": []
    },
    {
      "cell_type": "markdown",
      "metadata": {
        "id": "XfWnxaKhbnqc"
      },
      "source": [
        "# DBSCAN"
      ]
    },
    {
      "cell_type": "code",
      "metadata": {
        "id": "GsABnZLNbwGP"
      },
      "source": [
        "train_set_feature_standard = StandardScaler().fit_transform(train_set_feature)\n",
        "test_set_feature_standard = StandardScaler().fit_transform(test_set_feature)"
      ],
      "execution_count": null,
      "outputs": []
    },
    {
      "cell_type": "code",
      "metadata": {
        "id": "xhGYpDM_dPQa"
      },
      "source": [
        "nearesneighvour=NearestNeighbors(3).fit(train_set_feature_standard)"
      ],
      "execution_count": null,
      "outputs": []
    },
    {
      "cell_type": "code",
      "metadata": {
        "id": "-pjdqjotd_6z"
      },
      "source": [
        "distances,indices = nearesneighvour.kneighbors(train_set_feature_standard)"
      ],
      "execution_count": null,
      "outputs": []
    },
    {
      "cell_type": "code",
      "metadata": {
        "id": "ilAMAeUaeF9N"
      },
      "source": [
        "distanceDec = sorted(distances[:,2],reverse=True)"
      ],
      "execution_count": null,
      "outputs": []
    },
    {
      "cell_type": "code",
      "metadata": {
        "colab": {
          "base_uri": "https://localhost:8080/",
          "height": 287
        },
        "id": "pzlNM391eH_L",
        "outputId": "bbc8d65e-812f-40c8-b71a-1754202db7f4"
      },
      "source": [
        "plt.plot(indices[:,0],distanceDec)\n"
      ],
      "execution_count": null,
      "outputs": [
        {
          "output_type": "stream",
          "text": [
            "[0.8018226955051077, 0.8006625084199841, 0.799757043227604, 0.7994687851877622, 0.7994687851877622]\n"
          ],
          "name": "stdout"
        },
        {
          "output_type": "display_data",
          "data": {
            "image/png": "[encoded data removed]",
            "text/plain": [
              "<Figure size 432x288 with 1 Axes>"
            ]
          },
          "metadata": {
            "tags": [],
            "needs_background": "light"
          }
        }
      ]
    },
    {
      "cell_type": "code",
      "metadata": {
        "id": "ynFiykbJeKC5"
      },
      "source": [
        "db = DBSCAN(eps=0.85,min_samples=5).fit(train_set_feature_standard)"
      ],
      "execution_count": null,
      "outputs": []
    },
    {
      "cell_type": "code",
      "metadata": {
        "id": "o3PcOKcMgUCW"
      },
      "source": [
        "prediction = db.fit_predict(test_set_feature_standard)"
      ],
      "execution_count": null,
      "outputs": []
    },
    {
      "cell_type": "code",
      "metadata": {
        "colab": {
          "base_uri": "https://localhost:8080/"
        },
        "id": "3DxMc1E-gf3Q",
        "outputId": "cdcc3c9a-3370-4aae-e43c-78698f0b49a1"
      },
      "source": [
        "print(prediction)"
      ],
      "execution_count": null,
      "outputs": [
        {
          "output_type": "stream",
          "text": [
            "[-1 -1 -1 -1 -1 -1 -1 11 -1 -1 -1 -1 -1 -1 -1 -1 -1  0 -1  0  0  1 -1 12\n",
            " -1 -1  0  1  0  0  1  1 -1 -1  0 -1  1  0  2  2 -1  2  2 -1  2  2  2  2\n",
            "  2 -1  2  2  2  2  2  2  3  3 -1  3  3  3  3  3 -1  3  3 -1  3  3 -1 -1\n",
            " -1 -1 -1 -1 -1 -1 -1 -1 -1 -1 -1 -1 -1 -1  4  4  4  4 -1  4  4 -1 -1 -1\n",
            " -1 -1 -1  4  4 -1 -1  4 -1  4  4  4  4  4  4  4  4  4  4  4  4  4  4  4\n",
            "  4  4  4  4  4  4  4  4  4  4  4  4  4  4  4  4  4  4  4  4  4  4  4  4\n",
            "  4  4  4  4  4  4  4 -1  4  4  4  4  4  4  4  4  4  4  4 -1  4  4  4 -1\n",
            "  4 -1  5  6  5  5  6 -1  6  6  5  5  5  6  5  6  5  6  5  5  6  5  5  7\n",
            "  7  7  7  7  7  7  7  7  7  7  7  7  7  7  7  7  7 -1  8 -1  9 -1  8  9\n",
            " -1  9 -1  8 -1 -1  8  8  9  9  8  8  8 -1 10 -1 -1 -1 -1 -1 -1 -1 -1 -1\n",
            " -1 -1 -1 -1 -1 -1  7  7  7  7  7  7  7  7  7  7  7  7  7  7  7  7  7  7\n",
            "  7  7  7  7  7  7  7  7  7  7  7  7  7  7  7  7  7  7  7  7  7  7  7  7\n",
            "  7  7 10 10 10 10 10 10 10 10 10 10 10 10 10 10 10 10 10 10 10 10 10 10\n",
            " 10 10 -1 -1 -1 -1  5 -1 -1  5  5  6  6 -1 -1 -1 -1 -1 -1 -1 -1 -1 -1 -1\n",
            " -1 -1 -1  4 -1 -1 -1 -1 -1 -1 -1 -1 -1 -1 -1 -1  5  5  5  5 -1  5  5  5\n",
            "  5  5  5 -1  5  5  5  5  5  5  5  5  5  7  7  7  7  7  7  7  7  7  7  7\n",
            "  7  7  7  7  7  7  7  7  7  7  7  7  7 11 11 11 11 11 11 11 11 11 11 11\n",
            " 11 11 11 11 11 11 11 11 11 11 13 12 12 12 12 -1 12 13 12 12 13 12 12 12\n",
            " 13 12 12 12 12 -1 12 12]\n"
          ],
          "name": "stdout"
        }
      ]
    },
    {
      "cell_type": "code",
      "metadata": {
        "id": "FKCeBO9tghtv"
      },
      "source": [
        ""
      ],
      "execution_count": null,
      "outputs": []
    }
  ]
}