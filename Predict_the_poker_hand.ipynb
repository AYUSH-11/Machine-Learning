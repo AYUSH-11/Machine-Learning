{
  "nbformat": 4,
  "nbformat_minor": 0,
  "metadata": {
    "colab": {
      "name": "Predict the poker-hand.ipynb",
      "provenance": [],
      "authorship_tag": "ABX9TyPOxRBDt2ebD197XY0ycCeh",
      "include_colab_link": true
    },
    "kernelspec": {
      "name": "python3",
      "display_name": "Python 3"
    },
    "language_info": {
      "name": "python"
    }
  },
  "cells": [
    {
      "cell_type": "markdown",
      "metadata": {
        "id": "view-in-github",
        "colab_type": "text"
      },
      "source": [
        "<a href=\"https://colab.research.google.com/github/AYUSH-11/Machine-Learning/blob/main/Predict_the_poker_hand.ipynb\" target=\"_parent\"><img src=\"https://colab.research.google.com/assets/colab-badge.svg\" alt=\"Open In Colab\"/></a>"
      ]
    },
    {
      "cell_type": "code",
      "metadata": {
        "id": "quV5bp1jJ4IF"
      },
      "source": [
        "import numpy as np\n",
        "import matplotlib.pyplot as plt\n",
        "import pandas as pd"
      ],
      "execution_count": 1,
      "outputs": []
    },
    {
      "cell_type": "code",
      "metadata": {
        "id": "jZlKsNOLJ9r1"
      },
      "source": [
        "from google.colab import drive"
      ],
      "execution_count": 2,
      "outputs": []
    },
    {
      "cell_type": "code",
      "metadata": {
        "colab": {
          "base_uri": "https://localhost:8080/"
        },
        "id": "sVs0UCQyKAAe",
        "outputId": "ea4b6af3-ac60-4e05-c7cb-8e9dc18889ed"
      },
      "source": [
        "drive.mount('/content/drive')"
      ],
      "execution_count": 3,
      "outputs": [
        {
          "output_type": "stream",
          "text": [
            "Drive already mounted at /content/drive; to attempt to forcibly remount, call drive.mount(\"/content/drive\", force_remount=True).\n"
          ],
          "name": "stdout"
        }
      ]
    },
    {
      "cell_type": "code",
      "metadata": {
        "colab": {
          "base_uri": "https://localhost:8080/"
        },
        "id": "LjGRNXwEKCRr",
        "outputId": "cddb08c7-7c88-48c6-e54a-77e7cf2ebf95"
      },
      "source": [
        "cd /content/drive/\"My Drive/Colab Notebooks/Linear Regression\""
      ],
      "execution_count": 4,
      "outputs": [
        {
          "output_type": "stream",
          "text": [
            "/content/drive/My Drive/Colab Notebooks/Linear Regression\n"
          ],
          "name": "stdout"
        }
      ]
    },
    {
      "cell_type": "code",
      "metadata": {
        "colab": {
          "base_uri": "https://localhost:8080/"
        },
        "id": "ka_XQTAhLZkS",
        "outputId": "62be6390-cb1c-42f0-c960-164c452c1d78"
      },
      "source": [
        "col_names=['s1','c1','s2','c2','s3','c3','s4','c4','s5','c5','classes' ]\n",
        "dataset_train = pd.read_csv(\"poker-hand-training-true.data\",names=col_names)\n",
        "print(dataset_train)\n",
        "dataset_train.shape"
      ],
      "execution_count": 5,
      "outputs": [
        {
          "output_type": "stream",
          "text": [
            "       s1  c1  s2  c2  s3  c3  s4  c4  s5  c5  classes\n",
            "0       1  10   1  11   1  13   1  12   1   1        9\n",
            "1       2  11   2  13   2  10   2  12   2   1        9\n",
            "2       3  12   3  11   3  13   3  10   3   1        9\n",
            "3       4  10   4  11   4   1   4  13   4  12        9\n",
            "4       4   1   4  13   4  12   4  11   4  10        9\n",
            "...    ..  ..  ..  ..  ..  ..  ..  ..  ..  ..      ...\n",
            "25005   3   9   2   6   4  11   4  12   2   4        0\n",
            "25006   4   1   4  10   3  13   3   4   1  10        1\n",
            "25007   2   1   2  10   4   4   4   1   4  13        1\n",
            "25008   2  12   4   3   1  10   1  12   4   9        1\n",
            "25009   1   7   3  11   3   3   4   8   3   7        1\n",
            "\n",
            "[25010 rows x 11 columns]\n"
          ],
          "name": "stdout"
        },
        {
          "output_type": "execute_result",
          "data": {
            "text/plain": [
              "(25010, 11)"
            ]
          },
          "metadata": {
            "tags": []
          },
          "execution_count": 5
        }
      ]
    },
    {
      "cell_type": "code",
      "metadata": {
        "colab": {
          "base_uri": "https://localhost:8080/"
        },
        "id": "wpZfnCjcLiA-",
        "outputId": "170e004c-8f24-4f52-c575-117a58456e3c"
      },
      "source": [
        "dataset_test = pd.read_csv(\"poker-hand-testing.data\",names=col_names)\n",
        "print(dataset_test)\n",
        "dataset_test.shape"
      ],
      "execution_count": 6,
      "outputs": [
        {
          "output_type": "stream",
          "text": [
            "        s1  c1  s2  c2  s3  c3  s4  c4  s5  c5  classes\n",
            "0        1   1   1  13   2   4   2   3   1  12        0\n",
            "1        3  12   3   2   3  11   4   5   2   5        1\n",
            "2        1   9   4   6   1   4   3   2   3   9        1\n",
            "3        1   4   3  13   2  13   2   1   3   6        1\n",
            "4        3  10   2   7   1   2   2  11   4   9        0\n",
            "...     ..  ..  ..  ..  ..  ..  ..  ..  ..  ..      ...\n",
            "999995   3   1   1  12   2   9   4   9   2   6        1\n",
            "999996   3   3   4   5   2   7   1   4   4   3        1\n",
            "999997   1  11   4   7   3   9   1  13   2   7        1\n",
            "999998   3  11   1   8   1   1   3  13   2   8        1\n",
            "999999   2   5   2   9   4   9   2   3   3   3        2\n",
            "\n",
            "[1000000 rows x 11 columns]\n"
          ],
          "name": "stdout"
        },
        {
          "output_type": "execute_result",
          "data": {
            "text/plain": [
              "(1000000, 11)"
            ]
          },
          "metadata": {
            "tags": []
          },
          "execution_count": 6
        }
      ]
    },
    {
      "cell_type": "code",
      "metadata": {
        "colab": {
          "base_uri": "https://localhost:8080/"
        },
        "id": "M7bqCtMkLrwS",
        "outputId": "9c797421-4b8b-4fed-d850-81c9958bac1e"
      },
      "source": [
        "total_class = 10  \n",
        "poker_data = {}\n",
        "for i in range(total_class):\n",
        "    poker_data[i] = len(dataset_train[dataset_train.classes==i])\n",
        "print(poker_data)\n",
        "\n",
        "# Giving name to diferent class to visulize it\n",
        "poker_hands = [0, 1, 2, 3, 4, 5, 6, 7, 8, 9]\n",
        "hand_name = {\n",
        "    0: 'Nothing in hand',\n",
        "    1: 'One pair',\n",
        "    2: 'Two pairs',\n",
        "    3: 'Three of a kind',\n",
        "    4: 'Straight',\n",
        "    5: 'Flush',\n",
        "    6: 'Full house',\n",
        "    7: 'Four of a kind',\n",
        "    8: 'Straight flush',\n",
        "    9: 'Royal flush',\n",
        "}"
      ],
      "execution_count": 7,
      "outputs": [
        {
          "output_type": "stream",
          "text": [
            "{0: 12493, 1: 10599, 2: 1206, 3: 513, 4: 93, 5: 54, 6: 36, 7: 6, 8: 5, 9: 5}\n"
          ],
          "name": "stdout"
        }
      ]
    },
    {
      "cell_type": "code",
      "metadata": {
        "colab": {
          "base_uri": "https://localhost:8080/",
          "height": 296
        },
        "id": "tAiPBxe9MGBr",
        "outputId": "0b307ad0-3d64-4e51-be82-9fdb6700e316"
      },
      "source": [
        "plt.bar(poker_hands, [poker_data[i] for i in poker_data], align='center')\n",
        "plt.xlabel('Poker hand id')\n",
        "plt.ylabel('Number of Times Hand come to that nuber')"
      ],
      "execution_count": 8,
      "outputs": [
        {
          "output_type": "execute_result",
          "data": {
            "text/plain": [
              "Text(0, 0.5, 'Number of Times Hand come to that nuber')"
            ]
          },
          "metadata": {
            "tags": []
          },
          "execution_count": 8
        },
        {
          "output_type": "display_data",
          "data": {
            "image/png": "[encoded data removed]",
            "text/plain": [
              "<Figure size 432x288 with 1 Axes>"
            ]
          },
          "metadata": {
            "tags": [],
            "needs_background": "light"
          }
        }
      ]
    },
    {
      "cell_type": "code",
      "metadata": {
        "id": "ihRr_aELMPzV"
      },
      "source": [
        "dataset_train_feature = dataset_train.drop(['classes'], axis=1)\n",
        "dataset_train_target = dataset_train['classes']"
      ],
      "execution_count": 9,
      "outputs": []
    },
    {
      "cell_type": "code",
      "metadata": {
        "id": "NvyORblsNE93"
      },
      "source": [
        "dataset_test_feature = dataset_test.drop(['classes'],axis=1)\n",
        "dataset_test_target = dataset_test['classes']"
      ],
      "execution_count": 10,
      "outputs": []
    },
    {
      "cell_type": "code",
      "metadata": {
        "id": "UtVQDGlzOA27"
      },
      "source": [
        "# Calculating Root Mean Squared Error, Mean absolute Error and R-Square\n",
        "def make_report(act , pred):\n",
        "    print(\"Root mean squared error: \", sqrt(mse(act.values, pred)))\n",
        "    print(\"R-squared: \", r2_score(act.values, pred))    # It represent How close the data are to fitted regression line."
      ],
      "execution_count": 11,
      "outputs": []
    },
    {
      "cell_type": "code",
      "metadata": {
        "id": "klhvSsfzOLWr"
      },
      "source": [
        "# Importing required Libraries for implementing Regression Models and Calculating Accuracy on Test Dataset\n",
        "\n",
        "from sklearn.neighbors import KNeighborsClassifier\n",
        "from sklearn.ensemble import RandomForestClassifier\n",
        "from sklearn.metrics import accuracy_score, classification_report, confusion_matrix, auc, roc_curve "
      ],
      "execution_count": 12,
      "outputs": []
    },
    {
      "cell_type": "code",
      "metadata": {
        "colab": {
          "base_uri": "https://localhost:8080/"
        },
        "id": "MGLzQJsbUgGI",
        "outputId": "4f00593e-9d98-4443-f985-eca0ed13b36d"
      },
      "source": [
        "knc = KNeighborsClassifier(23)\n",
        "knc.fit(dataset_train_feature,dataset_train_target)\n",
        "print(classification_report(dataset_test_target, knc.predict(dataset_test_feature)))"
      ],
      "execution_count": 13,
      "outputs": [
        {
          "output_type": "stream",
          "text": [
            "/usr/local/lib/python3.7/dist-packages/sklearn/metrics/_classification.py:1272: UndefinedMetricWarning: Precision and F-score are ill-defined and being set to 0.0 in labels with no predicted samples. Use `zero_division` parameter to control this behavior.\n",
            "  _warn_prf(average, modifier, msg_start, len(result))\n"
          ],
          "name": "stderr"
        },
        {
          "output_type": "stream",
          "text": [
            "              precision    recall  f1-score   support\n",
            "\n",
            "           0       0.60      0.77      0.67    501209\n",
            "           1       0.54      0.46      0.49    422498\n",
            "           2       0.34      0.01      0.01     47622\n",
            "           3       0.12      0.00      0.00     21121\n",
            "           4       0.00      0.00      0.00      3885\n",
            "           5       0.00      0.00      0.00      1996\n",
            "           6       0.00      0.00      0.00      1424\n",
            "           7       0.00      0.00      0.00       230\n",
            "           8       0.00      0.00      0.00        12\n",
            "           9       0.00      0.00      0.00         3\n",
            "\n",
            "    accuracy                           0.58   1000000\n",
            "   macro avg       0.16      0.12      0.12   1000000\n",
            "weighted avg       0.55      0.58      0.55   1000000\n",
            "\n"
          ],
          "name": "stdout"
        }
      ]
    },
    {
      "cell_type": "code",
      "metadata": {
        "colab": {
          "base_uri": "https://localhost:8080/"
        },
        "id": "Tm2E20EEQ6qP",
        "outputId": "cd5fc235-7000-4a03-826c-77b45dc3eba0"
      },
      "source": [
        "model = RandomForestClassifier(n_estimators=1000,random_state=0)\n",
        "model.fit(dataset_train_feature,dataset_train_target)\n",
        "print(classification_report(dataset_test_target, model.predict(dataset_test_feature)))"
      ],
      "execution_count": 14,
      "outputs": [
        {
          "output_type": "stream",
          "text": [
            "/usr/local/lib/python3.7/dist-packages/sklearn/metrics/_classification.py:1272: UndefinedMetricWarning: Precision and F-score are ill-defined and being set to 0.0 in labels with no predicted samples. Use `zero_division` parameter to control this behavior.\n",
            "  _warn_prf(average, modifier, msg_start, len(result))\n"
          ],
          "name": "stderr"
        },
        {
          "output_type": "stream",
          "text": [
            "              precision    recall  f1-score   support\n",
            "\n",
            "           0       0.65      0.83      0.72    501209\n",
            "           1       0.59      0.50      0.54    422498\n",
            "           2       0.44      0.00      0.01     47622\n",
            "           3       0.54      0.00      0.00     21121\n",
            "           4       0.25      0.00      0.00      3885\n",
            "           5       1.00      0.00      0.01      1996\n",
            "           6       0.00      0.00      0.00      1424\n",
            "           7       0.00      0.00      0.00       230\n",
            "           8       0.00      0.00      0.00        12\n",
            "           9       0.00      0.00      0.00         3\n",
            "\n",
            "    accuracy                           0.63   1000000\n",
            "   macro avg       0.35      0.13      0.13   1000000\n",
            "weighted avg       0.61      0.63      0.59   1000000\n",
            "\n"
          ],
          "name": "stdout"
        }
      ]
    },
    {
      "cell_type": "code",
      "metadata": {
        "id": "sUyGmeyGQtJB"
      },
      "source": [
        "# So as we get higher accuracy in Randomforest. Now we find accuracy for Testing data"
      ],
      "execution_count": 15,
      "outputs": []
    },
    {
      "cell_type": "code",
      "metadata": {
        "colab": {
          "base_uri": "https://localhost:8080/"
        },
        "id": "20Re-6DLWKkk",
        "outputId": "ce4158a6-ce4c-40ee-adb3-e9d0446f75e2"
      },
      "source": [
        "model = RandomForestClassifier(n_estimators=1000,random_state=0)\n",
        "model.fit(dataset_train_feature,dataset_train_target)\n",
        "print(classification_report(dataset_test_target, model.predict(dataset_test_feature)))"
      ],
      "execution_count": 16,
      "outputs": [
        {
          "output_type": "stream",
          "text": [
            "/usr/local/lib/python3.7/dist-packages/sklearn/metrics/_classification.py:1272: UndefinedMetricWarning: Precision and F-score are ill-defined and being set to 0.0 in labels with no predicted samples. Use `zero_division` parameter to control this behavior.\n",
            "  _warn_prf(average, modifier, msg_start, len(result))\n"
          ],
          "name": "stderr"
        },
        {
          "output_type": "stream",
          "text": [
            "              precision    recall  f1-score   support\n",
            "\n",
            "           0       0.65      0.83      0.72    501209\n",
            "           1       0.59      0.50      0.54    422498\n",
            "           2       0.44      0.00      0.01     47622\n",
            "           3       0.54      0.00      0.00     21121\n",
            "           4       0.25      0.00      0.00      3885\n",
            "           5       1.00      0.00      0.01      1996\n",
            "           6       0.00      0.00      0.00      1424\n",
            "           7       0.00      0.00      0.00       230\n",
            "           8       0.00      0.00      0.00        12\n",
            "           9       0.00      0.00      0.00         3\n",
            "\n",
            "    accuracy                           0.63   1000000\n",
            "   macro avg       0.35      0.13      0.13   1000000\n",
            "weighted avg       0.61      0.63      0.59   1000000\n",
            "\n"
          ],
          "name": "stdout"
        }
      ]
    },
    {
      "cell_type": "code",
      "metadata": {
        "id": "BEOPML9cW6EJ"
      },
      "source": [
        ""
      ],
      "execution_count": 16,
      "outputs": []
    }
  ]
}