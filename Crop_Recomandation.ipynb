{
  "nbformat": 4,
  "nbformat_minor": 0,
  "metadata": {
    "colab": {
      "name": "Crop Recomandation.ipynb",
      "provenance": [],
      "collapsed_sections": [],
      "authorship_tag": "ABX9TyNED1j5KU+wdkuR721LF3Ef",
      "include_colab_link": true
    },
    "kernelspec": {
      "name": "python3",
      "display_name": "Python 3"
    },
    "language_info": {
      "name": "python"
    }
  },
  "cells": [
    {
      "cell_type": "markdown",
      "metadata": {
        "id": "view-in-github",
        "colab_type": "text"
      },
      "source": [
        "<a href=\"https://colab.research.google.com/github/AYUSH-11/Machine-Learning/blob/main/Crop_Recomandation.ipynb\" target=\"_parent\"><img src=\"https://colab.research.google.com/assets/colab-badge.svg\" alt=\"Open In Colab\"/></a>"
      ]
    },
    {
      "cell_type": "markdown",
      "metadata": {
        "id": "aM7CNEN26q6N"
      },
      "source": [
        "# Crop Recommendation"
      ]
    },
    {
      "cell_type": "markdown",
      "metadata": {
        "id": "QnnS4grpiKEZ"
      },
      "source": [
        "Content\n",
        "\n",
        "    Precision agriculture is in trend nowadays. It helps the farmers to get informed decision about the farming strategy.\n",
        "\n",
        "Data fields\n",
        "\n",
        "    N - ratio of Nitrogen content in soil\n",
        "    P - ratio of Phosphorous content in soil\n",
        "    K - ratio of Potassium content in soil\n",
        "    temperature - temperature in degree Celsius\n",
        "    humidity - relative humidity in %\n",
        "    ph - ph value of the soil\n",
        "    rainfall - rainfall in mm"
      ]
    },
    {
      "cell_type": "code",
      "metadata": {
        "id": "3qV1j9EcBvXm"
      },
      "source": [
        "#All mathematical operation are done by numpy\n",
        "import numpy as np\n",
        "#It is used for ploting \n",
        "import matplotlib.pyplot as plt\n",
        "# for read all files\n",
        "import pandas as pd\n",
        "\n",
        "import random\n",
        "import math\n",
        "from sklearn.metrics import accuracy_score, classification_report, confusion_matrix, auc, roc_curve \n",
        "import seaborn as sns   # For Correlation \n",
        "\n",
        "from sklearn.neighbors import KNeighborsClassifier\n",
        "\n",
        "from sklearn.ensemble import RandomForestClassifier\n",
        "\n",
        "from sklearn.cluster import KMeans\n",
        "\n",
        "import scipy.cluster.hierarchy as sch\n",
        "from sklearn.cluster import AgglomerativeClustering\n",
        "\n",
        "from sklearn.cluster import DBSCAN\n",
        "from sklearn.preprocessing import StandardScaler\n",
        "from sklearn.neighbors import NearestNeighbors"
      ],
      "execution_count": 1,
      "outputs": []
    },
    {
      "cell_type": "code",
      "metadata": {
        "colab": {
          "base_uri": "https://localhost:8080/"
        },
        "id": "TN-Jc0t8DbUh",
        "outputId": "e3c05060-1f0f-43c1-b6a9-a959acbbc6ae"
      },
      "source": [
        "from google.colab import drive  #to import Google drive data\n",
        "drive.mount('/content/drive') #to the drive data into colab cloud and enter the activation colab "
      ],
      "execution_count": 2,
      "outputs": [
        {
          "output_type": "stream",
          "text": [
            "Drive already mounted at /content/drive; to attempt to forcibly remount, call drive.mount(\"/content/drive\", force_remount=True).\n"
          ],
          "name": "stdout"
        }
      ]
    },
    {
      "cell_type": "code",
      "metadata": {
        "colab": {
          "base_uri": "https://localhost:8080/"
        },
        "id": "LyfX_31wDdrV",
        "outputId": "f11ff7fe-f5d2-493f-b3c0-c0e810f2e9ae"
      },
      "source": [
        "cd /content/drive/\"My Drive/Colab Notebooks/Linear Regression\""
      ],
      "execution_count": 3,
      "outputs": [
        {
          "output_type": "stream",
          "text": [
            "/content/drive/My Drive/Colab Notebooks/Linear Regression\n"
          ],
          "name": "stdout"
        }
      ]
    },
    {
      "cell_type": "code",
      "metadata": {
        "id": "OS3C0ECgGpYO"
      },
      "source": [
        "dataset = pd.read_csv('Crop_recommendation.csv')"
      ],
      "execution_count": 4,
      "outputs": []
    },
    {
      "cell_type": "code",
      "metadata": {
        "colab": {
          "base_uri": "https://localhost:8080/"
        },
        "id": "50CrdiN-Gq7S",
        "outputId": "725dcd92-3fc5-4c79-f117-2d314f9b7680"
      },
      "source": [
        "dataset.shape"
      ],
      "execution_count": 5,
      "outputs": [
        {
          "output_type": "execute_result",
          "data": {
            "text/plain": [
              "(2200, 9)"
            ]
          },
          "metadata": {
            "tags": []
          },
          "execution_count": 5
        }
      ]
    },
    {
      "cell_type": "code",
      "metadata": {
        "colab": {
          "base_uri": "https://localhost:8080/",
          "height": 288
        },
        "id": "iUch4po2GsEx",
        "outputId": "c1c67b7d-dd37-416b-8f9c-df1735ccac64"
      },
      "source": [
        "dataset.describe()"
      ],
      "execution_count": 6,
      "outputs": [
        {
          "output_type": "execute_result",
          "data": {
            "text/html": [
              "<div>\n",
              "<style scoped>\n",
              "    .dataframe tbody tr th:only-of-type {\n",
              "        vertical-align: middle;\n",
              "    }\n",
              "\n",
              "    .dataframe tbody tr th {\n",
              "        vertical-align: top;\n",
              "    }\n",
              "\n",
              "    .dataframe thead th {\n",
              "        text-align: right;\n",
              "    }\n",
              "</style>\n",
              "<table border=\"1\" class=\"dataframe\">\n",
              "  <thead>\n",
              "    <tr style=\"text-align: right;\">\n",
              "      <th></th>\n",
              "      <th>N</th>\n",
              "      <th>P</th>\n",
              "      <th>K</th>\n",
              "      <th>temperature</th>\n",
              "      <th>humidity</th>\n",
              "      <th>ph</th>\n",
              "      <th>rainfall</th>\n",
              "      <th>label_numeric</th>\n",
              "    </tr>\n",
              "  </thead>\n",
              "  <tbody>\n",
              "    <tr>\n",
              "      <th>count</th>\n",
              "      <td>2200.000000</td>\n",
              "      <td>2200.000000</td>\n",
              "      <td>2200.000000</td>\n",
              "      <td>2200.000000</td>\n",
              "      <td>2200.000000</td>\n",
              "      <td>2200.000000</td>\n",
              "      <td>2200.000000</td>\n",
              "      <td>2200.000000</td>\n",
              "    </tr>\n",
              "    <tr>\n",
              "      <th>mean</th>\n",
              "      <td>50.551818</td>\n",
              "      <td>53.362727</td>\n",
              "      <td>48.149091</td>\n",
              "      <td>25.616244</td>\n",
              "      <td>71.481779</td>\n",
              "      <td>6.469480</td>\n",
              "      <td>103.463655</td>\n",
              "      <td>10.500000</td>\n",
              "    </tr>\n",
              "    <tr>\n",
              "      <th>std</th>\n",
              "      <td>36.917334</td>\n",
              "      <td>32.985883</td>\n",
              "      <td>50.647931</td>\n",
              "      <td>5.063749</td>\n",
              "      <td>22.263812</td>\n",
              "      <td>0.773938</td>\n",
              "      <td>54.958389</td>\n",
              "      <td>6.345731</td>\n",
              "    </tr>\n",
              "    <tr>\n",
              "      <th>min</th>\n",
              "      <td>0.000000</td>\n",
              "      <td>5.000000</td>\n",
              "      <td>5.000000</td>\n",
              "      <td>8.825675</td>\n",
              "      <td>14.258040</td>\n",
              "      <td>3.504752</td>\n",
              "      <td>20.211267</td>\n",
              "      <td>0.000000</td>\n",
              "    </tr>\n",
              "    <tr>\n",
              "      <th>25%</th>\n",
              "      <td>21.000000</td>\n",
              "      <td>28.000000</td>\n",
              "      <td>20.000000</td>\n",
              "      <td>22.769375</td>\n",
              "      <td>60.261953</td>\n",
              "      <td>5.971693</td>\n",
              "      <td>64.551686</td>\n",
              "      <td>5.000000</td>\n",
              "    </tr>\n",
              "    <tr>\n",
              "      <th>50%</th>\n",
              "      <td>37.000000</td>\n",
              "      <td>51.000000</td>\n",
              "      <td>32.000000</td>\n",
              "      <td>25.598693</td>\n",
              "      <td>80.473146</td>\n",
              "      <td>6.425045</td>\n",
              "      <td>94.867624</td>\n",
              "      <td>10.500000</td>\n",
              "    </tr>\n",
              "    <tr>\n",
              "      <th>75%</th>\n",
              "      <td>84.250000</td>\n",
              "      <td>68.000000</td>\n",
              "      <td>49.000000</td>\n",
              "      <td>28.561654</td>\n",
              "      <td>89.948771</td>\n",
              "      <td>6.923643</td>\n",
              "      <td>124.267508</td>\n",
              "      <td>16.000000</td>\n",
              "    </tr>\n",
              "    <tr>\n",
              "      <th>max</th>\n",
              "      <td>140.000000</td>\n",
              "      <td>145.000000</td>\n",
              "      <td>205.000000</td>\n",
              "      <td>43.675493</td>\n",
              "      <td>99.981876</td>\n",
              "      <td>9.935091</td>\n",
              "      <td>298.560117</td>\n",
              "      <td>21.000000</td>\n",
              "    </tr>\n",
              "  </tbody>\n",
              "</table>\n",
              "</div>"
            ],
            "text/plain": [
              "                 N            P  ...     rainfall  label_numeric\n",
              "count  2200.000000  2200.000000  ...  2200.000000    2200.000000\n",
              "mean     50.551818    53.362727  ...   103.463655      10.500000\n",
              "std      36.917334    32.985883  ...    54.958389       6.345731\n",
              "min       0.000000     5.000000  ...    20.211267       0.000000\n",
              "25%      21.000000    28.000000  ...    64.551686       5.000000\n",
              "50%      37.000000    51.000000  ...    94.867624      10.500000\n",
              "75%      84.250000    68.000000  ...   124.267508      16.000000\n",
              "max     140.000000   145.000000  ...   298.560117      21.000000\n",
              "\n",
              "[8 rows x 8 columns]"
            ]
          },
          "metadata": {
            "tags": []
          },
          "execution_count": 6
        }
      ]
    },
    {
      "cell_type": "code",
      "metadata": {
        "colab": {
          "base_uri": "https://localhost:8080/"
        },
        "id": "5XmONAlpGta5",
        "outputId": "ed59eaa4-482c-4f31-e935-e783f52cc0b3"
      },
      "source": [
        "corr = dataset.corr()\n",
        "print(corr)"
      ],
      "execution_count": 7,
      "outputs": [
        {
          "output_type": "stream",
          "text": [
            "                      N         P         K  ...        ph  rainfall  label_numeric\n",
            "N              1.000000 -0.231460 -0.140512  ...  0.096683  0.059020       0.282787\n",
            "P             -0.231460  1.000000  0.736232  ... -0.138019 -0.063839      -0.167951\n",
            "K             -0.140512  0.736232  1.000000  ... -0.169503 -0.053461       0.143703\n",
            "temperature    0.026504 -0.127541 -0.160387  ... -0.017795 -0.030084       0.180571\n",
            "humidity       0.190688 -0.118734  0.190859  ... -0.008483  0.094423       0.524452\n",
            "ph             0.096683 -0.138019 -0.169503  ...  1.000000 -0.109069       0.052389\n",
            "rainfall       0.059020 -0.063839 -0.053461  ... -0.109069  1.000000       0.121486\n",
            "label_numeric  0.282787 -0.167951  0.143703  ...  0.052389  0.121486       1.000000\n",
            "\n",
            "[8 rows x 8 columns]\n"
          ],
          "name": "stdout"
        }
      ]
    },
    {
      "cell_type": "code",
      "metadata": {
        "colab": {
          "base_uri": "https://localhost:8080/",
          "height": 348
        },
        "id": "PB11XHgEGu3N",
        "outputId": "5b898a8e-aa1f-411f-b282-6d34fcc20fd8"
      },
      "source": [
        "sns.heatmap(corr)"
      ],
      "execution_count": 8,
      "outputs": [
        {
          "output_type": "execute_result",
          "data": {
            "text/plain": [
              "<matplotlib.axes._subplots.AxesSubplot at 0x7fde3bdb0dd0>"
            ]
          },
          "metadata": {
            "tags": []
          },
          "execution_count": 8
        },
        {
          "output_type": "display_data",
          "data": {
            "image/png": "[encoded data removed]",
            "text/plain": [
              "<Figure size 432x288 with 2 Axes>"
            ]
          },
          "metadata": {
            "tags": [],
            "needs_background": "light"
          }
        }
      ]
    },
    {
      "cell_type": "code",
      "metadata": {
        "id": "M9uf_OelGwac"
      },
      "source": [
        "# split data into two parts training and testing \n",
        "train_set = dataset.sample(frac=0.80,random_state=0)\n",
        "test_set = dataset.drop(train_set.index)"
      ],
      "execution_count": 9,
      "outputs": []
    },
    {
      "cell_type": "code",
      "metadata": {
        "colab": {
          "base_uri": "https://localhost:8080/"
        },
        "id": "I00qMz_HG37N",
        "outputId": "4088176d-27d0-434c-d1e9-0c6770114716"
      },
      "source": [
        "print(train_set.shape)\n",
        "print(test_set.shape)"
      ],
      "execution_count": 10,
      "outputs": [
        {
          "output_type": "stream",
          "text": [
            "(1760, 9)\n",
            "(440, 9)\n"
          ],
          "name": "stdout"
        }
      ]
    },
    {
      "cell_type": "code",
      "metadata": {
        "id": "CXAxilvXG8LX"
      },
      "source": [
        "#bifurgate in feature and target\n",
        "train_set_feature = train_set.iloc[:,0:7].values\n",
        "train_set_target = train_set.iloc[:,-2:-1].values\n",
        "test_set_feature = test_set.iloc[:,0:7].values\n",
        "test_set_target = test_set.iloc[:,-2:-1].values\n",
        "\n",
        "data_feature = dataset.iloc[:,0:7].values\n",
        "data_target = dataset.iloc[:,-2:-1].values"
      ],
      "execution_count": 11,
      "outputs": []
    },
    {
      "cell_type": "code",
      "metadata": {
        "id": "Qx_WiSuAIJU6"
      },
      "source": [
        "train_set_target = train_set_target.reshape(1760,)"
      ],
      "execution_count": 12,
      "outputs": []
    },
    {
      "cell_type": "code",
      "metadata": {
        "id": "v1yg8TYEG-DB"
      },
      "source": [
        "# It will give precision,recall,f1-score,support for each class\n",
        "#macro average : averaging the unweighted mean per label\n",
        "#weighted average : averaging the support-weighted mean per label\n",
        "def make_report(y_actual,y_pred):\n",
        "    confusionMatrix=confusion_matrix(y_actual, y_pred, labels=[i for i in range(22)])\n",
        "    report = classification_report(y_actual, y_pred)\n",
        "    print(report)\n",
        "    "
      ],
      "execution_count": 13,
      "outputs": []
    },
    {
      "cell_type": "code",
      "metadata": {
        "id": "f-5bBaSoI0J5"
      },
      "source": [
        "def find_accuracy(target,prediction,no_of_class_prediction,no_of_class_target):\n",
        "    lst_prediction=[]\n",
        "    Dict={}\n",
        "    for i in range(no_of_class_prediction):\n",
        "        lst_prediction.append(np.where(prediction == i))\n",
        "    for i in range(no_of_class_target):\n",
        "        lst_target = np.where(target == i)\n",
        "        count = -1\n",
        "        ind =-1\n",
        "        for j in range(len(lst_prediction)):\n",
        "            intersection = len(np.intersect1d(lst_target,lst_prediction[j]))\n",
        "            union = len(np.union1d(lst_target,lst_prediction[j]))\n",
        "            if((intersection/union)>count):\n",
        "                ind = j\n",
        "                count=(intersection/union)\n",
        "        Dict[i]=ind\n",
        "    count=0\n",
        "    count_1=0\n",
        "    target_report =[]\n",
        "    for i in range(len(target)):\n",
        "        \n",
        "        if(prediction[i]==Dict[target[i][0]]):\n",
        "            count+=1  \n",
        "    \n",
        "    return count/len(target)\n"
      ],
      "execution_count": 14,
      "outputs": []
    },
    {
      "cell_type": "code",
      "metadata": {
        "colab": {
          "base_uri": "https://localhost:8080/"
        },
        "id": "XimCT4wkHO3-",
        "outputId": "5dbf4392-02da-4540-e7ce-e5a8ad7e13e5"
      },
      "source": [
        "print(train_set_feature.shape)\n",
        "print(train_set_target.shape)\n",
        "print(test_set_feature.shape)\n",
        "print(test_set_target.shape)"
      ],
      "execution_count": 15,
      "outputs": [
        {
          "output_type": "stream",
          "text": [
            "(1760, 7)\n",
            "(1760,)\n",
            "(440, 7)\n",
            "(440, 1)\n"
          ],
          "name": "stdout"
        }
      ]
    },
    {
      "cell_type": "markdown",
      "metadata": {
        "id": "Uixjao9iIXkk"
      },
      "source": [
        "# K -Nearest Neighbors"
      ]
    },
    {
      "cell_type": "code",
      "metadata": {
        "colab": {
          "base_uri": "https://localhost:8080/",
          "height": 333
        },
        "id": "mWbO9z9PHQxb",
        "outputId": "62db23f1-cf9a-48e4-fa58-c400326afc4a"
      },
      "source": [
        "score=[]\n",
        "for i in range(1,21):\n",
        "    model = KNeighborsClassifier(n_neighbors=i,weights='uniform')\n",
        "    model.fit(train_set_feature,train_set_target)\n",
        "    prediction = model.predict(test_set_feature)\n",
        "    score.append(model.score(test_set_feature, test_set_target) * 100)\n",
        "x=np.arange(1,21,step=1)\n",
        "plt.plot(x,score)\n",
        "plt.title('KNN')\n",
        "plt.xlabel('k-value')\n",
        "plt.ylabel('Score')\n",
        "plt.show()\n",
        "print(score)"
      ],
      "execution_count": 16,
      "outputs": [
        {
          "output_type": "display_data",
          "data": {
            "image/png": "[encoded data removed]",
            "text/plain": [
              "<Figure size 432x288 with 1 Axes>"
            ]
          },
          "metadata": {
            "tags": [],
            "needs_background": "light"
          }
        },
        {
          "output_type": "stream",
          "text": [
            "[98.86363636363636, 98.86363636363636, 98.63636363636363, 98.63636363636363, 99.0909090909091, 98.86363636363636, 98.86363636363636, 98.63636363636363, 98.86363636363636, 98.63636363636363, 98.63636363636363, 98.18181818181819, 97.27272727272728, 97.95454545454545, 97.5, 97.5, 97.72727272727273, 97.04545454545455, 98.4090909090909, 98.18181818181819]\n"
          ],
          "name": "stdout"
        }
      ]
    },
    {
      "cell_type": "code",
      "metadata": {
        "colab": {
          "base_uri": "https://localhost:8080/"
        },
        "id": "h0s23BIfHV6h",
        "outputId": "0e3507f5-834b-411d-b4e3-426758089798"
      },
      "source": [
        "model = KNeighborsClassifier(n_neighbors=5,weights='uniform')\n",
        "model.fit(train_set_feature,train_set_target)\n",
        "prediction = model.predict(test_set_feature)\n",
        "score = model.score(test_set_feature, test_set_target) * 100\n",
        "print(score)"
      ],
      "execution_count": 17,
      "outputs": [
        {
          "output_type": "stream",
          "text": [
            "99.0909090909091\n"
          ],
          "name": "stdout"
        }
      ]
    },
    {
      "cell_type": "code",
      "metadata": {
        "colab": {
          "base_uri": "https://localhost:8080/"
        },
        "id": "8tRCbyzXIRSh",
        "outputId": "76ba2022-24aa-476c-90ce-6b5797dfc1de"
      },
      "source": [
        "make_report(test_set_target,prediction)"
      ],
      "execution_count": 18,
      "outputs": [
        {
          "output_type": "stream",
          "text": [
            "              precision    recall  f1-score   support\n",
            "\n",
            "           0       0.94      0.94      0.94        17\n",
            "           1       1.00      1.00      1.00        21\n",
            "           2       1.00      1.00      1.00        18\n",
            "           3       1.00      1.00      1.00        14\n",
            "           4       1.00      1.00      1.00        16\n",
            "           5       1.00      0.95      0.97        20\n",
            "           6       1.00      1.00      1.00        18\n",
            "           7       1.00      1.00      1.00        19\n",
            "           8       0.96      1.00      0.98        27\n",
            "           9       1.00      1.00      1.00        21\n",
            "          10       1.00      1.00      1.00        18\n",
            "          11       1.00      1.00      1.00        21\n",
            "          12       1.00      1.00      1.00        16\n",
            "          13       1.00      1.00      1.00        24\n",
            "          14       1.00      1.00      1.00        20\n",
            "          15       1.00      1.00      1.00        24\n",
            "          16       1.00      1.00      1.00        20\n",
            "          17       1.00      1.00      1.00        17\n",
            "          18       1.00      1.00      1.00        22\n",
            "          19       1.00      1.00      1.00        24\n",
            "          20       0.91      0.95      0.93        21\n",
            "          21       1.00      0.95      0.98        22\n",
            "\n",
            "    accuracy                           0.99       440\n",
            "   macro avg       0.99      0.99      0.99       440\n",
            "weighted avg       0.99      0.99      0.99       440\n",
            "\n"
          ],
          "name": "stdout"
        }
      ]
    },
    {
      "cell_type": "markdown",
      "metadata": {
        "id": "9QpspuyoIcUi"
      },
      "source": [
        "# Random Forest"
      ]
    },
    {
      "cell_type": "code",
      "metadata": {
        "colab": {
          "base_uri": "https://localhost:8080/"
        },
        "id": "tt_OXCWPITAq",
        "outputId": "4e30ff26-bb0a-47cc-8705-3e319edef849"
      },
      "source": [
        "model = RandomForestClassifier(n_estimators=1000,random_state=0)\n",
        "model.fit(train_set_feature,train_set_target)\n",
        "prediction = model.predict(test_set_feature)\n",
        "\n",
        "print(model.score(test_set_feature, test_set_target) * 100)"
      ],
      "execution_count": 19,
      "outputs": [
        {
          "output_type": "stream",
          "text": [
            "99.77272727272727\n"
          ],
          "name": "stdout"
        }
      ]
    },
    {
      "cell_type": "code",
      "metadata": {
        "colab": {
          "base_uri": "https://localhost:8080/"
        },
        "id": "Gf83I0YpIWd6",
        "outputId": "146c5f4f-9bbf-4a13-d92c-22587132ce56"
      },
      "source": [
        "make_report(test_set_target,prediction)"
      ],
      "execution_count": 20,
      "outputs": [
        {
          "output_type": "stream",
          "text": [
            "              precision    recall  f1-score   support\n",
            "\n",
            "           0       0.94      1.00      0.97        17\n",
            "           1       1.00      1.00      1.00        21\n",
            "           2       1.00      1.00      1.00        18\n",
            "           3       1.00      1.00      1.00        14\n",
            "           4       1.00      1.00      1.00        16\n",
            "           5       1.00      1.00      1.00        20\n",
            "           6       1.00      1.00      1.00        18\n",
            "           7       1.00      1.00      1.00        19\n",
            "           8       1.00      1.00      1.00        27\n",
            "           9       1.00      1.00      1.00        21\n",
            "          10       1.00      1.00      1.00        18\n",
            "          11       1.00      1.00      1.00        21\n",
            "          12       1.00      1.00      1.00        16\n",
            "          13       1.00      1.00      1.00        24\n",
            "          14       1.00      1.00      1.00        20\n",
            "          15       1.00      1.00      1.00        24\n",
            "          16       1.00      1.00      1.00        20\n",
            "          17       1.00      1.00      1.00        17\n",
            "          18       1.00      1.00      1.00        22\n",
            "          19       1.00      1.00      1.00        24\n",
            "          20       1.00      0.95      0.98        21\n",
            "          21       1.00      1.00      1.00        22\n",
            "\n",
            "    accuracy                           1.00       440\n",
            "   macro avg       1.00      1.00      1.00       440\n",
            "weighted avg       1.00      1.00      1.00       440\n",
            "\n"
          ],
          "name": "stdout"
        }
      ]
    },
    {
      "cell_type": "code",
      "metadata": {
        "id": "pDo9uKmV0tHn"
      },
      "source": [
        "#Here in Supervised Machine learning algorithm we get accuracy as\n",
        "# K-nearest neighbour = 99.09\n",
        "# Random Forest = 99.77\n",
        "# So from this  we can say that Random Forest is more advisable compare to KNN"
      ],
      "execution_count": 21,
      "outputs": []
    },
    {
      "cell_type": "markdown",
      "metadata": {
        "id": "cIviVZ48InIV"
      },
      "source": [
        "# KMeans"
      ]
    },
    {
      "cell_type": "code",
      "metadata": {
        "colab": {
          "base_uri": "https://localhost:8080/",
          "height": 295
        },
        "id": "x2I5i80OIoij",
        "outputId": "00e7234d-cdc3-4c9b-bd9f-5d2edeead9e6"
      },
      "source": [
        "wcss=[]\n",
        "for i in range(1,30):\n",
        "    kmeans=KMeans(n_clusters=i,init='k-means++',random_state=0)\n",
        "    kmeans.fit(data_feature)\n",
        "    wcss.append(kmeans.inertia_)\n",
        "\n",
        "plt.plot(range(1,30),wcss)\n",
        "plt.title('The Elbow Method')\n",
        "plt.xlabel('Number of clusters')\n",
        "plt.ylabel('WCSS')\n",
        "plt.show()"
      ],
      "execution_count": 22,
      "outputs": [
        {
          "output_type": "display_data",
          "data": {
            "image/png": "[encoded data removed]",
            "text/plain": [
              "<Figure size 432x288 with 1 Axes>"
            ]
          },
          "metadata": {
            "tags": [],
            "needs_background": "light"
          }
        }
      ]
    },
    {
      "cell_type": "code",
      "metadata": {
        "colab": {
          "base_uri": "https://localhost:8080/"
        },
        "id": "CAyl0raZIrO-",
        "outputId": "822bdeb8-c322-45a5-ad81-34d87e57ea3d"
      },
      "source": [
        "#in data there are 22 class but according to elbow method 10 is good for k soIi have take k as 10\n",
        "kmeans=KMeans(n_clusters=10,init='k-means++',random_state=0)\n",
        "prediction=kmeans.fit_predict(data_feature)\n",
        "print(find_accuracy(data_target,prediction,10,22))"
      ],
      "execution_count": 23,
      "outputs": [
        {
          "output_type": "stream",
          "text": [
            "0.8881818181818182\n"
          ],
          "name": "stdout"
        }
      ]
    },
    {
      "cell_type": "markdown",
      "metadata": {
        "id": "vN9E39wJUGcH"
      },
      "source": [
        "# Hierarchical Clustering"
      ]
    },
    {
      "cell_type": "code",
      "metadata": {
        "colab": {
          "base_uri": "https://localhost:8080/",
          "height": 268
        },
        "id": "5BMKAD3VKD7R",
        "outputId": "3f9e27da-8576-4a9c-f9c5-2b98ed8b8f5b"
      },
      "source": [
        "dendogram = sch.dendrogram(sch.linkage(data_feature,method='ward'))"
      ],
      "execution_count": 24,
      "outputs": [
        {
          "output_type": "display_data",
          "data": {
            "image/png": "[encoded data removed]",
            "text/plain": [
              "<Figure size 432x288 with 1 Axes>"
            ]
          },
          "metadata": {
            "tags": [],
            "needs_background": "light"
          }
        }
      ]
    },
    {
      "cell_type": "code",
      "metadata": {
        "colab": {
          "base_uri": "https://localhost:8080/"
        },
        "id": "L-PhpdxXUKja",
        "outputId": "0270487f-1342-42b2-b2ff-c8eb2d7c5c30"
      },
      "source": [
        "cluster= 22\n",
        "hc = AgglomerativeClustering(n_clusters=cluster,affinity ='euclidean', linkage = 'ward')\n",
        "prediction = hc.fit_predict(data_feature)\n",
        "print(find_accuracy(data_target,prediction,cluster,22))"
      ],
      "execution_count": 25,
      "outputs": [
        {
          "output_type": "stream",
          "text": [
            "0.8613636363636363\n"
          ],
          "name": "stdout"
        }
      ]
    },
    {
      "cell_type": "markdown",
      "metadata": {
        "id": "8ssk-YtgXX9K"
      },
      "source": [
        "# DBSCAN"
      ]
    },
    {
      "cell_type": "code",
      "metadata": {
        "id": "Of-5BlxaUbpa"
      },
      "source": [
        "data_feature_standard = StandardScaler().fit_transform(data_feature)"
      ],
      "execution_count": 26,
      "outputs": []
    },
    {
      "cell_type": "code",
      "metadata": {
        "id": "TNgPcgKaXa6d"
      },
      "source": [
        "nearesneighvour=NearestNeighbors(3).fit(data_feature_standard)"
      ],
      "execution_count": 27,
      "outputs": []
    },
    {
      "cell_type": "code",
      "metadata": {
        "id": "uYSJBG8_XcT-"
      },
      "source": [
        "distances,indices = nearesneighvour.kneighbors(data_feature_standard)"
      ],
      "execution_count": 28,
      "outputs": []
    },
    {
      "cell_type": "code",
      "metadata": {
        "id": "FiSpiY4TXnR7"
      },
      "source": [
        "distanceDec = sorted(distances[:,2],reverse=True)"
      ],
      "execution_count": 29,
      "outputs": []
    },
    {
      "cell_type": "code",
      "metadata": {
        "colab": {
          "base_uri": "https://localhost:8080/",
          "height": 283
        },
        "id": "CLkx0c62XodL",
        "outputId": "9a5568f9-67d8-4c60-d49e-cb9a1228c08d"
      },
      "source": [
        "plt.plot(indices[:,0],distanceDec)"
      ],
      "execution_count": 30,
      "outputs": [
        {
          "output_type": "execute_result",
          "data": {
            "text/plain": [
              "[<matplotlib.lines.Line2D at 0x7fde323f2d90>]"
            ]
          },
          "metadata": {
            "tags": []
          },
          "execution_count": 30
        },
        {
          "output_type": "display_data",
          "data": {
            "image/png": "[encoded data removed]",
            "text/plain": [
              "<Figure size 432x288 with 1 Axes>"
            ]
          },
          "metadata": {
            "tags": [],
            "needs_background": "light"
          }
        }
      ]
    },
    {
      "cell_type": "code",
      "metadata": {
        "id": "SlrdlwsaXpyA"
      },
      "source": [
        "db = DBSCAN(eps=0.7,min_samples=3).fit(data_feature_standard)\n",
        "labels = db.labels_"
      ],
      "execution_count": 31,
      "outputs": []
    },
    {
      "cell_type": "code",
      "metadata": {
        "id": "yTitGHVDXsE8"
      },
      "source": [
        "core_sample_mask=np.zeros_like(db.labels_,dtype=bool)\n",
        "core_sample_mask[db.core_sample_indices_]=True"
      ],
      "execution_count": 32,
      "outputs": []
    },
    {
      "cell_type": "code",
      "metadata": {
        "colab": {
          "base_uri": "https://localhost:8080/"
        },
        "id": "wMw5CUuAXtfp",
        "outputId": "46462256-7663-46d3-c5e2-5b21ac154af5"
      },
      "source": [
        "core_sample_mask"
      ],
      "execution_count": 33,
      "outputs": [
        {
          "output_type": "execute_result",
          "data": {
            "text/plain": [
              "array([ True,  True, False, ...,  True,  True,  True])"
            ]
          },
          "metadata": {
            "tags": []
          },
          "execution_count": 33
        }
      ]
    },
    {
      "cell_type": "code",
      "metadata": {
        "id": "TUobzButXu3h"
      },
      "source": [
        "prediction = db.fit_predict(data_feature_standard)"
      ],
      "execution_count": 34,
      "outputs": []
    },
    {
      "cell_type": "code",
      "metadata": {
        "colab": {
          "base_uri": "https://localhost:8080/"
        },
        "id": "QFnII6zrXxKW",
        "outputId": "0bf89b58-dece-4ce9-b648-a1f876a88309"
      },
      "source": [
        "unique_labels = set(prediction)\n",
        "\n",
        "print(find_accuracy(data_target,prediction,len(unique_labels),22))"
      ],
      "execution_count": 35,
      "outputs": [
        {
          "output_type": "stream",
          "text": [
            "0.8481818181818181\n"
          ],
          "name": "stdout"
        }
      ]
    },
    {
      "cell_type": "code",
      "metadata": {
        "id": "UBouV8W6X1ky"
      },
      "source": [
        "# If we see accuracy in unsupervised Machine Learning algorithm we get as\n",
        "# K-Means = 0.888\n",
        "# Hierarchical = 0.861\n",
        "# DBSCAN = 0.848\n",
        "# So from this  we can say that K-Means is more advisable compare to Hierarchical and DBSCAN"
      ],
      "execution_count": 36,
      "outputs": []
    }
  ]
}